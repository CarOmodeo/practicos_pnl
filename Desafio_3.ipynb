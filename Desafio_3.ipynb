{
  "cells": [
    {
      "cell_type": "markdown",
      "metadata": {
        "id": "view-in-github",
        "colab_type": "text"
      },
      "source": [
        "<a href=\"https://colab.research.google.com/github/CarOmodeo/practicos_pnl/blob/main/Desafio_3.ipynb\" target=\"_parent\"><img src=\"https://colab.research.google.com/assets/colab-badge.svg\" alt=\"Open In Colab\"/></a>"
      ]
    },
    {
      "cell_type": "markdown",
      "metadata": {
        "id": "Bi9skYH8K78Q"
      },
      "source": [
        "#Desafio 3 - RNNs\n"
      ]
    },
    {
      "cell_type": "markdown",
      "metadata": {
        "id": "GNzwF_Q5LLG1"
      },
      "source": [
        "## Alumno: Carolina Pérez Omodeo"
      ]
    },
    {
      "cell_type": "markdown",
      "metadata": {
        "id": "rfNXH1BwLRKc"
      },
      "source": [
        "### Consigna\n",
        " * Seleccionar un corpus de texto sobre el cual entrenar el modelo de lenguaje.\n",
        " * Realizar el pre-procesamiento adecuado para tokenizar el corpus, estructurar el dataset y separar entre datos de entrenamiento y validación.\n",
        " * Proponer arquitecturas de redes neuronales basadas en unidades recurrentes para implementar un modelo de lenguaje.\n",
        " * Con el o los modelos que consideren adecuados, generar nuevas secuencias a partir de secuencias de contexto con las estrategias de greedy search y beam search determístico y estocástico. En este último caso observar el efecto de la temperatura en la generación de secuencias.\n",
        "\n",
        " Utilizar otro dataset y poner en práctica la predicción de próxima palabra"
      ]
    },
    {
      "cell_type": "code",
      "execution_count": 1,
      "metadata": {
        "id": "HiFpd_NZK0mC"
      },
      "outputs": [],
      "source": [
        "import random\n",
        "import io\n",
        "import pickle\n",
        "\n",
        "import numpy as np\n",
        "import pandas as pd\n",
        "import matplotlib.pyplot as plt\n",
        "from sklearn.model_selection import train_test_split\n",
        "\n",
        "import tensorflow as tf\n",
        "from tensorflow import keras\n",
        "from tensorflow.keras import layers\n",
        "from keras.utils import to_categorical\n",
        "from keras.models import Sequential\n",
        "from keras.layers import Dense, LSTM, Embedding, Dropout\n",
        "from tensorflow.keras.losses import SparseCategoricalCrossentropy"
      ]
    },
    {
      "cell_type": "code",
      "execution_count": 2,
      "metadata": {
        "id": "HmYdz-AD8hKZ"
      },
      "outputs": [],
      "source": [
        "# Habilitar el uso de memoria virtual para evitar el OOM\n",
        "gpus = tf.config.experimental.list_physical_devices('GPU')\n",
        "for gpu in gpus:\n",
        "    tf.config.experimental.set_memory_growth(gpu, True)"
      ]
    },
    {
      "cell_type": "markdown",
      "metadata": {
        "id": "DLZmx0M2MJG2"
      },
      "source": [
        "### Datos\n",
        "Se intentó utilizar el mismo libro del desafío anterior (Orgullo y Prejuicio de Jane Austen), pero debido a un error en la etapa de entrenamiento causado por problemas de falta de memoria, se optó por trabajar con un cuento corto. El cuento infantil seleccionado fue **\"La Cenicienta\"** de los Hermanos Grimm.\n",
        "\n",
        "Sin embargo, al utilizar La Cenicienta, se llegó a la conclusión de que el modelo no estaba aprendiendo, a pesar de modificar los hiperparámetros, agregar capas al modelo, entre otras estrategias. Debido a esto, se decidió finalmente emplear una novela corta: lo suficientemente extensa para contar con un vocabulario amplio, pero lo suficientemente breve para evitar problemas de memoria. La novela seleccionada fue El Fantasma de Canterville de Oscar Wilde"
      ]
    },
    {
      "cell_type": "code",
      "execution_count": 282,
      "metadata": {
        "id": "YU2rJc70MU3f",
        "colab": {
          "base_uri": "https://localhost:8080/",
          "height": 73
        },
        "outputId": "9a04ecf2-1d78-490a-de69-f013383ab2ee"
      },
      "outputs": [
        {
          "output_type": "display_data",
          "data": {
            "text/plain": [
              "<IPython.core.display.HTML object>"
            ],
            "text/html": [
              "\n",
              "     <input type=\"file\" id=\"files-107d9344-4516-423e-9323-0b88e787833f\" name=\"files[]\" multiple disabled\n",
              "        style=\"border:none\" />\n",
              "     <output id=\"result-107d9344-4516-423e-9323-0b88e787833f\">\n",
              "      Upload widget is only available when the cell has been executed in the\n",
              "      current browser session. Please rerun this cell to enable.\n",
              "      </output>\n",
              "      <script>// Copyright 2017 Google LLC\n",
              "//\n",
              "// Licensed under the Apache License, Version 2.0 (the \"License\");\n",
              "// you may not use this file except in compliance with the License.\n",
              "// You may obtain a copy of the License at\n",
              "//\n",
              "//      http://www.apache.org/licenses/LICENSE-2.0\n",
              "//\n",
              "// Unless required by applicable law or agreed to in writing, software\n",
              "// distributed under the License is distributed on an \"AS IS\" BASIS,\n",
              "// WITHOUT WARRANTIES OR CONDITIONS OF ANY KIND, either express or implied.\n",
              "// See the License for the specific language governing permissions and\n",
              "// limitations under the License.\n",
              "\n",
              "/**\n",
              " * @fileoverview Helpers for google.colab Python module.\n",
              " */\n",
              "(function(scope) {\n",
              "function span(text, styleAttributes = {}) {\n",
              "  const element = document.createElement('span');\n",
              "  element.textContent = text;\n",
              "  for (const key of Object.keys(styleAttributes)) {\n",
              "    element.style[key] = styleAttributes[key];\n",
              "  }\n",
              "  return element;\n",
              "}\n",
              "\n",
              "// Max number of bytes which will be uploaded at a time.\n",
              "const MAX_PAYLOAD_SIZE = 100 * 1024;\n",
              "\n",
              "function _uploadFiles(inputId, outputId) {\n",
              "  const steps = uploadFilesStep(inputId, outputId);\n",
              "  const outputElement = document.getElementById(outputId);\n",
              "  // Cache steps on the outputElement to make it available for the next call\n",
              "  // to uploadFilesContinue from Python.\n",
              "  outputElement.steps = steps;\n",
              "\n",
              "  return _uploadFilesContinue(outputId);\n",
              "}\n",
              "\n",
              "// This is roughly an async generator (not supported in the browser yet),\n",
              "// where there are multiple asynchronous steps and the Python side is going\n",
              "// to poll for completion of each step.\n",
              "// This uses a Promise to block the python side on completion of each step,\n",
              "// then passes the result of the previous step as the input to the next step.\n",
              "function _uploadFilesContinue(outputId) {\n",
              "  const outputElement = document.getElementById(outputId);\n",
              "  const steps = outputElement.steps;\n",
              "\n",
              "  const next = steps.next(outputElement.lastPromiseValue);\n",
              "  return Promise.resolve(next.value.promise).then((value) => {\n",
              "    // Cache the last promise value to make it available to the next\n",
              "    // step of the generator.\n",
              "    outputElement.lastPromiseValue = value;\n",
              "    return next.value.response;\n",
              "  });\n",
              "}\n",
              "\n",
              "/**\n",
              " * Generator function which is called between each async step of the upload\n",
              " * process.\n",
              " * @param {string} inputId Element ID of the input file picker element.\n",
              " * @param {string} outputId Element ID of the output display.\n",
              " * @return {!Iterable<!Object>} Iterable of next steps.\n",
              " */\n",
              "function* uploadFilesStep(inputId, outputId) {\n",
              "  const inputElement = document.getElementById(inputId);\n",
              "  inputElement.disabled = false;\n",
              "\n",
              "  const outputElement = document.getElementById(outputId);\n",
              "  outputElement.innerHTML = '';\n",
              "\n",
              "  const pickedPromise = new Promise((resolve) => {\n",
              "    inputElement.addEventListener('change', (e) => {\n",
              "      resolve(e.target.files);\n",
              "    });\n",
              "  });\n",
              "\n",
              "  const cancel = document.createElement('button');\n",
              "  inputElement.parentElement.appendChild(cancel);\n",
              "  cancel.textContent = 'Cancel upload';\n",
              "  const cancelPromise = new Promise((resolve) => {\n",
              "    cancel.onclick = () => {\n",
              "      resolve(null);\n",
              "    };\n",
              "  });\n",
              "\n",
              "  // Wait for the user to pick the files.\n",
              "  const files = yield {\n",
              "    promise: Promise.race([pickedPromise, cancelPromise]),\n",
              "    response: {\n",
              "      action: 'starting',\n",
              "    }\n",
              "  };\n",
              "\n",
              "  cancel.remove();\n",
              "\n",
              "  // Disable the input element since further picks are not allowed.\n",
              "  inputElement.disabled = true;\n",
              "\n",
              "  if (!files) {\n",
              "    return {\n",
              "      response: {\n",
              "        action: 'complete',\n",
              "      }\n",
              "    };\n",
              "  }\n",
              "\n",
              "  for (const file of files) {\n",
              "    const li = document.createElement('li');\n",
              "    li.append(span(file.name, {fontWeight: 'bold'}));\n",
              "    li.append(span(\n",
              "        `(${file.type || 'n/a'}) - ${file.size} bytes, ` +\n",
              "        `last modified: ${\n",
              "            file.lastModifiedDate ? file.lastModifiedDate.toLocaleDateString() :\n",
              "                                    'n/a'} - `));\n",
              "    const percent = span('0% done');\n",
              "    li.appendChild(percent);\n",
              "\n",
              "    outputElement.appendChild(li);\n",
              "\n",
              "    const fileDataPromise = new Promise((resolve) => {\n",
              "      const reader = new FileReader();\n",
              "      reader.onload = (e) => {\n",
              "        resolve(e.target.result);\n",
              "      };\n",
              "      reader.readAsArrayBuffer(file);\n",
              "    });\n",
              "    // Wait for the data to be ready.\n",
              "    let fileData = yield {\n",
              "      promise: fileDataPromise,\n",
              "      response: {\n",
              "        action: 'continue',\n",
              "      }\n",
              "    };\n",
              "\n",
              "    // Use a chunked sending to avoid message size limits. See b/62115660.\n",
              "    let position = 0;\n",
              "    do {\n",
              "      const length = Math.min(fileData.byteLength - position, MAX_PAYLOAD_SIZE);\n",
              "      const chunk = new Uint8Array(fileData, position, length);\n",
              "      position += length;\n",
              "\n",
              "      const base64 = btoa(String.fromCharCode.apply(null, chunk));\n",
              "      yield {\n",
              "        response: {\n",
              "          action: 'append',\n",
              "          file: file.name,\n",
              "          data: base64,\n",
              "        },\n",
              "      };\n",
              "\n",
              "      let percentDone = fileData.byteLength === 0 ?\n",
              "          100 :\n",
              "          Math.round((position / fileData.byteLength) * 100);\n",
              "      percent.textContent = `${percentDone}% done`;\n",
              "\n",
              "    } while (position < fileData.byteLength);\n",
              "  }\n",
              "\n",
              "  // All done.\n",
              "  yield {\n",
              "    response: {\n",
              "      action: 'complete',\n",
              "    }\n",
              "  };\n",
              "}\n",
              "\n",
              "scope.google = scope.google || {};\n",
              "scope.google.colab = scope.google.colab || {};\n",
              "scope.google.colab._files = {\n",
              "  _uploadFiles,\n",
              "  _uploadFilesContinue,\n",
              "};\n",
              "})(self);\n",
              "</script> "
            ]
          },
          "metadata": {}
        },
        {
          "output_type": "stream",
          "name": "stdout",
          "text": [
            "Saving El Fantasma de Canterville.txt to El Fantasma de Canterville.txt\n"
          ]
        }
      ],
      "source": [
        "from google.colab import files\n",
        "uploaded = files.upload()"
      ]
    },
    {
      "cell_type": "code",
      "execution_count": 283,
      "metadata": {
        "id": "ALQp4vW8MibK",
        "colab": {
          "base_uri": "https://localhost:8080/",
          "height": 206
        },
        "outputId": "59897533-9a1a-4ad5-9dd0-514ce3ddde82"
      },
      "outputs": [
        {
          "output_type": "execute_result",
          "data": {
            "text/plain": [
              "                                                   0\n",
              "0                         El Fantasma de Canterville\n",
              "1                                        Oscar Wilde\n",
              "2                                       Novela corta\n",
              "3                                                  I\n",
              "4  Cuando míster Hiram B. Otis, el ministro de Am..."
            ],
            "text/html": [
              "\n",
              "  <div id=\"df-d8535303-34af-4316-8a23-50efafdaed0f\" class=\"colab-df-container\">\n",
              "    <div>\n",
              "<style scoped>\n",
              "    .dataframe tbody tr th:only-of-type {\n",
              "        vertical-align: middle;\n",
              "    }\n",
              "\n",
              "    .dataframe tbody tr th {\n",
              "        vertical-align: top;\n",
              "    }\n",
              "\n",
              "    .dataframe thead th {\n",
              "        text-align: right;\n",
              "    }\n",
              "</style>\n",
              "<table border=\"1\" class=\"dataframe\">\n",
              "  <thead>\n",
              "    <tr style=\"text-align: right;\">\n",
              "      <th></th>\n",
              "      <th>0</th>\n",
              "    </tr>\n",
              "  </thead>\n",
              "  <tbody>\n",
              "    <tr>\n",
              "      <th>0</th>\n",
              "      <td>El Fantasma de Canterville</td>\n",
              "    </tr>\n",
              "    <tr>\n",
              "      <th>1</th>\n",
              "      <td>Oscar Wilde</td>\n",
              "    </tr>\n",
              "    <tr>\n",
              "      <th>2</th>\n",
              "      <td>Novela corta</td>\n",
              "    </tr>\n",
              "    <tr>\n",
              "      <th>3</th>\n",
              "      <td>I</td>\n",
              "    </tr>\n",
              "    <tr>\n",
              "      <th>4</th>\n",
              "      <td>Cuando míster Hiram B. Otis, el ministro de Am...</td>\n",
              "    </tr>\n",
              "  </tbody>\n",
              "</table>\n",
              "</div>\n",
              "    <div class=\"colab-df-buttons\">\n",
              "\n",
              "  <div class=\"colab-df-container\">\n",
              "    <button class=\"colab-df-convert\" onclick=\"convertToInteractive('df-d8535303-34af-4316-8a23-50efafdaed0f')\"\n",
              "            title=\"Convert this dataframe to an interactive table.\"\n",
              "            style=\"display:none;\">\n",
              "\n",
              "  <svg xmlns=\"http://www.w3.org/2000/svg\" height=\"24px\" viewBox=\"0 -960 960 960\">\n",
              "    <path d=\"M120-120v-720h720v720H120Zm60-500h600v-160H180v160Zm220 220h160v-160H400v160Zm0 220h160v-160H400v160ZM180-400h160v-160H180v160Zm440 0h160v-160H620v160ZM180-180h160v-160H180v160Zm440 0h160v-160H620v160Z\"/>\n",
              "  </svg>\n",
              "    </button>\n",
              "\n",
              "  <style>\n",
              "    .colab-df-container {\n",
              "      display:flex;\n",
              "      gap: 12px;\n",
              "    }\n",
              "\n",
              "    .colab-df-convert {\n",
              "      background-color: #E8F0FE;\n",
              "      border: none;\n",
              "      border-radius: 50%;\n",
              "      cursor: pointer;\n",
              "      display: none;\n",
              "      fill: #1967D2;\n",
              "      height: 32px;\n",
              "      padding: 0 0 0 0;\n",
              "      width: 32px;\n",
              "    }\n",
              "\n",
              "    .colab-df-convert:hover {\n",
              "      background-color: #E2EBFA;\n",
              "      box-shadow: 0px 1px 2px rgba(60, 64, 67, 0.3), 0px 1px 3px 1px rgba(60, 64, 67, 0.15);\n",
              "      fill: #174EA6;\n",
              "    }\n",
              "\n",
              "    .colab-df-buttons div {\n",
              "      margin-bottom: 4px;\n",
              "    }\n",
              "\n",
              "    [theme=dark] .colab-df-convert {\n",
              "      background-color: #3B4455;\n",
              "      fill: #D2E3FC;\n",
              "    }\n",
              "\n",
              "    [theme=dark] .colab-df-convert:hover {\n",
              "      background-color: #434B5C;\n",
              "      box-shadow: 0px 1px 3px 1px rgba(0, 0, 0, 0.15);\n",
              "      filter: drop-shadow(0px 1px 2px rgba(0, 0, 0, 0.3));\n",
              "      fill: #FFFFFF;\n",
              "    }\n",
              "  </style>\n",
              "\n",
              "    <script>\n",
              "      const buttonEl =\n",
              "        document.querySelector('#df-d8535303-34af-4316-8a23-50efafdaed0f button.colab-df-convert');\n",
              "      buttonEl.style.display =\n",
              "        google.colab.kernel.accessAllowed ? 'block' : 'none';\n",
              "\n",
              "      async function convertToInteractive(key) {\n",
              "        const element = document.querySelector('#df-d8535303-34af-4316-8a23-50efafdaed0f');\n",
              "        const dataTable =\n",
              "          await google.colab.kernel.invokeFunction('convertToInteractive',\n",
              "                                                    [key], {});\n",
              "        if (!dataTable) return;\n",
              "\n",
              "        const docLinkHtml = 'Like what you see? Visit the ' +\n",
              "          '<a target=\"_blank\" href=https://colab.research.google.com/notebooks/data_table.ipynb>data table notebook</a>'\n",
              "          + ' to learn more about interactive tables.';\n",
              "        element.innerHTML = '';\n",
              "        dataTable['output_type'] = 'display_data';\n",
              "        await google.colab.output.renderOutput(dataTable, element);\n",
              "        const docLink = document.createElement('div');\n",
              "        docLink.innerHTML = docLinkHtml;\n",
              "        element.appendChild(docLink);\n",
              "      }\n",
              "    </script>\n",
              "  </div>\n",
              "\n",
              "\n",
              "<div id=\"df-f6e21657-eac6-4b51-8e5c-374625b90391\">\n",
              "  <button class=\"colab-df-quickchart\" onclick=\"quickchart('df-f6e21657-eac6-4b51-8e5c-374625b90391')\"\n",
              "            title=\"Suggest charts\"\n",
              "            style=\"display:none;\">\n",
              "\n",
              "<svg xmlns=\"http://www.w3.org/2000/svg\" height=\"24px\"viewBox=\"0 0 24 24\"\n",
              "     width=\"24px\">\n",
              "    <g>\n",
              "        <path d=\"M19 3H5c-1.1 0-2 .9-2 2v14c0 1.1.9 2 2 2h14c1.1 0 2-.9 2-2V5c0-1.1-.9-2-2-2zM9 17H7v-7h2v7zm4 0h-2V7h2v10zm4 0h-2v-4h2v4z\"/>\n",
              "    </g>\n",
              "</svg>\n",
              "  </button>\n",
              "\n",
              "<style>\n",
              "  .colab-df-quickchart {\n",
              "      --bg-color: #E8F0FE;\n",
              "      --fill-color: #1967D2;\n",
              "      --hover-bg-color: #E2EBFA;\n",
              "      --hover-fill-color: #174EA6;\n",
              "      --disabled-fill-color: #AAA;\n",
              "      --disabled-bg-color: #DDD;\n",
              "  }\n",
              "\n",
              "  [theme=dark] .colab-df-quickchart {\n",
              "      --bg-color: #3B4455;\n",
              "      --fill-color: #D2E3FC;\n",
              "      --hover-bg-color: #434B5C;\n",
              "      --hover-fill-color: #FFFFFF;\n",
              "      --disabled-bg-color: #3B4455;\n",
              "      --disabled-fill-color: #666;\n",
              "  }\n",
              "\n",
              "  .colab-df-quickchart {\n",
              "    background-color: var(--bg-color);\n",
              "    border: none;\n",
              "    border-radius: 50%;\n",
              "    cursor: pointer;\n",
              "    display: none;\n",
              "    fill: var(--fill-color);\n",
              "    height: 32px;\n",
              "    padding: 0;\n",
              "    width: 32px;\n",
              "  }\n",
              "\n",
              "  .colab-df-quickchart:hover {\n",
              "    background-color: var(--hover-bg-color);\n",
              "    box-shadow: 0 1px 2px rgba(60, 64, 67, 0.3), 0 1px 3px 1px rgba(60, 64, 67, 0.15);\n",
              "    fill: var(--button-hover-fill-color);\n",
              "  }\n",
              "\n",
              "  .colab-df-quickchart-complete:disabled,\n",
              "  .colab-df-quickchart-complete:disabled:hover {\n",
              "    background-color: var(--disabled-bg-color);\n",
              "    fill: var(--disabled-fill-color);\n",
              "    box-shadow: none;\n",
              "  }\n",
              "\n",
              "  .colab-df-spinner {\n",
              "    border: 2px solid var(--fill-color);\n",
              "    border-color: transparent;\n",
              "    border-bottom-color: var(--fill-color);\n",
              "    animation:\n",
              "      spin 1s steps(1) infinite;\n",
              "  }\n",
              "\n",
              "  @keyframes spin {\n",
              "    0% {\n",
              "      border-color: transparent;\n",
              "      border-bottom-color: var(--fill-color);\n",
              "      border-left-color: var(--fill-color);\n",
              "    }\n",
              "    20% {\n",
              "      border-color: transparent;\n",
              "      border-left-color: var(--fill-color);\n",
              "      border-top-color: var(--fill-color);\n",
              "    }\n",
              "    30% {\n",
              "      border-color: transparent;\n",
              "      border-left-color: var(--fill-color);\n",
              "      border-top-color: var(--fill-color);\n",
              "      border-right-color: var(--fill-color);\n",
              "    }\n",
              "    40% {\n",
              "      border-color: transparent;\n",
              "      border-right-color: var(--fill-color);\n",
              "      border-top-color: var(--fill-color);\n",
              "    }\n",
              "    60% {\n",
              "      border-color: transparent;\n",
              "      border-right-color: var(--fill-color);\n",
              "    }\n",
              "    80% {\n",
              "      border-color: transparent;\n",
              "      border-right-color: var(--fill-color);\n",
              "      border-bottom-color: var(--fill-color);\n",
              "    }\n",
              "    90% {\n",
              "      border-color: transparent;\n",
              "      border-bottom-color: var(--fill-color);\n",
              "    }\n",
              "  }\n",
              "</style>\n",
              "\n",
              "  <script>\n",
              "    async function quickchart(key) {\n",
              "      const quickchartButtonEl =\n",
              "        document.querySelector('#' + key + ' button');\n",
              "      quickchartButtonEl.disabled = true;  // To prevent multiple clicks.\n",
              "      quickchartButtonEl.classList.add('colab-df-spinner');\n",
              "      try {\n",
              "        const charts = await google.colab.kernel.invokeFunction(\n",
              "            'suggestCharts', [key], {});\n",
              "      } catch (error) {\n",
              "        console.error('Error during call to suggestCharts:', error);\n",
              "      }\n",
              "      quickchartButtonEl.classList.remove('colab-df-spinner');\n",
              "      quickchartButtonEl.classList.add('colab-df-quickchart-complete');\n",
              "    }\n",
              "    (() => {\n",
              "      let quickchartButtonEl =\n",
              "        document.querySelector('#df-f6e21657-eac6-4b51-8e5c-374625b90391 button');\n",
              "      quickchartButtonEl.style.display =\n",
              "        google.colab.kernel.accessAllowed ? 'block' : 'none';\n",
              "    })();\n",
              "  </script>\n",
              "</div>\n",
              "\n",
              "    </div>\n",
              "  </div>\n"
            ],
            "application/vnd.google.colaboratory.intrinsic+json": {
              "type": "dataframe",
              "variable_name": "df",
              "summary": "{\n  \"name\": \"df\",\n  \"rows\": 402,\n  \"fields\": [\n    {\n      \"column\": 0,\n      \"properties\": {\n        \"dtype\": \"string\",\n        \"num_unique_values\": 402,\n        \"samples\": [\n          \"Levant\\u00f3se el fantasma de su asiento lanzando un d\\u00e9bil grito de alegr\\u00eda, cogi\\u00f3 la blonda cabeza entre sus manos, con una gentileza que recordaba los tiempos pasados, y la bes\\u00f3.\",\n          \"\\u2014Significan que tiene usted que llorar conmigo mis pecados, porque no tengo l\\u00e1grimas, y que tiene usted que rezar conmigo por mi alma, porque no tengo fe, y entonces, si ha sido usted siempre dulce, buena y cari\\u00f1osa, el \\u00e1ngel de la muerte se apoderar\\u00e1 de m\\u00ed. Ver\\u00e1 usted seres terribles en las tinieblas y voces funestas murmurar\\u00e1n en sus o\\u00eddos, pero no podr\\u00e1n hacerle ning\\u00fan da\\u00f1o, porque contra la pureza de una ni\\u00f1a no pueden nada las potencias infernales.\",\n          \"De pronto, la mirada de mistress Otis cay\\u00f3 sobre una mancha de un rojo oscuro que hab\\u00eda sobre el pavimento, precisamente al lado de la chimenea y, sin darse cuenta de sus palabras, dijo a mistress Umney:\"\n        ],\n        \"semantic_type\": \"\",\n        \"description\": \"\"\n      }\n    }\n  ]\n}"
            }
          },
          "metadata": {},
          "execution_count": 283
        }
      ],
      "source": [
        "# Armar el dataset utilizando salto de línea para separar las oraciones/docs\n",
        "df = pd.read_csv('El Fantasma de Canterville.txt', sep='/n', header=None, engine = 'python')\n",
        "#df = pd.read_csv('la_cenicienta.txt', sep='/n', header=None, engine = 'python')\n",
        "df.head()\n"
      ]
    },
    {
      "cell_type": "markdown",
      "metadata": {
        "id": "AZhpjB2zMyAS"
      },
      "source": [
        "Una de las primeras decisiones que hay que tomar es el tamaño de contexto de tokens máximo que puede consumir el modelo. Este podría ser un hiperparámetro del problema.\n",
        "\n",
        "Para elegir el tamaño de contexto máximo para este problema se puede explorar el dataset, para ello:\n",
        "\n",
        "* Se consideran las palabras como términos.\n",
        "* Se segmentará el texto del dataset y ses explorará la cantidad de términos presentes."
      ]
    },
    {
      "cell_type": "code",
      "execution_count": 284,
      "metadata": {
        "id": "tQo5nlnmM24j",
        "colab": {
          "base_uri": "https://localhost:8080/"
        },
        "outputId": "f4c2ed73-3a46-4545-e890-de1f82731ccb"
      },
      "outputs": [
        {
          "output_type": "stream",
          "name": "stdout",
          "text": [
            "Cantidad de documentos: 402\n"
          ]
        }
      ],
      "source": [
        "print(\"Cantidad de documentos:\", df.shape[0])"
      ]
    },
    {
      "cell_type": "markdown",
      "metadata": {
        "id": "0tVEC--KM-Tq"
      },
      "source": [
        "#### Paso 1: elegir tamaño del modelo"
      ]
    },
    {
      "cell_type": "code",
      "execution_count": 285,
      "metadata": {
        "id": "xKsDV4uTNCoB"
      },
      "outputs": [],
      "source": [
        "# Usaremos las utilidades de procesamiento de textos y secuencias de Keras\n",
        "from tensorflow.keras.preprocessing.text import Tokenizer # equivalente a ltokenizer de nltk\n",
        "from tensorflow.keras.preprocessing.text import text_to_word_sequence # equivalente a word_tokenize de nltk\n",
        "from tensorflow.keras.utils import pad_sequences # se utilizará para padding\n"
      ]
    },
    {
      "cell_type": "code",
      "execution_count": 286,
      "metadata": {
        "id": "v5QLhL88NLtw",
        "colab": {
          "base_uri": "https://localhost:8080/"
        },
        "outputId": "ca61c81c-de12-40c5-c6b4-03d95efc8814"
      },
      "outputs": [
        {
          "output_type": "execute_result",
          "data": {
            "text/plain": [
              "['El Fantasma de Canterville',\n",
              " 'Oscar Wilde',\n",
              " 'Novela corta',\n",
              " 'I',\n",
              " 'Cuando míster Hiram B. Otis, el ministro de América, compró Canterville-Chase, todo el mundo le dijo que cometía una gran necedad, porque la finca estaba embrujada.']"
            ]
          },
          "metadata": {},
          "execution_count": 286
        }
      ],
      "source": [
        "# cada oración la guardamos en una lista\n",
        "text = list(df.loc[:,0])\n",
        "text[:5]"
      ]
    },
    {
      "cell_type": "code",
      "execution_count": 287,
      "metadata": {
        "id": "iu3s7IxeNfFb",
        "colab": {
          "base_uri": "https://localhost:8080/",
          "height": 35
        },
        "outputId": "d0579a23-09a5-4297-9c56-49385dd5b400"
      },
      "outputs": [
        {
          "output_type": "execute_result",
          "data": {
            "text/plain": [
              "'El Fantasma de Canterville'"
            ],
            "application/vnd.google.colaboratory.intrinsic+json": {
              "type": "string"
            }
          },
          "metadata": {},
          "execution_count": 287
        }
      ],
      "source": [
        "# segmentamos el texto con la utilidad de Keras\n",
        "segmented_sentences = [text_to_word_sequence(sentence) for sentence in text]\n",
        "text[0]"
      ]
    },
    {
      "cell_type": "code",
      "execution_count": 288,
      "metadata": {
        "id": "nOCmJVFZNlyu",
        "colab": {
          "base_uri": "https://localhost:8080/"
        },
        "outputId": "1ec88715-f5b0-483c-f34a-800dc0b09c0c"
      },
      "outputs": [
        {
          "output_type": "execute_result",
          "data": {
            "text/plain": [
              "[['el', 'fantasma', 'de', 'canterville'],\n",
              " ['oscar', 'wilde'],\n",
              " ['novela', 'corta']]"
            ]
          },
          "metadata": {},
          "execution_count": 288
        }
      ],
      "source": [
        "segmented_sentences[:3]"
      ]
    },
    {
      "cell_type": "code",
      "execution_count": 289,
      "metadata": {
        "id": "uqMDSGdHNorC"
      },
      "outputs": [],
      "source": [
        "# calculamos la longitud de cada secuencia\n",
        "length_sentences = [len(sentence) for sentence in segmented_sentences]\n"
      ]
    },
    {
      "cell_type": "code",
      "execution_count": 290,
      "metadata": {
        "id": "_phFxmmENtKb",
        "colab": {
          "base_uri": "https://localhost:8080/",
          "height": 534
        },
        "outputId": "695507fd-d732-4b69-e4f6-cdd63c8374c6"
      },
      "outputs": [
        {
          "output_type": "execute_result",
          "data": {
            "text/plain": [
              "(array([130., 152.,  66.,  31.,  11.,   5.,   1.,   0.,   3.,   1.,   1.,\n",
              "          0.,   0.,   0.,   0.,   0.,   0.,   0.,   0.,   1.]),\n",
              " array([  1. ,  16.5,  32. ,  47.5,  63. ,  78.5,  94. , 109.5, 125. ,\n",
              "        140.5, 156. , 171.5, 187. , 202.5, 218. , 233.5, 249. , 264.5,\n",
              "        280. , 295.5, 311. ]),\n",
              " <BarContainer object of 20 artists>)"
            ]
          },
          "metadata": {},
          "execution_count": 290
        },
        {
          "output_type": "display_data",
          "data": {
            "text/plain": [
              "<Figure size 640x480 with 1 Axes>"
            ],
            "image/png": "[encoded data removed]"
          },
          "metadata": {}
        }
      ],
      "source": [
        "# podemos ver su distribución\n",
        "plt.hist(length_sentences,bins=20)"
      ]
    },
    {
      "cell_type": "markdown",
      "metadata": {
        "id": "XLEN_6u2R7sw"
      },
      "source": [
        "A partir del análisis del histograma, elegimos el criterio del percentil para la selección del máximo tamaño de contexto. Elegir el percentil 90 como criterio garantiza que el 90% de las oraciones del texto se procesen completamente sin truncamientos, mientras que solo el 10% más largo se verá afectado. Este enfoque equilibra la preservación de la información textual y la eficiencia computacional, ya que evita incluir secuencias excesivamente largas que podrían introducir ruido o requerir un relleno innecesario (padding). Además, este criterio es estadísticamente robusto, ya que considera la distribución general de las longitudes, adaptándose a la estructura del conjunto de datos sin depender de decisiones arbitrarias.\n"
      ]
    },
    {
      "cell_type": "code",
      "execution_count": 291,
      "metadata": {
        "id": "LP6ptfA4Rn8M",
        "colab": {
          "base_uri": "https://localhost:8080/"
        },
        "outputId": "81f9d4d9-7f38-48e3-e326-f3d857d83c21"
      },
      "outputs": [
        {
          "output_type": "stream",
          "name": "stdout",
          "text": [
            "max_context_size: 51\n"
          ]
        }
      ],
      "source": [
        "# el -1 es porque el último token será el target\n",
        "max_context_size = int(np.percentile(length_sentences, 90)-1)\n",
        "\n",
        "print(f'max_context_size: {max_context_size}')"
      ]
    },
    {
      "cell_type": "markdown",
      "metadata": {
        "id": "5phYcLLnSjgK"
      },
      "source": [
        "### Paso 2: Tokenización"
      ]
    },
    {
      "cell_type": "code",
      "source": [
        "# Definir una función para eliminar el \"—\" de los dialogos.\n",
        "def clean_word(word):\n",
        "    return word.replace(\"—\", \"\")\n",
        "\n",
        "# Aplicar la función de limpieza a las palabras antes de tokenizar\n",
        "cleaned_sentences = [[clean_word(word) for word in sentence] for sentence in segmented_sentences]\n",
        "#cleaned_sentences = segmented_sentences"
      ],
      "metadata": {
        "id": "kkHd1u8-XwRK"
      },
      "execution_count": 292,
      "outputs": []
    },
    {
      "cell_type": "code",
      "execution_count": 293,
      "metadata": {
        "id": "0vFPG0_wSmyV"
      },
      "outputs": [],
      "source": [
        "# instanciamos el tokenizador\n",
        "tok = Tokenizer()\n",
        "\n",
        "# El tokenizer \"aprende\" las palabras que se usaran\n",
        "# Se construye (fit) una vez por proyecto, se aplica N veces (tal cual un encoder)\n",
        "# El token 0 es reservado y no es asignado. Se utiliza para designar a palabras\n",
        "# fuera del vocabulario aprendido\n",
        "tok.fit_on_texts(cleaned_sentences)\n",
        "\n",
        "# Convertimos las palabras a números\n",
        "# entran palabras -> salen números\n",
        "tokenized_sentences = tok.texts_to_sequences(cleaned_sentences)"
      ]
    },
    {
      "cell_type": "code",
      "execution_count": 294,
      "metadata": {
        "id": "Zu3KHb-PSxqZ",
        "colab": {
          "base_uri": "https://localhost:8080/"
        },
        "outputId": "ff528b4e-1dbc-4c54-8ab6-2ec7b9e8a6bc"
      },
      "outputs": [
        {
          "output_type": "execute_result",
          "data": {
            "text/plain": [
              "[5, 26, 1, 30]"
            ]
          },
          "metadata": {},
          "execution_count": 294
        }
      ],
      "source": [
        "tokenized_sentences[0]"
      ]
    },
    {
      "cell_type": "code",
      "execution_count": 295,
      "metadata": {
        "id": "NQK42FHTSyrm",
        "colab": {
          "base_uri": "https://localhost:8080/"
        },
        "outputId": "478e2eb7-b4a8-41a4-f20f-ccff54be791d"
      },
      "outputs": [
        {
          "output_type": "execute_result",
          "data": {
            "text/plain": [
              "['el', 'fantasma', 'de', 'canterville']"
            ]
          },
          "metadata": {},
          "execution_count": 295
        }
      ],
      "source": [
        "cleaned_sentences[0]\n"
      ]
    },
    {
      "cell_type": "markdown",
      "metadata": {
        "id": "_BpsbX2VS4Jw"
      },
      "source": [
        "### Paso 3: Organizarción y estructurado del dataset"
      ]
    },
    {
      "cell_type": "code",
      "execution_count": 296,
      "metadata": {
        "id": "63GNmdDYTEAs"
      },
      "outputs": [],
      "source": [
        "# Vamos a quedarnos con un conjunto de validación que utilizaremos\n",
        "# para medir la calidad de la generación de secuencias con la métrica de Perplejidad.\n",
        "tokenized_sentences_train, tokenized_sentences_val, _, _ = train_test_split(tokenized_sentences, tokenized_sentences, test_size=0.2, random_state=42)\n"
      ]
    },
    {
      "cell_type": "code",
      "execution_count": 297,
      "metadata": {
        "id": "7yIr8acGTNAc"
      },
      "outputs": [],
      "source": [
        "# Vamos a splitear las oraciones que tienen tamaño mayor al contexto máximo,\n",
        "# para generarnos más secuencias de entrenamiento.\n",
        "# Este paso puede obviarse si el tamaño de contexto máximo es muy grande.\n",
        "\n",
        "tok_sent = []\n",
        "\n",
        "for sent in tokenized_sentences_train:\n",
        "\n",
        "  # si la secuencia tiene más términos que el tamaño de contexto máximo,\n",
        "  # armo varias sub-secuencias de tamaño máximo\n",
        "  if len(sent) > (max_context_size+1):\n",
        "    extra = len(sent)-(max_context_size+1) + 1\n",
        "    for i in range(extra):\n",
        "      tok_sent.append(sent[i:i+max_context_size+1])\n",
        "  else: # si la secuencia tiene menos términos el tamaño de contexto máximo, dejo la secuencia como está\n",
        "    tok_sent.append(sent)\n"
      ]
    },
    {
      "cell_type": "code",
      "execution_count": 298,
      "metadata": {
        "id": "sse2aozxTh-Z",
        "colab": {
          "base_uri": "https://localhost:8080/"
        },
        "outputId": "62cdc9ae-6c14-4547-ecb2-f8f9323f95ea"
      },
      "outputs": [
        {
          "output_type": "execute_result",
          "data": {
            "text/plain": [
              "1326"
            ]
          },
          "metadata": {},
          "execution_count": 298
        }
      ],
      "source": [
        "len(tok_sent)"
      ]
    },
    {
      "cell_type": "code",
      "execution_count": 299,
      "metadata": {
        "id": "_Mwe_cY8TomX"
      },
      "outputs": [],
      "source": [
        "# Ahora aumentamos los datos aprovechando que de una secuencia grande\n",
        "# se pueden generar varias más pequeñas:\n",
        "\n",
        "tok_sent_augm = []\n",
        "\n",
        "for sent in tok_sent:\n",
        "\n",
        "  # generamos todas las sub-secuencias\n",
        "  subseq = [sent[:i+2] for i in range(len(sent)-1)]\n",
        "  # en esta línea paddeamos al tamaño de contexto máximo\n",
        "  tok_sent_augm.append(pad_sequences(subseq, maxlen=max_context_size+1, padding='pre'))"
      ]
    },
    {
      "cell_type": "code",
      "execution_count": 300,
      "metadata": {
        "id": "HJ398-VZTzRC"
      },
      "outputs": [],
      "source": [
        "# finalmente concatenamos todas las secuencias en un único array de numpy\n",
        "train_seqs = np.concatenate(tok_sent_augm, axis=0)"
      ]
    },
    {
      "cell_type": "code",
      "execution_count": 301,
      "metadata": {
        "id": "sGqb1heiT0xj",
        "colab": {
          "base_uri": "https://localhost:8080/"
        },
        "outputId": "c10dabc2-6013-4358-c7a2-fc5c085eba3f"
      },
      "outputs": [
        {
          "output_type": "execute_result",
          "data": {
            "text/plain": [
              "(59179, 52)"
            ]
          },
          "metadata": {},
          "execution_count": 301
        }
      ],
      "source": [
        "train_seqs.shape"
      ]
    },
    {
      "cell_type": "code",
      "execution_count": 302,
      "metadata": {
        "id": "m9tX3cYPT2dC"
      },
      "outputs": [],
      "source": [
        "# y de aquí sacamos las entradas y los targets que consumirá nuestro sistema en\n",
        "# tiempo de entrenamiento\n",
        "X = train_seqs[:,:-1]\n",
        "y = train_seqs[:,1:]"
      ]
    },
    {
      "cell_type": "code",
      "execution_count": 303,
      "metadata": {
        "id": "ky6RUE2NUEIx",
        "colab": {
          "base_uri": "https://localhost:8080/"
        },
        "outputId": "84795765-d492-4ccb-87af-362da59cb0e3"
      },
      "outputs": [
        {
          "output_type": "execute_result",
          "data": {
            "text/plain": [
              "(59179, 51)"
            ]
          },
          "metadata": {},
          "execution_count": 303
        }
      ],
      "source": [
        "y.shape"
      ]
    },
    {
      "cell_type": "code",
      "execution_count": 304,
      "metadata": {
        "id": "lMW9vQcaUFyd",
        "colab": {
          "base_uri": "https://localhost:8080/"
        },
        "outputId": "72d0a510-f883-43c5-ff43-7dbfd0262315"
      },
      "outputs": [
        {
          "output_type": "execute_result",
          "data": {
            "text/plain": [
              "{1: 'de',\n",
              " 2: 'la',\n",
              " 3: 'y',\n",
              " 4: 'que',\n",
              " 5: 'el',\n",
              " 6: 'en',\n",
              " 7: 'a',\n",
              " 8: 'se',\n",
              " 9: 'una',\n",
              " 10: 'un',\n",
              " 11: 'su',\n",
              " 12: 'no',\n",
              " 13: 'los',\n",
              " 14: 'por',\n",
              " 15: 'con',\n",
              " 16: 'las',\n",
              " 17: 'del',\n",
              " 18: 'al',\n",
              " 19: 'sus',\n",
              " 20: 'le',\n",
              " 21: 'lo',\n",
              " 22: 'para',\n",
              " 23: 'sobre',\n",
              " 24: 'otis',\n",
              " 25: 'pero',\n",
              " 26: 'fantasma',\n",
              " 27: 'virginia',\n",
              " 28: 'más',\n",
              " 29: 'era',\n",
              " 30: 'canterville',\n",
              " 31: 'como',\n",
              " 32: 'usted',\n",
              " 33: 'había',\n",
              " 34: 'cuando',\n",
              " 35: 'es',\n",
              " 36: 'todo',\n",
              " 37: 'después',\n",
              " 38: 'mistress',\n",
              " 39: 'míster',\n",
              " 40: 'dijo',\n",
              " 41: 'gran',\n",
              " 42: 'familia',\n",
              " 43: 'muy',\n",
              " 44: 'estaba',\n",
              " 45: 'lord',\n",
              " 46: 'me',\n",
              " 47: 'vez',\n",
              " 48: 'fue',\n",
              " 49: 'noche',\n",
              " 50: 'gemelos',\n",
              " 51: 'ministro',\n",
              " 52: 'casa',\n",
              " 53: 'ya',\n",
              " 54: 'ojos',\n",
              " 55: 'él',\n",
              " 56: 'toda',\n",
              " 57: 'hacer',\n",
              " 58: 'hasta',\n",
              " 59: 'dos',\n",
              " 60: 'tan',\n",
              " 61: 'sin',\n",
              " 62: 'tenía',\n",
              " 63: 'sangre',\n",
              " 64: 'ha',\n",
              " 65: 'hizo',\n",
              " 66: 'cabeza',\n",
              " 67: 'día',\n",
              " 68: 'aquella',\n",
              " 69: 'todos',\n",
              " 70: 'mi',\n",
              " 71: 'o',\n",
              " 72: 'eso',\n",
              " 73: 'mientras',\n",
              " 74: 'tiempo',\n",
              " 75: 'nada',\n",
              " 76: 'unos',\n",
              " 77: 'washington',\n",
              " 78: 'mancha',\n",
              " 79: 'habitación',\n",
              " 80: 'entonces',\n",
              " 81: 'desde',\n",
              " 82: 'nunca',\n",
              " 83: 'así',\n",
              " 84: 'si',\n",
              " 85: 'bien',\n",
              " 86: 'voz',\n",
              " 87: 'entre',\n",
              " 88: 'he',\n",
              " 89: 'allí',\n",
              " 90: 'duquesito',\n",
              " 91: 'porque',\n",
              " 92: 'biblioteca',\n",
              " 93: 'cuanto',\n",
              " 94: 'tres',\n",
              " 95: 'yo',\n",
              " 96: 'siempre',\n",
              " 97: 'lado',\n",
              " 98: 'pues',\n",
              " 99: 'ni',\n",
              " 100: 'puerta',\n",
              " 101: 'ella',\n",
              " 102: 'mano',\n",
              " 103: 'mundo',\n",
              " 104: 'corredor',\n",
              " 105: 'parte',\n",
              " 106: 'realmente',\n",
              " 107: 'antes',\n",
              " 108: 'menos',\n",
              " 109: 'siguiente',\n",
              " 110: 'mañana',\n",
              " 111: 'poco',\n",
              " 112: 'todas',\n",
              " 113: 'verde',\n",
              " 114: 'estaban',\n",
              " 115: 'mismo',\n",
              " 116: 'tener',\n",
              " 117: 'mujer',\n",
              " 118: 'momento',\n",
              " 119: 'ser',\n",
              " 120: 'años',\n",
              " 121: 'veces',\n",
              " 122: 'cual',\n",
              " 123: 'joven',\n",
              " 124: 'iba',\n",
              " 125: 'exclamó',\n",
              " 126: 'simón',\n",
              " 127: 'terrible',\n",
              " 128: 'tal',\n",
              " 129: 'ese',\n",
              " 130: 'sitio',\n",
              " 131: 'manos',\n",
              " 132: 'visto',\n",
              " 133: 'uno',\n",
              " 134: 'alguna',\n",
              " 135: 'durante',\n",
              " 136: 'aire',\n",
              " 137: 'les',\n",
              " 138: 'paso',\n",
              " 139: 'habían',\n",
              " 140: 'vieja',\n",
              " 141: 'umney',\n",
              " 142: 'sí',\n",
              " 143: 'mis',\n",
              " 144: 'media',\n",
              " 145: 'luna',\n",
              " 146: 'estados',\n",
              " 147: 'unidos',\n",
              " 148: '',\n",
              " 149: 'fin',\n",
              " 150: 'nadie',\n",
              " 151: 'muerte',\n",
              " 152: 'joyas',\n",
              " 153: 'sido',\n",
              " 154: 'lady',\n",
              " 155: 'aunque',\n",
              " 156: 'cuatro',\n",
              " 157: 'punto',\n",
              " 158: 'grandes',\n",
              " 159: 'medio',\n",
              " 160: 'largo',\n",
              " 161: 'otro',\n",
              " 162: 'caja',\n",
              " 163: 'fantasmas',\n",
              " 164: 'ruido',\n",
              " 165: 'cama',\n",
              " 166: 'escalera',\n",
              " 167: 'sólo',\n",
              " 168: 'qué',\n",
              " 169: 'además',\n",
              " 170: 'ellos',\n",
              " 171: 'horrible',\n",
              " 172: 'días',\n",
              " 173: 'aquel',\n",
              " 174: 'mucho',\n",
              " 175: 'américa',\n",
              " 176: 'nos',\n",
              " 177: 'duquesa',\n",
              " 178: 'tuvo',\n",
              " 179: 'esqueleto',\n",
              " 180: 'creo',\n",
              " 181: 'varios',\n",
              " 182: 'pudo',\n",
              " 183: 'respondió',\n",
              " 184: 'viejo',\n",
              " 185: 'está',\n",
              " 186: 'puede',\n",
              " 187: 'última',\n",
              " 188: 'miss',\n",
              " 189: 'decir',\n",
              " 190: 'mayor',\n",
              " 191: 'londres',\n",
              " 192: 'e',\n",
              " 193: 'vuelta',\n",
              " 194: 'caballo',\n",
              " 195: 'frente',\n",
              " 196: 'cheshire',\n",
              " 197: 'embargo',\n",
              " 198: 'salón',\n",
              " 199: 'luego',\n",
              " 200: 'palabras',\n",
              " 201: 'sir',\n",
              " 202: 'apenas',\n",
              " 203: 'hay',\n",
              " 204: 'cosas',\n",
              " 205: 'pesar',\n",
              " 206: 'cosa',\n",
              " 207: 'estado',\n",
              " 208: 'luz',\n",
              " 209: 'vio',\n",
              " 210: 'unas',\n",
              " 211: 'volvió',\n",
              " 212: 'terror',\n",
              " 213: 'vida',\n",
              " 214: 'papel',\n",
              " 215: 'ningún',\n",
              " 216: 'modo',\n",
              " 217: 'hacia',\n",
              " 218: 'prisa',\n",
              " 219: 'ver',\n",
              " 220: 'muchacha',\n",
              " 221: 'tengo',\n",
              " 222: 'puedo',\n",
              " 223: 'tiene',\n",
              " 224: 'chase',\n",
              " 225: 'hombros',\n",
              " 226: 'bajo',\n",
              " 227: 'país',\n",
              " 228: 'ustedes',\n",
              " 229: 'verdadero',\n",
              " 230: 'son',\n",
              " 231: 'buena',\n",
              " 232: 'bastante',\n",
              " 233: 'eran',\n",
              " 234: 'esto',\n",
              " 235: 'oro',\n",
              " 236: 'algún',\n",
              " 237: 'través',\n",
              " 238: 'silencio',\n",
              " 239: 'encima',\n",
              " 240: 'baja',\n",
              " 241: 'inmediatamente',\n",
              " 242: 'encontró',\n",
              " 243: 'negro',\n",
              " 244: 'esas',\n",
              " 245: 'lleno',\n",
              " 246: 'terribles',\n",
              " 247: 'esposa',\n",
              " 248: 'encontraron',\n",
              " 249: 'nuevo',\n",
              " 250: 'carta',\n",
              " 251: 'tarde',\n",
              " 252: 'fueron',\n",
              " 253: 'americanos',\n",
              " 254: 'parecía',\n",
              " 255: 'tomó',\n",
              " 256: 'puso',\n",
              " 257: 'aspecto',\n",
              " 258: 'cadenas',\n",
              " 259: 'sol',\n",
              " 260: 'aquí',\n",
              " 261: 'dicho',\n",
              " 262: 'forma',\n",
              " 263: 'cuello',\n",
              " 264: 'llegó',\n",
              " 265: 'casi',\n",
              " 266: 'según',\n",
              " 267: 'ante',\n",
              " 268: 'oyó',\n",
              " 269: 'esa',\n",
              " 270: 'brazos',\n",
              " 271: 'azul',\n",
              " 272: 'quedó',\n",
              " 273: 'sudario',\n",
              " 274: 'último',\n",
              " 275: 'viento',\n",
              " 276: 'fuerte',\n",
              " 277: 'éste',\n",
              " 278: 'cuarto',\n",
              " 279: 'ventana',\n",
              " 280: 'dio',\n",
              " 281: 'sintió',\n",
              " 282: 'estas',\n",
              " 283: 'antigua',\n",
              " 284: 'otra',\n",
              " 285: 'mí',\n",
              " 286: 'criados',\n",
              " 287: 'detrás',\n",
              " 288: 'par',\n",
              " 289: 'sé',\n",
              " 290: 'gitanos',\n",
              " 291: 'cecil',\n",
              " 292: 'deber',\n",
              " 293: 'espanto',\n",
              " 294: 'nuestros',\n",
              " 295: 'quizá',\n",
              " 296: 'hace',\n",
              " 297: 'mil',\n",
              " 298: 'mostrarse',\n",
              " 299: 'mejor',\n",
              " 300: 'algunas',\n",
              " 301: 'cerró',\n",
              " 302: 'estación',\n",
              " 303: 'edad',\n",
              " 304: 'muchas',\n",
              " 305: 'persona',\n",
              " 306: 'verdad',\n",
              " 307: 'completamente',\n",
              " 308: 'podido',\n",
              " 309: 'perfectamente',\n",
              " 310: 'lágrimas',\n",
              " 311: 'coche',\n",
              " 312: 'alto',\n",
              " 313: 'avenida',\n",
              " 314: 'extraño',\n",
              " 315: 'hallaba',\n",
              " 316: 'ama',\n",
              " 317: 'gobierno',\n",
              " 318: 'pie',\n",
              " 319: 'tiempos',\n",
              " 320: 'hall',\n",
              " 321: 'pronto',\n",
              " 322: 'mirada',\n",
              " 323: 'contestó',\n",
              " 324: 'quiero',\n",
              " 325: 'preciso',\n",
              " 326: 'marido',\n",
              " 327: 'circunstancias',\n",
              " 328: 'alma',\n",
              " 329: 'vivamente',\n",
              " 330: 'sabía',\n",
              " 331: 'estancia',\n",
              " 332: 'levantó',\n",
              " 333: 'querido',\n",
              " 334: 'noches',\n",
              " 335: 'haber',\n",
              " 336: 'retiró',\n",
              " 337: 'bajaron',\n",
              " 338: 'clase',\n",
              " 339: 'empezó',\n",
              " 340: 'larga',\n",
              " 341: 'dar',\n",
              " 342: 'manera',\n",
              " 343: 'once',\n",
              " 344: 'doce',\n",
              " 345: 'fuera',\n",
              " 346: 'cada',\n",
              " 347: 'hora',\n",
              " 348: 'frasquito',\n",
              " 349: 'señor',\n",
              " 350: 'ello',\n",
              " 351: 'engrasador',\n",
              " 352: 'levante',\n",
              " 353: 'permaneció',\n",
              " 354: 'contra',\n",
              " 355: 'suelo',\n",
              " 356: 'lanzando',\n",
              " 357: 'secreto',\n",
              " 358: 'habitaciones',\n",
              " 359: 'seis',\n",
              " 360: 'iglesia',\n",
              " 361: 'dedos',\n",
              " 362: 'blanca',\n",
              " 363: 'sonrisa',\n",
              " 364: 'esta',\n",
              " 365: 'dormir',\n",
              " 366: 'semana',\n",
              " 367: 'esmeralda',\n",
              " 368: 'estuvo',\n",
              " 369: 'apareció',\n",
              " 370: 'estar',\n",
              " 371: 'rostro',\n",
              " 372: 'decidió',\n",
              " 373: 'lanzar',\n",
              " 374: 'consiguiente',\n",
              " 375: 'dado',\n",
              " 376: 'seguida',\n",
              " 377: 'espectro',\n",
              " 378: 'puñal',\n",
              " 379: 'dormitorio',\n",
              " 380: 'camino',\n",
              " 381: 'valor',\n",
              " 382: 'indudablemente',\n",
              " 383: 'cogió',\n",
              " 384: 'gallo',\n",
              " 385: 'salió',\n",
              " 386: 'vestido',\n",
              " 387: 'cementerio',\n",
              " 388: 'llevaba',\n",
              " 389: 'jardín',\n",
              " 390: 'amor',\n",
              " 391: 'morir',\n",
              " 392: 'hijos',\n",
              " 393: 'llevando',\n",
              " 394: 'te',\n",
              " 395: 'hija',\n",
              " 396: 'hombre',\n",
              " 397: 'llegaron',\n",
              " 398: 'hemos',\n",
              " 399: 'completo',\n",
              " 400: 'estando',\n",
              " 401: 'causa',\n",
              " 402: 'esos',\n",
              " 403: 'mejores',\n",
              " 404: 'queda',\n",
              " 405: 'todavía',\n",
              " 406: 'existe',\n",
              " 407: 'deja',\n",
              " 408: 'amigo',\n",
              " 409: 'aristocracia',\n",
              " 410: 'comprender',\n",
              " 411: 'ahora',\n",
              " 412: 'nombre',\n",
              " 413: 'nueva',\n",
              " 414: 'cayó',\n",
              " 415: 'aun',\n",
              " 416: 'poney',\n",
              " 417: 'dando',\n",
              " 418: 'parque',\n",
              " 419: 'precisamente',\n",
              " 420: 'provocó',\n",
              " 421: 'duque',\n",
              " 422: 'acto',\n",
              " 423: 'matrimonio',\n",
              " 424: 'siete',\n",
              " 425: 'millas',\n",
              " 426: 'ascot',\n",
              " 427: 'marcha',\n",
              " 428: 'alegría',\n",
              " 429: 'encantadora',\n",
              " 430: 'levantando',\n",
              " 431: 'blanco',\n",
              " 432: 'pareció',\n",
              " 433: 'caído',\n",
              " 434: 'profunda',\n",
              " 435: 'antiguos',\n",
              " 436: 'hermoso',\n",
              " 437: 'rojo',\n",
              " 438: 'darse',\n",
              " 439: 'cuenta',\n",
              " 440: 'veo',\n",
              " 441: 'algo',\n",
              " 442: 'manchas',\n",
              " 443: 'cinco',\n",
              " 444: 'repente',\n",
              " 445: 'otras',\n",
              " 446: 'personas',\n",
              " 447: 'incomparable',\n",
              " 448: 'instantes',\n",
              " 449: 'desaparecido',\n",
              " 450: 'dejar',\n",
              " 451: 'gente',\n",
              " 452: 'buen',\n",
              " 453: 'pueden',\n",
              " 454: 'efecto',\n",
              " 455: 'volver',\n",
              " 456: 'debía',\n",
              " 457: 'debe',\n",
              " 458: 'aquello',\n",
              " 459: 'demasiado',\n",
              " 460: 'existencia',\n",
              " 461: 'paseo',\n",
              " 462: 'simplemente',\n",
              " 463: 'sistema',\n",
              " 464: 'sobrenatural',\n",
              " 465: 'menor',\n",
              " 466: 'pasos',\n",
              " 467: 'abrió',\n",
              " 468: 'parecían',\n",
              " 469: 'fe',\n",
              " 470: 'voy',\n",
              " 471: 'placer',\n",
              " 472: 'mesa',\n",
              " 473: 'roble',\n",
              " 474: 'espacio',\n",
              " 475: 'estuco',\n",
              " 476: 'tranquilidad',\n",
              " 477: 'trescientos',\n",
              " 478: 'quien',\n",
              " 479: 'cuya',\n",
              " 480: 'vela',\n",
              " 481: 'recordó',\n",
              " 482: 'diez',\n",
              " 483: 'mayordomo',\n",
              " 484: 'llevar',\n",
              " 485: 'alrededor',\n",
              " 486: 'hierro',\n",
              " 487: 'pasó',\n",
              " 488: 'furor',\n",
              " 489: 'huesos',\n",
              " 490: 'hierba',\n",
              " 491: '¿y',\n",
              " 492: 'historia',\n",
              " 493: 'actitud',\n",
              " 494: 'natural',\n",
              " 495: 'viendo',\n",
              " 496: 'siento',\n",
              " 497: 'único',\n",
              " 498: 'tanto',\n",
              " 499: 'color',\n",
              " 500: 'rezar',\n",
              " 501: 'armadura',\n",
              " 502: 'losas',\n",
              " 503: 'fuerza',\n",
              " 504: 'bruscamente',\n",
              " 505: 'grito',\n",
              " 506: 'terminar',\n",
              " 507: 'primer',\n",
              " 508: 'vista',\n",
              " 509: 'éxito',\n",
              " 510: 'pasar',\n",
              " 511: 'sombrero',\n",
              " 512: 'puertas',\n",
              " 513: 'oído',\n",
              " 514: 'pequeña',\n",
              " 515: 'aún',\n",
              " 516: 'sería',\n",
              " 517: 'meterse',\n",
              " 518: 'sonaron',\n",
              " 519: 'tejo',\n",
              " 520: 'delante',\n",
              " 521: 'seguía',\n",
              " 522: 'fúnebre',\n",
              " 523: 'cara',\n",
              " 524: 'fuego',\n",
              " 525: 'donde',\n",
              " 526: 'regresó',\n",
              " 527: 'botas',\n",
              " 528: 'cabo',\n",
              " 529: 'pared',\n",
              " 530: 'juramento',\n",
              " 531: 'razón',\n",
              " 532: '¡que',\n",
              " 533: 'cuestión',\n",
              " 534: 'tapices',\n",
              " 535: 'muerto',\n",
              " 536: 'año',\n",
              " 537: 'violencia',\n",
              " 538: 'agua',\n",
              " 539: 'permanecer',\n",
              " 540: 'caso',\n",
              " 541: 'palabra',\n",
              " 542: 'motivo',\n",
              " 543: '¡uú',\n",
              " 544: 'duda',\n",
              " 545: 'habló',\n",
              " 546: 'stilton',\n",
              " 547: 'sabe',\n",
              " 548: 'madre',\n",
              " 549: 'ir',\n",
              " 550: 'inconcebible',\n",
              " 551: 'inglaterra',\n",
              " 552: '¡oh',\n",
              " 553: 'encuentro',\n",
              " 554: 'hambre',\n",
              " 555: 'tienen',\n",
              " 556: 'ruinas',\n",
              " 557: 'labios',\n",
              " 558: 'helado',\n",
              " 559: 'almendro',\n",
              " 560: 'conmigo',\n",
              " 561: 'ángel',\n",
              " 562: 'muro',\n",
              " 563: 'envió',\n",
              " 564: 'diciendo',\n",
              " 565: 'permitido',\n",
              " 566: 'ruego',\n",
              " 567: 'corazón',\n",
              " 568: 'mía',\n",
              " 569: 'tu',\n",
              " 570: 'interés',\n",
              " 571: 'hiram',\n",
              " 572: 'finca',\n",
              " 573: 'creyó',\n",
              " 574: 'condiciones',\n",
              " 575: 'mismos',\n",
              " 576: 'vivir',\n",
              " 577: 'rector',\n",
              " 578: 'parroquia',\n",
              " 579: 'reverendo',\n",
              " 580: 'augusto',\n",
              " 581: 'dampier',\n",
              " 582: 'ninguna',\n",
              " 583: 'doncellas',\n",
              " 584: 'quiso',\n",
              " 585: 'sueño',\n",
              " 586: 'inmueble',\n",
              " 587: 'inventario',\n",
              " 588: 'podemos',\n",
              " 589: 'dinero',\n",
              " 590: 'jóvenes',\n",
              " 591: 'continente',\n",
              " 592: 'prima',\n",
              " 593: 'estoy',\n",
              " 594: 'seguro',\n",
              " 595: 'europa',\n",
              " 596: 'temo',\n",
              " 597: 'sonriendo',\n",
              " 598: 'quinientos',\n",
              " 599: 'hacen',\n",
              " 600: 'naturaleza',\n",
              " 601: 'inglesa',\n",
              " 602: 'acababa',\n",
              " 603: 'observación',\n",
              " 604: 'semanas',\n",
              " 605: 'emprendieron',\n",
              " 606: 'viaje',\n",
              " 607: 'york',\n",
              " 608: 'hermosos',\n",
              " 609: 'soberbio',\n",
              " 610: 'hubiese',\n",
              " 611: 'tenemos',\n",
              " 612: 'hoy',\n",
              " 613: 'hijo',\n",
              " 614: 'padres',\n",
              " 615: 'seguidas',\n",
              " 616: 'quince',\n",
              " 617: 'bonito',\n",
              " 618: 'azules',\n",
              " 619: 'amazona',\n",
              " 620: 'estatua',\n",
              " 621: 'entusiasmo',\n",
              " 622: 'tuvieron',\n",
              " 623: 'misma',\n",
              " 624: 'ordinario',\n",
              " 625: 'estrellas',\n",
              " 626: 'niños',\n",
              " 627: 'verdaderos',\n",
              " 628: 'fueran',\n",
              " 629: 'descubierto',\n",
              " 630: 'dulce',\n",
              " 631: 'fru',\n",
              " 632: 'entraron',\n",
              " 633: 'cruzó',\n",
              " 634: 'cabezas',\n",
              " 635: 'vestida',\n",
              " 636: 'negra',\n",
              " 637: 'vivos',\n",
              " 638: 'puesto',\n",
              " 639: 'tierra',\n",
              " 640: 'singular',\n",
              " 641: 'acento',\n",
              " 642: 'espacioso',\n",
              " 643: 'ancho',\n",
              " 644: 'té',\n",
              " 645: 'trajes',\n",
              " 646: 'pusieron',\n",
              " 647: 'torno',\n",
              " 648: 'suyo',\n",
              " 649: 'oscuro',\n",
              " 650: 'chimenea',\n",
              " 651: 'vertido',\n",
              " 652: 'señora',\n",
              " 653: '¡es',\n",
              " 654: 'espantoso',\n",
              " 655: 'quitar',\n",
              " 656: 'misteriosa',\n",
              " 657: 'muerta',\n",
              " 658: 'propio',\n",
              " 659: 'sesenta',\n",
              " 660: 'nueve',\n",
              " 661: 'cuerpo',\n",
              " 662: 'imposible',\n",
              " 663: 'pinkerton»',\n",
              " 664: 'desaparecer',\n",
              " 665: 'abrir',\n",
              " 666: 'cerrar',\n",
              " 667: 'aterrada',\n",
              " 668: 'pudiera',\n",
              " 669: 'entarimado',\n",
              " 670: 'pocos',\n",
              " 671: 'tono',\n",
              " 672: 'llena',\n",
              " 673: 'admiración',\n",
              " 674: 'relámpago',\n",
              " 675: 'formidable',\n",
              " 676: 'sombría',\n",
              " 677: 'trueno',\n",
              " 678: '¡qué',\n",
              " 679: 'atroz',\n",
              " 680: 'tranquilamente',\n",
              " 681: 'emigrar',\n",
              " 682: 'replicó',\n",
              " 683: 'salario',\n",
              " 684: 'volverá',\n",
              " 685: 'tardó',\n",
              " 686: 'veíase',\n",
              " 687: 'solemne',\n",
              " 688: 'propios',\n",
              " 689: 'pondrían',\n",
              " 690: 'miedo',\n",
              " 691: 'llave',\n",
              " 692: 'mister',\n",
              " 693: 'crimen',\n",
              " 694: 'disipó',\n",
              " 695: 'regresaron',\n",
              " 696: 'tomando',\n",
              " 697: 'cena',\n",
              " 698: 'conversación',\n",
              " 699: 'recayó',\n",
              " 700: 'fenómenos',\n",
              " 701: 'sabido',\n",
              " 702: 'pertenecen',\n",
              " 703: 'ejemplo',\n",
              " 704: 'dificultad',\n",
              " 705: 'encontrar',\n",
              " 706: 'boston',\n",
              " 707: 'desenvolvimiento',\n",
              " 708: 'dulzura',\n",
              " 709: 'despertó',\n",
              " 710: 'miró',\n",
              " 711: 'tranquilo',\n",
              " 712: 'alterado',\n",
              " 713: 'oía',\n",
              " 714: 'zapatillas',\n",
              " 715: 'tocador',\n",
              " 716: 'claro',\n",
              " 717: 'gris',\n",
              " 718: 'caía',\n",
              " 719: 'mechones',\n",
              " 720: 'sola',\n",
              " 721: 'etiqueta',\n",
              " 722: 'proporcionarle',\n",
              " 723: 'algunos',\n",
              " 724: 'minutos',\n",
              " 725: 'inmóvil',\n",
              " 726: 'tiró',\n",
              " 727: 'rabia',\n",
              " 728: 'gruñidos',\n",
              " 729: 'llegaba',\n",
              " 730: 'siluetas',\n",
              " 731: 'almohada',\n",
              " 732: 'evidentemente',\n",
              " 733: 'desvaneció',\n",
              " 734: 'llegado',\n",
              " 735: 'ala',\n",
              " 736: 'tomar',\n",
              " 737: 'jamás',\n",
              " 738: 'seguidos',\n",
              " 739: 'cubierta',\n",
              " 740: 'invitados',\n",
              " 741: 'avanzada',\n",
              " 742: 'medianoche',\n",
              " 743: 'sentado',\n",
              " 744: 'sillón',\n",
              " 745: 'impresión',\n",
              " 746: 'guardar',\n",
              " 747: 'ataque',\n",
              " 748: 'igualmente',\n",
              " 749: 'garganta',\n",
              " 750: 'suma',\n",
              " 751: 'hazañas',\n",
              " 752: 'cristales',\n",
              " 753: 'bella',\n",
              " 754: 'collar',\n",
              " 755: 'terciopelo',\n",
              " 756: 'señal',\n",
              " 757: 'terminó',\n",
              " 758: 'extremo',\n",
              " 759: 'real',\n",
              " 760: 'revista',\n",
              " 761: 'creaciones',\n",
              " 762: 'dedicó',\n",
              " 763: 'amarga',\n",
              " 764: 'aparición',\n",
              " 765: 'vampiro',\n",
              " 766: 'causó',\n",
              " 767: 'jugar',\n",
              " 768: 'marca',\n",
              " 769: 'quisiera',\n",
              " 770: 'reconozco',\n",
              " 771: 'risa',\n",
              " 772: 'prosiguió',\n",
              " 773: 'habría',\n",
              " 774: 'resto',\n",
              " 775: 'atención',\n",
              " 776: 'reaparición',\n",
              " 777: 'parquet',\n",
              " 778: 'cerraba',\n",
              " 779: 'ventanas',\n",
              " 780: 'cambios',\n",
              " 781: 'bermellón',\n",
              " 782: 'púrpura',\n",
              " 783: 'espléndido',\n",
              " 784: 'libre',\n",
              " 785: 'estos',\n",
              " 786: 'grandemente',\n",
              " 787: 'entera',\n",
              " 788: 'única',\n",
              " 789: 'broma',\n",
              " 790: 'llorar',\n",
              " 791: 'enorme',\n",
              " 792: 'cerca',\n",
              " 793: 'rodillas',\n",
              " 794: 'expresión',\n",
              " 795: 'provisto',\n",
              " 796: 'largos',\n",
              " 797: 'salvaje',\n",
              " 798: 'oscuridad',\n",
              " 799: 'dueño',\n",
              " 800: 'célebre',\n",
              " 801: 'carcajadas',\n",
              " 802: 'contaba',\n",
              " 803: 'mes',\n",
              " 804: 'lanzó',\n",
              " 805: 'éstos',\n",
              " 806: 'perro',\n",
              " 807: 'tío',\n",
              " 808: 'cruel',\n",
              " 809: 'gemido',\n",
              " 810: 'iban',\n",
              " 811: 'alcance',\n",
              " 812: 'agitación',\n",
              " 813: 'cuyas',\n",
              " 814: 'frecuencia',\n",
              " 815: 'matar',\n",
              " 816: 'llevó',\n",
              " 817: 'siendo',\n",
              " 818: 'reina',\n",
              " 819: 'acero',\n",
              " 820: 'desplomó',\n",
              " 821: 'derecha',\n",
              " 822: 'morada',\n",
              " 823: 'necesario',\n",
              " 824: 'obstante',\n",
              " 825: 'acabó',\n",
              " 826: 'caída',\n",
              " 827: 'roja',\n",
              " 828: 'atardecer',\n",
              " 829: 'tormenta',\n",
              " 830: 'aquél',\n",
              " 831: 'pensaba',\n",
              " 832: 'temerario',\n",
              " 833: 'ocupaba',\n",
              " 834: 'secretos',\n",
              " 835: 'bonita',\n",
              " 836: 'cariñosa',\n",
              " 837: 'parálisis',\n",
              " 838: 'primero',\n",
              " 839: 'pesadilla',\n",
              " 840: 'ellas',\n",
              " 841: 'hielo',\n",
              " 842: 'órbitas',\n",
              " 843: 'creación',\n",
              " 844: 'ocasiones',\n",
              " 845: 'loca',\n",
              " 846: 'nuevamente',\n",
              " 847: 'hueco',\n",
              " 848: 'centenario',\n",
              " 849: 'pena',\n",
              " 850: 'suerte',\n",
              " 851: 'esperaba',\n",
              " 852: 'claridad',\n",
              " 853: 'deslizó',\n",
              " 854: 'boca',\n",
              " 855: 'nube',\n",
              " 856: 'ojival',\n",
              " 857: 'propias',\n",
              " 858: 'armas',\n",
              " 859: 'tinieblas',\n",
              " 860: 'alguien',\n",
              " 861: 'detuvo',\n",
              " 862: 'granja',\n",
              " 863: 'extraños',\n",
              " 864: 'siglo',\n",
              " 865: 'xvi',\n",
              " 866: 'enmohecido',\n",
              " 867: 'esquina',\n",
              " 868: 'sonó',\n",
              " 869: 'reloj',\n",
              " 870: 'comprendió',\n",
              " 871: 'risotada',\n",
              " 872: 'loco',\n",
              " 873: 'oleadas',\n",
              " 874: 'envolvía',\n",
              " 875: 'cartel',\n",
              " 876: 'inscripción',\n",
              " 877: 'escritos',\n",
              " 878: 'cimitarra',\n",
              " 879: 'pánico',\n",
              " 880: 'corriendo',\n",
              " 881: 'caer',\n",
              " 882: 'montar',\n",
              " 883: 'primera',\n",
              " 884: 'presencia',\n",
              " 885: 'espectáculo',\n",
              " 886: 'recostado',\n",
              " 887: 'precipitó',\n",
              " 888: 'posición',\n",
              " 889: 'lienzo',\n",
              " 890: 'pies',\n",
              " 891: 'cocina',\n",
              " 892: 'poder',\n",
              " 893: 'saldría',\n",
              " 894: 'terminado',\n",
              " 895: 'este',\n",
              " 896: 'canto',\n",
              " 897: 'esperó',\n",
              " 898: 'cantar',\n",
              " 899: 'llegada',\n",
              " 900: 'obligó',\n",
              " 901: 'vano',\n",
              " 902: 'proyecto',\n",
              " 903: 'extraordinariamente',\n",
              " 904: 'diablo',\n",
              " 905: 'murmuró',\n",
              " 906: 'plomo',\n",
              " 907: 'débil',\n",
              " 908: 'últimas',\n",
              " 909: 'nervioso',\n",
              " 910: 'ligero',\n",
              " 911: 'relativo',\n",
              " 912: 'quería',\n",
              " 913: 'merecía',\n",
              " 914: 'cuerpos',\n",
              " 915: 'digno',\n",
              " 916: 'costumbre',\n",
              " 917: 'madrugada',\n",
              " 918: 'podía',\n",
              " 919: 'maderas',\n",
              " 920: 'principio',\n",
              " 921: 'razonable',\n",
              " 922: 'cubierto',\n",
              " 923: 'disfrazado',\n",
              " 924: 'cuan',\n",
              " 925: 'alta',\n",
              " 926: 'dignidad',\n",
              " 927: 'eton',\n",
              " 928: 'disfraz',\n",
              " 929: 'bárbara',\n",
              " 930: 'paseos',\n",
              " 931: 'pobre',\n",
              " 932: 'duelo',\n",
              " 933: 'emplear',\n",
              " 934: 'buenas',\n",
              " 935: 'juego',\n",
              " 936: 'general',\n",
              " 937: 'bajó',\n",
              " 938: 'doble',\n",
              " 939: 'dosel',\n",
              " 940: 'temor',\n",
              " 941: 'pequeño',\n",
              " 942: 'recibió',\n",
              " 943: 'observaciones',\n",
              " 944: 'moho',\n",
              " 945: 'habíase',\n",
              " 946: 'ladrón',\n",
              " 947: 'recuerdo',\n",
              " 948: 'quedaba',\n",
              " 949: 'rincón',\n",
              " 950: 'locamente',\n",
              " 951: 'gritaban',\n",
              " 952: 'encendida',\n",
              " 953: 'abrirse',\n",
              " 954: 'llegando',\n",
              " 955: 'desesperación',\n",
              " 956: 'quedaron',\n",
              " 957: 'trabajar',\n",
              " 958: 'obra',\n",
              " 959: 'partido',\n",
              " 960: 'comarca',\n",
              " 961: 'compañía',\n",
              " 962: 'pasando',\n",
              " 963: 'vacaciones',\n",
              " 964: 'figuraba',\n",
              " 965: 'cuyo',\n",
              " 966: 'posible',\n",
              " 967: 'suya',\n",
              " 968: 'casó',\n",
              " 969: 'plumas',\n",
              " 970: 'dieron',\n",
              " 971: 'brockley',\n",
              " 972: 'contemplando',\n",
              " 973: 'hojas',\n",
              " 974: 'profundo',\n",
              " 975: 'correr',\n",
              " 976: 'hermanos',\n",
              " 977: 'mal',\n",
              " 978: 'malo',\n",
              " 979: 'asunto',\n",
              " 980: 'quizás',\n",
              " 981: 'antepasado',\n",
              " 982: 'venido',\n",
              " 983: 'gracias',\n",
              " 984: 'colores',\n",
              " 985: 'dificilísimo',\n",
              " 986: 'gusto',\n",
              " 987: 'conozco',\n",
              " 988: 'cantidad',\n",
              " 989: 'curiosidades',\n",
              " 990: 'papá',\n",
              " 991: '¡no',\n",
              " 992: 'desgraciado',\n",
              " 993: 'admirablemente',\n",
              " 994: 'duermo',\n",
              " 995: 'haciendo',\n",
              " 996: 'llenos',\n",
              " 997: 'asombro',\n",
              " 998: 'contempló',\n",
              " 999: 'allá',\n",
              " 1000: 'pinar',\n",
              " ...}"
            ]
          },
          "metadata": {},
          "execution_count": 304
        }
      ],
      "source": [
        "# Palabras del vocabulario\n",
        "tok.index_word"
      ]
    },
    {
      "cell_type": "code",
      "execution_count": 305,
      "metadata": {
        "id": "9Pap5o0hUWq2",
        "colab": {
          "base_uri": "https://localhost:8080/"
        },
        "outputId": "12a4fb88-393e-45ba-c4bf-f7db195786f6"
      },
      "outputs": [
        {
          "output_type": "execute_result",
          "data": {
            "text/plain": [
              "3287"
            ]
          },
          "metadata": {},
          "execution_count": 305
        }
      ],
      "source": [
        "# Cantidad de palabras en el vocabulario\n",
        "vocab_size = len(tok.word_counts)\n",
        "vocab_size"
      ]
    },
    {
      "cell_type": "code",
      "execution_count": 306,
      "metadata": {
        "id": "wf9Q_0FXUZEp",
        "colab": {
          "base_uri": "https://localhost:8080/"
        },
        "outputId": "807faa25-d0c8-4bbf-b6da-6804bc4a88d5"
      },
      "outputs": [
        {
          "output_type": "stream",
          "name": "stdout",
          "text": [
            "{'de': 1, 'la': 2, 'y': 3, 'que': 4, 'el': 5, 'en': 6, 'a': 7, 'se': 8, 'una': 9, 'un': 10, 'su': 11, 'no': 12, 'los': 13, 'por': 14, 'con': 15, 'las': 16, 'del': 17, 'al': 18, 'sus': 19, 'le': 20, 'lo': 21, 'para': 22, 'sobre': 23, 'otis': 24, 'pero': 25, 'fantasma': 26, 'virginia': 27, 'más': 28, 'era': 29, 'canterville': 30, 'como': 31, 'usted': 32, 'había': 33, 'cuando': 34, 'es': 35, 'todo': 36, 'después': 37, 'mistress': 38, 'míster': 39, 'dijo': 40, 'gran': 41, 'familia': 42, 'muy': 43, 'estaba': 44, 'lord': 45, 'me': 46, 'vez': 47, 'fue': 48, 'noche': 49, 'gemelos': 50, 'ministro': 51, 'casa': 52, 'ya': 53, 'ojos': 54, 'él': 55, 'toda': 56, 'hacer': 57, 'hasta': 58, 'dos': 59, 'tan': 60, 'sin': 61, 'tenía': 62, 'sangre': 63, 'ha': 64, 'hizo': 65, 'cabeza': 66, 'día': 67, 'aquella': 68, 'todos': 69, 'mi': 70, 'o': 71, 'eso': 72, 'mientras': 73, 'tiempo': 74, 'nada': 75, 'unos': 76, 'washington': 77, 'mancha': 78, 'habitación': 79, 'entonces': 80, 'desde': 81, 'nunca': 82, 'así': 83, 'si': 84, 'bien': 85, 'voz': 86, 'entre': 87, 'he': 88, 'allí': 89, 'duquesito': 90, 'porque': 91, 'biblioteca': 92, 'cuanto': 93, 'tres': 94, 'yo': 95, 'siempre': 96, 'lado': 97, 'pues': 98, 'ni': 99, 'puerta': 100, 'ella': 101, 'mano': 102, 'mundo': 103, 'corredor': 104, 'parte': 105, 'realmente': 106, 'antes': 107, 'menos': 108, 'siguiente': 109, 'mañana': 110, 'poco': 111, 'todas': 112, 'verde': 113, 'estaban': 114, 'mismo': 115, 'tener': 116, 'mujer': 117, 'momento': 118, 'ser': 119, 'años': 120, 'veces': 121, 'cual': 122, 'joven': 123, 'iba': 124, 'exclamó': 125, 'simón': 126, 'terrible': 127, 'tal': 128, 'ese': 129, 'sitio': 130, 'manos': 131, 'visto': 132, 'uno': 133, 'alguna': 134, 'durante': 135, 'aire': 136, 'les': 137, 'paso': 138, 'habían': 139, 'vieja': 140, 'umney': 141, 'sí': 142, 'mis': 143, 'media': 144, 'luna': 145, 'estados': 146, 'unidos': 147, '': 148, 'fin': 149, 'nadie': 150, 'muerte': 151, 'joyas': 152, 'sido': 153, 'lady': 154, 'aunque': 155, 'cuatro': 156, 'punto': 157, 'grandes': 158, 'medio': 159, 'largo': 160, 'otro': 161, 'caja': 162, 'fantasmas': 163, 'ruido': 164, 'cama': 165, 'escalera': 166, 'sólo': 167, 'qué': 168, 'además': 169, 'ellos': 170, 'horrible': 171, 'días': 172, 'aquel': 173, 'mucho': 174, 'américa': 175, 'nos': 176, 'duquesa': 177, 'tuvo': 178, 'esqueleto': 179, 'creo': 180, 'varios': 181, 'pudo': 182, 'respondió': 183, 'viejo': 184, 'está': 185, 'puede': 186, 'última': 187, 'miss': 188, 'decir': 189, 'mayor': 190, 'londres': 191, 'e': 192, 'vuelta': 193, 'caballo': 194, 'frente': 195, 'cheshire': 196, 'embargo': 197, 'salón': 198, 'luego': 199, 'palabras': 200, 'sir': 201, 'apenas': 202, 'hay': 203, 'cosas': 204, 'pesar': 205, 'cosa': 206, 'estado': 207, 'luz': 208, 'vio': 209, 'unas': 210, 'volvió': 211, 'terror': 212, 'vida': 213, 'papel': 214, 'ningún': 215, 'modo': 216, 'hacia': 217, 'prisa': 218, 'ver': 219, 'muchacha': 220, 'tengo': 221, 'puedo': 222, 'tiene': 223, 'chase': 224, 'hombros': 225, 'bajo': 226, 'país': 227, 'ustedes': 228, 'verdadero': 229, 'son': 230, 'buena': 231, 'bastante': 232, 'eran': 233, 'esto': 234, 'oro': 235, 'algún': 236, 'través': 237, 'silencio': 238, 'encima': 239, 'baja': 240, 'inmediatamente': 241, 'encontró': 242, 'negro': 243, 'esas': 244, 'lleno': 245, 'terribles': 246, 'esposa': 247, 'encontraron': 248, 'nuevo': 249, 'carta': 250, 'tarde': 251, 'fueron': 252, 'americanos': 253, 'parecía': 254, 'tomó': 255, 'puso': 256, 'aspecto': 257, 'cadenas': 258, 'sol': 259, 'aquí': 260, 'dicho': 261, 'forma': 262, 'cuello': 263, 'llegó': 264, 'casi': 265, 'según': 266, 'ante': 267, 'oyó': 268, 'esa': 269, 'brazos': 270, 'azul': 271, 'quedó': 272, 'sudario': 273, 'último': 274, 'viento': 275, 'fuerte': 276, 'éste': 277, 'cuarto': 278, 'ventana': 279, 'dio': 280, 'sintió': 281, 'estas': 282, 'antigua': 283, 'otra': 284, 'mí': 285, 'criados': 286, 'detrás': 287, 'par': 288, 'sé': 289, 'gitanos': 290, 'cecil': 291, 'deber': 292, 'espanto': 293, 'nuestros': 294, 'quizá': 295, 'hace': 296, 'mil': 297, 'mostrarse': 298, 'mejor': 299, 'algunas': 300, 'cerró': 301, 'estación': 302, 'edad': 303, 'muchas': 304, 'persona': 305, 'verdad': 306, 'completamente': 307, 'podido': 308, 'perfectamente': 309, 'lágrimas': 310, 'coche': 311, 'alto': 312, 'avenida': 313, 'extraño': 314, 'hallaba': 315, 'ama': 316, 'gobierno': 317, 'pie': 318, 'tiempos': 319, 'hall': 320, 'pronto': 321, 'mirada': 322, 'contestó': 323, 'quiero': 324, 'preciso': 325, 'marido': 326, 'circunstancias': 327, 'alma': 328, 'vivamente': 329, 'sabía': 330, 'estancia': 331, 'levantó': 332, 'querido': 333, 'noches': 334, 'haber': 335, 'retiró': 336, 'bajaron': 337, 'clase': 338, 'empezó': 339, 'larga': 340, 'dar': 341, 'manera': 342, 'once': 343, 'doce': 344, 'fuera': 345, 'cada': 346, 'hora': 347, 'frasquito': 348, 'señor': 349, 'ello': 350, 'engrasador': 351, 'levante': 352, 'permaneció': 353, 'contra': 354, 'suelo': 355, 'lanzando': 356, 'secreto': 357, 'habitaciones': 358, 'seis': 359, 'iglesia': 360, 'dedos': 361, 'blanca': 362, 'sonrisa': 363, 'esta': 364, 'dormir': 365, 'semana': 366, 'esmeralda': 367, 'estuvo': 368, 'apareció': 369, 'estar': 370, 'rostro': 371, 'decidió': 372, 'lanzar': 373, 'consiguiente': 374, 'dado': 375, 'seguida': 376, 'espectro': 377, 'puñal': 378, 'dormitorio': 379, 'camino': 380, 'valor': 381, 'indudablemente': 382, 'cogió': 383, 'gallo': 384, 'salió': 385, 'vestido': 386, 'cementerio': 387, 'llevaba': 388, 'jardín': 389, 'amor': 390, 'morir': 391, 'hijos': 392, 'llevando': 393, 'te': 394, 'hija': 395, 'hombre': 396, 'llegaron': 397, 'hemos': 398, 'completo': 399, 'estando': 400, 'causa': 401, 'esos': 402, 'mejores': 403, 'queda': 404, 'todavía': 405, 'existe': 406, 'deja': 407, 'amigo': 408, 'aristocracia': 409, 'comprender': 410, 'ahora': 411, 'nombre': 412, 'nueva': 413, 'cayó': 414, 'aun': 415, 'poney': 416, 'dando': 417, 'parque': 418, 'precisamente': 419, 'provocó': 420, 'duque': 421, 'acto': 422, 'matrimonio': 423, 'siete': 424, 'millas': 425, 'ascot': 426, 'marcha': 427, 'alegría': 428, 'encantadora': 429, 'levantando': 430, 'blanco': 431, 'pareció': 432, 'caído': 433, 'profunda': 434, 'antiguos': 435, 'hermoso': 436, 'rojo': 437, 'darse': 438, 'cuenta': 439, 'veo': 440, 'algo': 441, 'manchas': 442, 'cinco': 443, 'repente': 444, 'otras': 445, 'personas': 446, 'incomparable': 447, 'instantes': 448, 'desaparecido': 449, 'dejar': 450, 'gente': 451, 'buen': 452, 'pueden': 453, 'efecto': 454, 'volver': 455, 'debía': 456, 'debe': 457, 'aquello': 458, 'demasiado': 459, 'existencia': 460, 'paseo': 461, 'simplemente': 462, 'sistema': 463, 'sobrenatural': 464, 'menor': 465, 'pasos': 466, 'abrió': 467, 'parecían': 468, 'fe': 469, 'voy': 470, 'placer': 471, 'mesa': 472, 'roble': 473, 'espacio': 474, 'estuco': 475, 'tranquilidad': 476, 'trescientos': 477, 'quien': 478, 'cuya': 479, 'vela': 480, 'recordó': 481, 'diez': 482, 'mayordomo': 483, 'llevar': 484, 'alrededor': 485, 'hierro': 486, 'pasó': 487, 'furor': 488, 'huesos': 489, 'hierba': 490, '¿y': 491, 'historia': 492, 'actitud': 493, 'natural': 494, 'viendo': 495, 'siento': 496, 'único': 497, 'tanto': 498, 'color': 499, 'rezar': 500, 'armadura': 501, 'losas': 502, 'fuerza': 503, 'bruscamente': 504, 'grito': 505, 'terminar': 506, 'primer': 507, 'vista': 508, 'éxito': 509, 'pasar': 510, 'sombrero': 511, 'puertas': 512, 'oído': 513, 'pequeña': 514, 'aún': 515, 'sería': 516, 'meterse': 517, 'sonaron': 518, 'tejo': 519, 'delante': 520, 'seguía': 521, 'fúnebre': 522, 'cara': 523, 'fuego': 524, 'donde': 525, 'regresó': 526, 'botas': 527, 'cabo': 528, 'pared': 529, 'juramento': 530, 'razón': 531, '¡que': 532, 'cuestión': 533, 'tapices': 534, 'muerto': 535, 'año': 536, 'violencia': 537, 'agua': 538, 'permanecer': 539, 'caso': 540, 'palabra': 541, 'motivo': 542, '¡uú': 543, 'duda': 544, 'habló': 545, 'stilton': 546, 'sabe': 547, 'madre': 548, 'ir': 549, 'inconcebible': 550, 'inglaterra': 551, '¡oh': 552, 'encuentro': 553, 'hambre': 554, 'tienen': 555, 'ruinas': 556, 'labios': 557, 'helado': 558, 'almendro': 559, 'conmigo': 560, 'ángel': 561, 'muro': 562, 'envió': 563, 'diciendo': 564, 'permitido': 565, 'ruego': 566, 'corazón': 567, 'mía': 568, 'tu': 569, 'interés': 570, 'hiram': 571, 'finca': 572, 'creyó': 573, 'condiciones': 574, 'mismos': 575, 'vivir': 576, 'rector': 577, 'parroquia': 578, 'reverendo': 579, 'augusto': 580, 'dampier': 581, 'ninguna': 582, 'doncellas': 583, 'quiso': 584, 'sueño': 585, 'inmueble': 586, 'inventario': 587, 'podemos': 588, 'dinero': 589, 'jóvenes': 590, 'continente': 591, 'prima': 592, 'estoy': 593, 'seguro': 594, 'europa': 595, 'temo': 596, 'sonriendo': 597, 'quinientos': 598, 'hacen': 599, 'naturaleza': 600, 'inglesa': 601, 'acababa': 602, 'observación': 603, 'semanas': 604, 'emprendieron': 605, 'viaje': 606, 'york': 607, 'hermosos': 608, 'soberbio': 609, 'hubiese': 610, 'tenemos': 611, 'hoy': 612, 'hijo': 613, 'padres': 614, 'seguidas': 615, 'quince': 616, 'bonito': 617, 'azules': 618, 'amazona': 619, 'estatua': 620, 'entusiasmo': 621, 'tuvieron': 622, 'misma': 623, 'ordinario': 624, 'estrellas': 625, 'niños': 626, 'verdaderos': 627, 'fueran': 628, 'descubierto': 629, 'dulce': 630, 'fru': 631, 'entraron': 632, 'cruzó': 633, 'cabezas': 634, 'vestida': 635, 'negra': 636, 'vivos': 637, 'puesto': 638, 'tierra': 639, 'singular': 640, 'acento': 641, 'espacioso': 642, 'ancho': 643, 'té': 644, 'trajes': 645, 'pusieron': 646, 'torno': 647, 'suyo': 648, 'oscuro': 649, 'chimenea': 650, 'vertido': 651, 'señora': 652, '¡es': 653, 'espantoso': 654, 'quitar': 655, 'misteriosa': 656, 'muerta': 657, 'propio': 658, 'sesenta': 659, 'nueve': 660, 'cuerpo': 661, 'imposible': 662, 'pinkerton»': 663, 'desaparecer': 664, 'abrir': 665, 'cerrar': 666, 'aterrada': 667, 'pudiera': 668, 'entarimado': 669, 'pocos': 670, 'tono': 671, 'llena': 672, 'admiración': 673, 'relámpago': 674, 'formidable': 675, 'sombría': 676, 'trueno': 677, '¡qué': 678, 'atroz': 679, 'tranquilamente': 680, 'emigrar': 681, 'replicó': 682, 'salario': 683, 'volverá': 684, 'tardó': 685, 'veíase': 686, 'solemne': 687, 'propios': 688, 'pondrían': 689, 'miedo': 690, 'llave': 691, 'mister': 692, 'crimen': 693, 'disipó': 694, 'regresaron': 695, 'tomando': 696, 'cena': 697, 'conversación': 698, 'recayó': 699, 'fenómenos': 700, 'sabido': 701, 'pertenecen': 702, 'ejemplo': 703, 'dificultad': 704, 'encontrar': 705, 'boston': 706, 'desenvolvimiento': 707, 'dulzura': 708, 'despertó': 709, 'miró': 710, 'tranquilo': 711, 'alterado': 712, 'oía': 713, 'zapatillas': 714, 'tocador': 715, 'claro': 716, 'gris': 717, 'caía': 718, 'mechones': 719, 'sola': 720, 'etiqueta': 721, 'proporcionarle': 722, 'algunos': 723, 'minutos': 724, 'inmóvil': 725, 'tiró': 726, 'rabia': 727, 'gruñidos': 728, 'llegaba': 729, 'siluetas': 730, 'almohada': 731, 'evidentemente': 732, 'desvaneció': 733, 'llegado': 734, 'ala': 735, 'tomar': 736, 'jamás': 737, 'seguidos': 738, 'cubierta': 739, 'invitados': 740, 'avanzada': 741, 'medianoche': 742, 'sentado': 743, 'sillón': 744, 'impresión': 745, 'guardar': 746, 'ataque': 747, 'igualmente': 748, 'garganta': 749, 'suma': 750, 'hazañas': 751, 'cristales': 752, 'bella': 753, 'collar': 754, 'terciopelo': 755, 'señal': 756, 'terminó': 757, 'extremo': 758, 'real': 759, 'revista': 760, 'creaciones': 761, 'dedicó': 762, 'amarga': 763, 'aparición': 764, 'vampiro': 765, 'causó': 766, 'jugar': 767, 'marca': 768, 'quisiera': 769, 'reconozco': 770, 'risa': 771, 'prosiguió': 772, 'habría': 773, 'resto': 774, 'atención': 775, 'reaparición': 776, 'parquet': 777, 'cerraba': 778, 'ventanas': 779, 'cambios': 780, 'bermellón': 781, 'púrpura': 782, 'espléndido': 783, 'libre': 784, 'estos': 785, 'grandemente': 786, 'entera': 787, 'única': 788, 'broma': 789, 'llorar': 790, 'enorme': 791, 'cerca': 792, 'rodillas': 793, 'expresión': 794, 'provisto': 795, 'largos': 796, 'salvaje': 797, 'oscuridad': 798, 'dueño': 799, 'célebre': 800, 'carcajadas': 801, 'contaba': 802, 'mes': 803, 'lanzó': 804, 'éstos': 805, 'perro': 806, 'tío': 807, 'cruel': 808, 'gemido': 809, 'iban': 810, 'alcance': 811, 'agitación': 812, 'cuyas': 813, 'frecuencia': 814, 'matar': 815, 'llevó': 816, 'siendo': 817, 'reina': 818, 'acero': 819, 'desplomó': 820, 'derecha': 821, 'morada': 822, 'necesario': 823, 'obstante': 824, 'acabó': 825, 'caída': 826, 'roja': 827, 'atardecer': 828, 'tormenta': 829, 'aquél': 830, 'pensaba': 831, 'temerario': 832, 'ocupaba': 833, 'secretos': 834, 'bonita': 835, 'cariñosa': 836, 'parálisis': 837, 'primero': 838, 'pesadilla': 839, 'ellas': 840, 'hielo': 841, 'órbitas': 842, 'creación': 843, 'ocasiones': 844, 'loca': 845, 'nuevamente': 846, 'hueco': 847, 'centenario': 848, 'pena': 849, 'suerte': 850, 'esperaba': 851, 'claridad': 852, 'deslizó': 853, 'boca': 854, 'nube': 855, 'ojival': 856, 'propias': 857, 'armas': 858, 'tinieblas': 859, 'alguien': 860, 'detuvo': 861, 'granja': 862, 'extraños': 863, 'siglo': 864, 'xvi': 865, 'enmohecido': 866, 'esquina': 867, 'sonó': 868, 'reloj': 869, 'comprendió': 870, 'risotada': 871, 'loco': 872, 'oleadas': 873, 'envolvía': 874, 'cartel': 875, 'inscripción': 876, 'escritos': 877, 'cimitarra': 878, 'pánico': 879, 'corriendo': 880, 'caer': 881, 'montar': 882, 'primera': 883, 'presencia': 884, 'espectáculo': 885, 'recostado': 886, 'precipitó': 887, 'posición': 888, 'lienzo': 889, 'pies': 890, 'cocina': 891, 'poder': 892, 'saldría': 893, 'terminado': 894, 'este': 895, 'canto': 896, 'esperó': 897, 'cantar': 898, 'llegada': 899, 'obligó': 900, 'vano': 901, 'proyecto': 902, 'extraordinariamente': 903, 'diablo': 904, 'murmuró': 905, 'plomo': 906, 'débil': 907, 'últimas': 908, 'nervioso': 909, 'ligero': 910, 'relativo': 911, 'quería': 912, 'merecía': 913, 'cuerpos': 914, 'digno': 915, 'costumbre': 916, 'madrugada': 917, 'podía': 918, 'maderas': 919, 'principio': 920, 'razonable': 921, 'cubierto': 922, 'disfrazado': 923, 'cuan': 924, 'alta': 925, 'dignidad': 926, 'eton': 927, 'disfraz': 928, 'bárbara': 929, 'paseos': 930, 'pobre': 931, 'duelo': 932, 'emplear': 933, 'buenas': 934, 'juego': 935, 'general': 936, 'bajó': 937, 'doble': 938, 'dosel': 939, 'temor': 940, 'pequeño': 941, 'recibió': 942, 'observaciones': 943, 'moho': 944, 'habíase': 945, 'ladrón': 946, 'recuerdo': 947, 'quedaba': 948, 'rincón': 949, 'locamente': 950, 'gritaban': 951, 'encendida': 952, 'abrirse': 953, 'llegando': 954, 'desesperación': 955, 'quedaron': 956, 'trabajar': 957, 'obra': 958, 'partido': 959, 'comarca': 960, 'compañía': 961, 'pasando': 962, 'vacaciones': 963, 'figuraba': 964, 'cuyo': 965, 'posible': 966, 'suya': 967, 'casó': 968, 'plumas': 969, 'dieron': 970, 'brockley': 971, 'contemplando': 972, 'hojas': 973, 'profundo': 974, 'correr': 975, 'hermanos': 976, 'mal': 977, 'malo': 978, 'asunto': 979, 'quizás': 980, 'antepasado': 981, 'venido': 982, 'gracias': 983, 'colores': 984, 'dificilísimo': 985, 'gusto': 986, 'conozco': 987, 'cantidad': 988, 'curiosidades': 989, 'papá': 990, '¡no': 991, 'desgraciado': 992, 'admirablemente': 993, 'duermo': 994, 'haciendo': 995, 'llenos': 996, 'asombro': 997, 'contempló': 998, 'allá': 999, 'pinar': 1000, 'blancas': 1001, 'ruiseñor': 1002, 'canta': 1003, 'oscura': 1004, 'paz': 1005, 'hubo': 1006, 'versos': 1007, 'rubia': 1008, 'niña': 1009, 'deje': 1010, 'significan': 1011, 'mirar': 1012, 'pálida': 1013, 'firme': 1014, 'atravesar': 1015, 'lindas': 1016, 'ten': 1017, 'cuidado': 1018, 'apresuró': 1019, 'flores': 1020, 'busca': 1021, 'encontrado': 1022, 'hermana': 1023, 'acampar': 1024, 'acompañado': 1025, 'inquietud': 1026, 'rogó': 1027, 'regresar': 1028, 'telegramas': 1029, 'groom': 1030, '¿verdad': 1031, 'jefe': 1032, 'llegar': 1033, 'evidente': 1034, 'grupo': 1035, 'pusieran': 1036, 'cajita': 1037, 'estrechó': 1038, 'verle': 1039, 'ventanita': 1040, 'junto': 1041, 'plato': 1042, 'cántaro': 1043, 'contemplaba': 1044, '¡atiza': 1045, 'gravemente': 1046, 'carro': 1047, 'fosa': 1048, 'magníficas': 1049, 'sentía': 1050, 'permitir': 1051, 'sea': 1052, 'sean': 1053, 'principios': 1054, 'sencillez': 1055, 'tumba': 1056, 'legal': 1057, 'pertenece': 1058, 'cigarrillo': 1059, 'debo': 1060, 'oscar': 1061, 'wilde': 1062, 'novela': 1063, 'corta': 1064, 'i': 1065, 'b': 1066, 'compró': 1067, 'cometía': 1068, 'necedad': 1069, 'embrujada': 1070, 'escrupulosa': 1071, 'honradez': 1072, 'participárselo': 1073, 'discutir': 1074, 'nosotros': 1075, 'resistido': 1076, 'absoluto': 1077, 'época': 1078, 'tía': 1079, 'abuela': 1080, 'bolton': 1081, 'desmayo': 1082, 'repuso': 1083, 'motivado': 1084, 'experimentó': 1085, 'sentir': 1086, 'posaban': 1087, 'vistiéndose': 1088, 'cenar': 1089, 'decirle': 1090, 'miembros': 1091, 'viven': 1092, 'actualmente': 1093, 'agregado': 1094, \"king's\": 1095, 'college': 1096, 'oxford': 1097, 'trágico': 1098, 'accidente': 1099, 'ocurrido': 1100, 'quedarse': 1101, 'conciliar': 1102, 'ruidos': 1103, 'misteriosos': 1104, 'llegaban': 1105, 'adquiriré': 1106, 'llego': 1107, 'moderno': 1108, 'capaz': 1109, 'proporcionar': 1110, 'mozos': 1111, 'avispados': 1112, 'recorren': 1113, 'llevan': 1114, 'actores': 1115, 'donnas': 1116, 'vendrán': 1117, 'buscarlo': 1118, 'enseguida': 1119, 'colocarlo': 1120, 'museos': 1121, 'públicos': 1122, 'pasearle': 1123, 'caminos': 1124, 'fenómeno': 1125, 'resiste': 1126, 'ofertas': 1127, 'intrépidos': 1128, 'empresarios': 1129, 'siglos': 1130, 'conoce': 1131, 'data': 1132, 'precisión': 1133, 'setenta': 1134, 'ocurrir': 1135, 'defunción': 1136, '¡bah': 1137, 'médicos': 1138, 'cabecera': 1139, 'mío': 1140, 'existir': 1141, 'leyes': 1142, 'admitan': 1143, 'excepciones': 1144, 'favor': 1145, 'naturales': 1146, 'gusta': 1147, 'acuérdese': 1148, 'únicamente': 1149, 'previne': 1150, 'trato': 1151, 'fines': 1152, 'mistres': 1153, 'lucrecia': 1154, 'r': 1155, 'tappan': 1156, 'calle': 1157, 'west': 1158, '52': 1159, 'ilustre': 1160, '«beldad»': 1161, 'guapísima': 1162, 'regular': 1163, 'perfil': 1164, 'damas': 1165, 'americanas': 1166, 'abandonan': 1167, 'natal': 1168, 'adoptan': 1169, 'aires': 1170, 'atacada': 1171, 'enfermedad': 1172, 'crónica': 1173, 'figuran': 1174, 'sellos': 1175, 'distinción': 1176, 'error': 1177, 'magnífica': 1178, 'abundancia': 1179, 'extraordinaria': 1180, 'vitalidad': 1181, 'muchos': 1182, 'aspectos': 1183, 'citársela': 1184, 'lid': 1185, 'sostener': 1186, 'tesis': 1187, 'común': 1188, 'excepto': 1189, 'lengua': 1190, 'suponer': 1191, 'bautizado': 1192, 'patriotismo': 1193, 'cesaba': 1194, 'lamentar': 1195, 'muchacho': 1196, 'rubio': 1197, 'figura': 1198, 'erigido': 1199, 'candidato': 1200, 'diplomacia': 1201, 'dirigiendo': 1202, 'cotillón': 1203, 'casino': 1204, 'newport': 1205, 'temporadas': 1206, 'pasaba': 1207, 'bailarín': 1208, 'excepcional': 1209, 'únicas': 1210, 'debilidades': 1211, 'gardenias': 1212, 'patria': 1213, 'aparte': 1214, 'sensato': 1215, 'muchachita': 1216, 'esbelta': 1217, 'graciosa': 1218, 'cervatillo': 1219, 'despreocupación': 1220, 'maravillosa': 1221, 'derrotó': 1222, 'carreras': 1223, 'bilton': 1224, 'ganándole': 1225, 'aquiles': 1226, 'delirante': 1227, 'propuso': 1228, 'continuo': 1229, 'tutores': 1230, 'expedirle': 1231, 'elton': 1232, 'bañado': 1233, 'venían': 1234, 'conocidos': 1235, 'bandas': 1236, 'encontraba': 1237, 'ostentándolas': 1238, 'encantadores': 1239, 'únicos': 1240, 'republicanos': 1241, 'próxima': 1242, 'telegrafió': 1243, 'buscarle': 1244, 'julio': 1245, 'aromado': 1246, 'olor': 1247, 'pinos': 1248, 'oíase': 1249, 'paloma': 1250, 'arrullándose': 1251, 'entreveíase': 1252, 'maraña': 1253, 'helechos': 1254, 'pechuga': 1255, 'bruñido': 1256, 'faisán': 1257, 'ligeras': 1258, 'ardillas': 1259, 'espiaban': 1260, 'hayas': 1261, 'conejos': 1262, 'corrían': 1263, 'exhalaciones': 1264, 'matorrales': 1265, 'collados': 1266, 'herbosos': 1267, 'rabo': 1268, 'cielo': 1269, 'cubrió': 1270, 'repentinamente': 1271, 'nubes': 1272, 'invadir': 1273, 'atmósfera': 1274, 'bandada': 1275, 'cornejas': 1276, 'calladamente': 1277, 'llegasen': 1278, 'gotas': 1279, 'escalones': 1280, 'recibirles': 1281, 'pulcramente': 1282, 'seda': 1283, 'cofia': 1284, 'delantal': 1285, 'blancos': 1286, 'requerimientos': 1287, 'accedió': 1288, 'conservar': 1289, 'reverencia': 1290, 'echaron': 1291, 'buenos': 1292, 'doy': 1293, 'bienvenida': 1294, 'siguieron': 1295, 'atravesando': 1296, 'estilo': 1297, 'túdor': 1298, 'terminaba': 1299, 'ventanal': 1300, 'acristalado': 1301, 'preparado': 1302, 'quitaron': 1303, 'sentáronse': 1304, 'curiosear': 1305, 'pavimento': 1306, 'han': 1307, 'ahí': 1308, 'sonrió': 1309, 'leonor': 1310, 'sobrevivió': 1311, 'desapareciendo': 1312, 'misteriosísimas': 1313, 'culpable': 1314, 'sigue': 1315, 'embrujando': 1316, 'admirada': 1317, 'turistas': 1318, 'quitarla': 1319, 'tonterías': 1320, 'producto': 1321, '«quitamanchas»': 1322, 'limpiador': 1323, '«campeón': 1324, 'hará': 1325, 'intervenir': 1326, 'arrodillado': 1327, 'frotaba': 1328, 'barrita': 1329, 'sustancia': 1330, 'parecida': 1331, 'cosmético': 1332, 'rastro': 1333, 'pinkerton': 1334, 'borraría': 1335, 'triunfal': 1336, 'paseando': 1337, 'circular': 1338, 'pronunciado': 1339, 'iluminó': 1340, 'retumbar': 1341, 'desmayó': 1342, 'clima': 1343, 'encendiendo': 1344, 'veguero': 1345, 'abuelos': 1346, 'opiné': 1347, 'ingleses': 1348, '¿qué': 1349, 'desmaya': 1350, 'descontaremos': 1351, 'desmayar': 1352, 'conmovida': 1353, 'hondamente': 1354, 'advirtió': 1355, 'esperarse': 1356, 'disgusto': 1357, 'señores': 1358, 'pelos': 1359, 'punta': 1360, 'cualquier': 1361, 'cristiano': 1362, 'pegar': 1363, 'hechos': 1364, 'pasaban': 1365, 'aseguraron': 1366, 'tenían': 1367, 'ninguno': 1368, 'llaves': 1369, 'impetrado': 1370, 'bendición': 1371, 'providencia': 1372, 'nuevos': 1373, 'amos': 1374, 'arreglárselas': 1375, 'aumentasen': 1376, 'renqueando': 1377, 'ii': 1378, 'tempestad': 1379, 'desencadenó': 1380, 'produjo': 1381, 'almorzar': 1382, 'tenga': 1383, 'culpa': 1384, '«quita': 1385, 'manchas»': 1386, 'ensayado': 1387, 'consecuencia': 1388, 'borró': 1389, 'frotar': 1390, 'reaparecido': 1391, 'permanecía': 1392, 'cerrada': 1393, 'anterior': 1394, 'llevándose': 1395, 'interesarse': 1396, 'creer': 1397, 'dogmático': 1398, 'negando': 1399, 'expresó': 1400, 'intención': 1401, 'afiliarse': 1402, 'sociedad': 1403, 'psíquica': 1404, 'preparó': 1405, 'myers': 1406, 'podmone': 1407, 'basada': 1408, 'persistencia': 1409, 'provienen': 1410, 'dudas': 1411, 'objetiva': 1412, 'aprovechado': 1413, 'frescura': 1414, 'ligera': 1415, 'faltaban': 1416, 'elementales': 1417, '«espera»': 1418, '«receptibilidad»': 1419, 'preceden': 1420, 'menudo': 1421, 'psíquicos': 1422, 'asuntos': 1423, 'discutieron': 1424, 'habituales': 1425, 'cultos': 1426, 'clases': 1427, 'elevadas': 1428, 'inmensa': 1429, 'superioridad': 1430, 'janny': 1431, 'davenport': 1432, 'sarah': 1433, 'bernhardt': 1434, 'actriz': 1435, 'maíz': 1436, 'galletas': 1437, 'trigo': 1438, 'sarraceno': 1439, 'casas': 1440, 'inglesas': 1441, 'importancia': 1442, 'universal': 1443, 'ventajas': 1444, 'consiste': 1445, 'anotar': 1446, 'equipajes': 1447, 'viajeros': 1448, 'neoyorquino': 1449, 'comparado': 1450, 'dejo': 1451, 'trató': 1452, 'alusión': 1453, 'indirecta': 1454, 'apagadas': 1455, 'luces': 1456, 'hierros': 1457, 'viejos': 1458, 'acercaba': 1459, 'encendió': 1460, 'pulso': 1461, 'continuaba': 1462, 'claramente': 1463, 'sonar': 1464, 'alargado': 1465, 'pálido': 1466, 'carbones': 1467, 'encendidos': 1468, 'cabellera': 1469, 'revueltos': 1470, 'ropas': 1471, 'corte': 1472, 'anticuado': 1473, 'manchadas': 1474, 'jirones': 1475, 'muñecas': 1476, 'tobillos': 1477, 'colgaban': 1478, 'pesadas': 1479, 'grilletes': 1480, 'herrumbrosos': 1481, 'distinguido': 1482, 'permítame': 1483, 'ruegue': 1484, 'engrase': 1485, 'traído': 1486, 'botella': 1487, 'tammany': 1488, 'dicen': 1489, 'untura': 1490, 'eficacísima': 1491, 'certificados': 1492, 'teólogos': 1493, 'ilustres': 1494, 'dan': 1495, 'dejársela': 1496, 'mecedoras': 1497, 'tendré': 1498, 'desea': 1499, 'dejó': 1500, 'mármol': 1501, 'meter': 1502, 'indignación': 1503, 'encerado': 1504, 'huyó': 1505, 'cavernosos': 1506, 'despidiendo': 1507, 'extraña': 1508, 'aparecieron': 1509, 'infantiles': 1510, 'vestidas': 1511, 'voluminosa': 1512, 'rozó': 1513, 'perder': 1514, 'utilizando': 1515, 'fuga': 1516, 'cuarta': 1517, 'dimensión': 1518, 'recobró': 1519, 'cuartito': 1520, 'izquierda': 1521, 'adosó': 1522, 'rayo': 1523, 'aliento': 1524, 'reflexionar': 1525, 'situación': 1526, 'brillante': 1527, 'carrera': 1528, 'duraba': 1529, 'injuriado': 1530, 'groseramente': 1531, 'acordó': 1532, 'viuda': 1533, 'crisis': 1534, 'mirándose': 1535, 'espejo': 1536, 'brillantes': 1537, 'encajes': 1538, 'quienes': 1539, 'enloquecido': 1540, 'produciéndoles': 1541, 'convulsiones': 1542, 'histéricas': 1543, 'hacerlas': 1544, 'visajes': 1545, 'cortinas': 1546, 'destinadas': 1547, 'apagó': 1548, 'soplo': 1549, 'volvía': 1550, 'convirtió': 1551, 'mártir': 1552, 'alteraciones': 1553, 'nerviosas': 1554, 'tremouillac': 1555, 'despertarse': 1556, 'lumbre': 1557, 'entretenido': 1558, 'leer': 1559, 'diario': 1560, 'redactaba': 1561, 'resultas': 1562, 'meses': 1563, 'víctima': 1564, 'cerebral': 1565, 'curada': 1566, 'reconcilió': 1567, 'rompió': 1568, 'relaciones': 1569, 'señalado': 1570, 'escéptico': 1571, 'monsieur': 1572, 'voltaire': 1573, 'bribón': 1574, 'hallado': 1575, 'agonizante': 1576, 'sota': 1577, 'espadas': 1578, 'hundida': 1579, 'viéndose': 1580, 'obligado': 1581, 'confesar': 1582, 'timado': 1583, 'libras': 1584, 'carlos': 1585, 'fos': 1586, 'grookford': 1587, 'juraba': 1588, 'tragar': 1589, 'volvían': 1590, 'mente': 1591, 'desfilar': 1592, 'tapa': 1593, 'sesos': 1594, 'tamborilear': 1595, 'steefield': 1596, 'condenada': 1597, 'tapar': 1598, 'impresos': 1599, 'candente': 1600, 'piel': 1601, 'ahogarse': 1602, 'vivero': 1603, 'ególatra': 1604, 'artista': 1605, 'célebres': 1606, 'evocar': 1607, '«rubén': 1608, 'rojo»': 1609, '«el': 1610, 'rorro': 1611, 'estrangulado»': 1612, 'debut': 1613, '«gibeén': 1614, 'flaco': 1615, 'páramo': 1616, 'bevley»': 1617, 'junio': 1618, 'bolos': 1619, 'campo': 1620, 'lawn': 1621, 'tennis': 1622, '¡para': 1623, 'miserables': 1624, 'ofreciesen': 1625, 'tirasen': 1626, 'almohadas': 1627, 'intolerable': 1628, 'enseña': 1629, 'tratado': 1630, 'conclusión': 1631, 'tomarse': 1632, 'revancha': 1633, 'amanecer': 1634, 'meditación': 1635, 'iii': 1636, 'almuerzo': 1637, 'reunió': 1638, 'discutió': 1639, 'extensamente': 1640, 'acerca': 1641, 'ofendido': 1642, 'ofrecimiento': 1643, 'aceptado': 1644, 'alguno': 1645, 'injuriar': 1646, 'personalmente': 1647, 'dada': 1648, 'duración': 1649, 'cortés': 1650, 'tirarle': 1651, 'justa': 1652, 'explosión': 1653, 'empeña': 1654, 'uso': 1655, 'veremos': 1656, 'precisados': 1657, 'quitarle': 1658, 'alcobas': 1659, 'molestados': 1660, 'llamó': 1661, 'continua': 1662, 'igual': 1663, 'sufría': 1664, 'comparables': 1665, 'camaleón': 1666, 'produjeron': 1667, 'asimismo': 1668, 'frecuentes': 1669, 'comentarios': 1670, 'violáceo': 1671, 'ritos': 1672, 'sencillos': 1673, 'episcopal': 1674, 'reformada': 1675, 'kaleidoscópicos': 1676, 'divirtieron': 1677, 'reunión': 1678, 'hacíanse': 1679, 'apuestas': 1680, 'razones': 1681, 'ignoradas': 1682, 'sentíase': 1683, 'impresionada': 1684, 'domingo': 1685, 'acostados': 1686, 'alarmó': 1687, 'estrépito': 1688, 'apresuradamente': 1689, 'completa': 1690, 'desprendido': 1691, 'soporte': 1692, 'cayendo': 1693, 'respaldo': 1694, 'restregaba': 1695, 'agudo': 1696, 'dolor': 1697, 'cañas': 1698, 'majuelos': 1699, 'lanzaron': 1700, 'seguridad': 1701, 'puntería': 1702, 'adquiere': 1703, 'pacientes': 1704, 'ejercicios': 1705, 'profesor': 1706, 'caligrafía': 1707, 'mantenía': 1708, 'amenaza': 1709, 'revólver': 1710, 'conforme': 1711, 'californiana': 1712, 'instaba': 1713, 'levantar': 1714, 'alzó': 1715, 'niebla': 1716, 'apagando': 1717, 'dejándolos': 1718, 'repique': 1719, 'satánicas': 1720, 'encanecer': 1721, 'peluquín': 1722, 'raker': 1723, 'necesitaron': 1724, 'sucesivas': 1725, 'amas': 1726, 'decidirse': 1727, '«dimitir»': 1728, 'cargo': 1729, 'carcajada': 1730, 'despertando': 1731, 'paulatinamente': 1732, 'ecos': 1733, 'antiguas': 1734, 'bóvedas': 1735, 'apagados': 1736, 'dama': 1737, 'esté': 1738, 'indispuesto': 1739, 'traigo': 1740, 'frasco': 1741, 'tintura': 1742, 'doctor': 1743, 'dobell': 1744, 'trata': 1745, 'indigestión': 1746, 'sentará': 1747, 'llameantes': 1748, 'metamorfosearse': 1749, 'truco': 1750, 'reputación': 1751, 'merecidísima': 1752, 'atribuía': 1753, 'idiotez': 1754, 'incurable': 1755, 'honorable': 1756, 'tomás': 1757, 'horton': 1758, 'acercaban': 1759, 'vacilar': 1760, 'determinación': 1761, 'contentó': 1762, 'volverse': 1763, 'fosforescente': 1764, 'sepulcral': 1765, 'darle': 1766, 'sintióse': 1767, 'destrozado': 1768, 'presa': 1769, 'violenta': 1770, 'ordinariez': 1771, 'grosero': 1772, 'materialismo': 1773, 'resultaba': 1774, 'vejatorio': 1775, 'humillaba': 1776, 'fuerzas': 1777, 'modernos': 1778, 'hacerles': 1779, 'estremecer': 1780, 'acorazado': 1781, 'motivos': 1782, 'razonables': 1783, 'deferencia': 1784, 'poeta': 1785, 'nacional': 1786, 'longfellow': 1787, 'poesías': 1788, 'delicadas': 1789, 'atrayentes': 1790, 'habíanle': 1791, 'ayudado': 1792, 'propia': 1793, 'torneo': 1794, 'kenilworth': 1795, 'felicitado': 1796, 'calurosamente': 1797, 'virgen': 1798, 'ponérsela': 1799, 'aplastado': 1800, 'peso': 1801, 'coraza': 1802, 'yelmo': 1803, 'pesadamente': 1804, 'piedra': 1805, 'despellejándose': 1806, 'contusionándose': 1807, 'muñeca': 1808, 'malísimo': 1809, 'salir': 1810, 'mantener': 1811, 'cuidados': 1812, 'restablecerse': 1813, 'tercera': 1814, 'tentativa': 1815, 'aterrorizar': 1816, 'eligió': 1817, 'escena': 1818, 'viernes': 1819, '17': 1820, 'agosto': 1821, 'consagrando': 1822, 'elección': 1823, 'levantada': 1824, 'pluma': 1825, 'deshilachado': 1826, 'mangas': 1827, 'mohoso': 1828, 'estalló': 1829, 'sacudía': 1830, 'violentamente': 1831, 'vetusta': 1832, 'convenía': 1833, 'iría': 1834, 'sigilosamente': 1835, 'musitaría': 1836, 'frases': 1837, 'ininteligibles': 1838, 'quedándose': 1839, 'hundiría': 1840, 'sones': 1841, 'música': 1842, 'apagada': 1843, 'odiaba': 1844, 'acostumbraba': 1845, 'famosa': 1846, 'empleando': 1847, '«limpiador': 1848, 'reducir': 1849, 'despreocupado': 1850, 'entraría': 1851, 'colocara': 1852, 'viscosa': 1853, 'murmuraría': 1854, 'sorda': 1855, 'tembloroso': 1856, 'osario': 1857, 'decidido': 1858, 'insultado': 1859, 'cuantos': 1860, 'sordos': 1861, 'saliesen': 1862, 'armario': 1863, 'suficientes': 1864, 'bastaban': 1865, 'despertarla': 1866, 'llegaría': 1867, 'tirarla': 1868, 'puntita': 1869, 'nariz': 1870, 'rígidos': 1871, 'resuelto': 1872, 'darles': 1873, 'lección': 1874, 'haría': 1875, 'sentarse': 1876, 'pechos': 1877, 'objeto': 1878, 'producirles': 1879, 'sensación': 1880, 'aprovechando': 1881, 'camas': 1882, 'juntas': 1883, 'alzaría': 1884, 'cadáver': 1885, 'frío': 1886, 'quedaran': 1887, 'paralizados': 1888, 'tirando': 1889, 'daría': 1890, 'patas': 1891, 'blanqueado': 1892, 'moviendo': 1893, '«daniel': 1894, 'mudo': 1895, 'suicida»': 1896, 'varias': 1897, 'creía': 1898, '«martín': 1899, 'demente': 1900, 'misterio': 1901, 'enmascarado»': 1902, 'subir': 1903, 'acostarse': 1904, 'inquietaron': 1905, 'tumultuosas': 1906, 'divertían': 1907, 'colegiales': 1908, 'lechuza': 1909, 'chocaba': 1910, 'cuervo': 1911, 'crascitaba': 1912, 'gemía': 1913, 'vagando': 1914, 'dormía': 1915, 'sospechar': 1916, 'ronquidos': 1917, 'regulares': 1918, 'dominaban': 1919, 'lluvia': 1920, 'furtivamente': 1921, 'perversa': 1922, 'dibujaba': 1923, 'arrugada': 1924, 'escondió': 1925, 'tras': 1926, 'representadas': 1927, 'asesinada': 1928, 'andando': 1929, 'deslizándose': 1930, 'sombra': 1931, 'funesta': 1932, 'retroceder': 1933, 'mismas': 1934, 'oír': 1935, 'llamaba': 1936, 'ladraba': 1937, 'refunfuñando': 1938, 'juramentos': 1939, 'blandiendo': 1940, 'pasillo': 1941, 'conducía': 1942, 'breve': 1943, 'parada': 1944, 'agitaba': 1945, 'grises': 1946, 'ceñía': 1947, 'pliegues': 1948, 'grotescos': 1949, 'fantásticos': 1950, 'horror': 1951, 'indecible': 1952, 'retrocedió': 1953, 'lastimero': 1954, 'escondiendo': 1955, 'lívida': 1956, 'largas': 1957, 'huesosas': 1958, 'monstruoso': 1959, 'pelada': 1960, 'reluciente': 1961, 'faz': 1962, 'redonda': 1963, 'carnosa': 1964, 'horrorosa': 1965, 'retorcer': 1966, 'rasgos': 1967, 'mueca': 1968, 'eterna': 1969, 'brotaba': 1970, 'escarlata': 1971, 'pozo': 1972, 'vestidura': 1973, 'nieve': 1974, 'silenciosa': 1975, 'gigantesca': 1976, 'pecho': 1977, 'colgado': 1978, 'caracteres': 1979, 'rótulo': 1980, 'infamante': 1981, 'delitos': 1982, 'espantosos': 1983, 'lista': 1984, 'crímenes': 1985, 'resplandeciente': 1986, 'segunda': 1987, 'monstruo': 1988, 'trompicando': 1989, 'galería': 1990, 'refugiado': 1991, 'retiro': 1992, 'reducido': 1993, 'catre': 1994, 'tijera': 1995, 'tapándose': 1996, 'sábanas': 1997, 'indomable': 1998, 'resolución': 1999, 'hablar': 2000, 'amaneciese': 2001, 'alba': 2002, 'plateó': 2003, 'colinas': 2004, 'contacto': 2005, 'horroroso': 2006, 'valían': 2007, 'ayuda': 2008, 'podría': 2009, 'contender': 2010, 'victoriosamente': 2011, 'hallóse': 2012, 'sucedíale': 2013, 'centelleante': 2014, 'forzada': 2015, 'incómoda': 2016, 'cuál': 2017, 'despegarse': 2018, 'rodar': 2019, 'tomaba': 2020, 'supina': 2021, 'notó': 2022, 'abrazaba': 2023, 'cortina': 2024, 'grueso': 2025, 'yacían': 2026, 'escoba': 2027, 'machete': 2028, 'calabaza': 2029, 'vacía': 2030, 'curiosa': 2031, 'transformación': 2032, 'febril': 2033, 'leyendo': 2034, 'grisácea': 2035, 'espíritu': 2036, 'auténtico': 2037, '¡desconfiad': 2038, 'imitaciones': 2039, 'demás': 2040, 'están': 2041, 'falsificados': 2042, '¡había': 2043, 'burlado': 2044, 'chasqueado': 2045, 'engañado': 2046, 'característica': 2047, 'reapareció': 2048, 'apretó': 2049, 'mandíbulas': 2050, 'desdentadas': 2051, 'amarillas': 2052, 'juró': 2053, 'ritual': 2054, 'pintoresco': 2055, 'escuela': 2056, '«que': 2057, 'tocara': 2058, 'cuerno': 2059, 'alegre': 2060, 'llamada': 2061, 'consumarían': 2062, 'sangrientas': 2063, 'callado': 2064, 'retiro»': 2065, 'formular': 2066, 'alquería': 2067, 'lejana': 2068, 'tejado': 2069, 'ladrillo': 2070, 'lenta': 2071, 'criadas': 2072, 'abandonar': 2073, 'guardia': 2074, 'altivo': 2075, 'pensando': 2076, 'fracasado': 2077, 'consultó': 2078, 'libros': 2079, 'caballería': 2080, 'lectura': 2081, 'interesaba': 2082, 'comprobar': 2083, 'cantó': 2084, 'cuantas': 2085, 'recurrió': 2086, 'lleve': 2087, 'animal': 2088, 'volátil': 2089, '¡en': 2090, 'lanza': 2091, 'atravesándole': 2092, 'obligándole': 2093, 'reventara': 2094, 'confortable': 2095, 'iv': 2096, 'cansado': 2097, 'emociones': 2098, 'empezaban': 2099, 'producir': 2100, 'temblaba': 2101, 'concluyó': 2102, 'concesión': 2103, 'verla': 2104, 'colocada': 2105, 'vistas': 2106, 'plano': 2107, 'inferior': 2108, 'material': 2109, 'incapaz': 2110, 'apreciar': 2111, 'simbólico': 2112, 'sensibles': 2113, 'apariciones': 2114, 'astrales': 2115, 'desconocida': 2116, 'indiscutiblemente': 2117, 'constituía': 2118, 'ineludible': 2119, 'farfullar': 2120, 'tercer': 2121, 'miércoles': 2122, 'veía': 2123, 'sustraerse': 2124, 'obligación': 2125, 'criminal': 2126, 'quitado': 2127, 'concienzudo': 2128, 'relacionaba': 2129, 'sábados': 2130, 'siguientes': 2131, 'atravesó': 2132, 'precauciones': 2133, 'posibles': 2134, 'quitaba': 2135, 'pisaba': 2136, 'ligeramente': 2137, 'viejas': 2138, 'carcomidas': 2139, 'envolvíase': 2140, 'capa': 2141, 'dejaba': 2142, 'usar': 2143, 'engrasar': 2144, 'precisado': 2145, 'reconocer': 2146, 'vacilaciones': 2147, 'adoptar': 2148, 'protección': 2149, 'cenaba': 2150, 'humillado': 2151, 'suficientemente': 2152, 'invento': 2153, 'elogios': 2154, 'cooperaba': 2155, 'cierto': 2156, 'realización': 2157, 'proyectos': 2158, 'matracas': 2159, 'dejaban': 2160, 'tenderle': 2161, 'cuerdas': 2162, 'tropezar': 2163, '«isaac': 2164, 'cazador': 2165, 'bosque': 2166, 'hogsley»': 2167, 'poner': 2168, 'pista': 2169, 'enjabonadas': 2170, 'colocado': 2171, 'umbral': 2172, 'afrenta': 2173, 'esfuerzo': 2174, 'imponer': 2175, 'consolidar': 2176, 'social': 2177, 'formó': 2178, 'visitar': 2179, 'insolentes': 2180, 'chicos': 2181, '«ruperto': 2182, 'conde': 2183, 'cabeza»': 2184, 'mostrado': 2185, 'hacía': 2186, 'pavor': 2187, 'modish': 2188, 'ésta': 2189, 'consentimiento': 2190, 'abuelo': 2191, 'actual': 2192, 'fugó': 2193, 'gretna': 2194, 'green': 2195, 'arrogante': 2196, 'jach': 2197, 'castletown': 2198, 'jurando': 2199, 'consentiría': 2200, 'emparentar': 2201, 'toleraba': 2202, 'terraza': 2203, 'jack': 2204, 'pradera': 2205, 'wandsworth': 2206, 'murió': 2207, 'tumbridge': 2208, 'wells': 2209, 'conceptos': 2210, 'permitiéndome': 2211, 'término': 2212, 'argot': 2213, 'teatral': 2214, 'aplicarlo': 2215, 'mayores': 2216, 'misterios': 2217, 'lenguaje': 2218, 'científico': 2219, '«del': 2220, 'superior': 2221, 'naturaleza»': 2222, 'repito': 2223, 'difíciles': 2224, 'necesitó': 2225, 'horas': 2226, 'preparativos': 2227, 'listo': 2228, 'contentísimo': 2229, 'hacían': 2230, 'traje': 2231, 'holgadas': 2232, 'pistolas': 2233, 'arzón': 2234, 'satisfechísimo': 2235, 'ocupada': 2236, 'llamaré': 2237, 'cortinajes': 2238, 'entreabierta': 2239, 'entrada': 2240, 'sensacional': 2241, 'empujó': 2242, 'vino': 2243, 'jarra': 2244, 'empapó': 2245, 'dándole': 2246, 'hombro': 2247, 'milímetros': 2248, 'risas': 2249, 'sofocadas': 2250, 'partían': 2251, 'sufrió': 2252, 'conmoción': 2253, 'escape': 2254, 'reúma': 2255, 'consuelo': 2256, 'llevado': 2257, 'consecuencias': 2258, 'hubieran': 2259, 'graves': 2260, 'renunció': 2261, 'espantar': 2262, 'recia': 2263, 'limitó': 2264, 'vagar': 2265, 'orillo': 2266, 'envuelto': 2267, 'gruesa': 2268, 'bufanda': 2269, 'corrientes': 2270, 'arcabuz': 2271, 'fuese': 2272, 'atacado': 2273, '19': 2274, 'septiembre': 2275, 'golpe': 2276, 'gracia': 2277, 'bajado': 2278, 'jugarretas': 2279, 'entretenía': 2280, 'satíricas': 2281, 'fotografías': 2282, 'hechas': 2283, 'sarow': 2284, 'sencilla': 2285, 'decentemente': 2286, 'salpicado': 2287, 'atado': 2288, 'quijada': 2289, 'tira': 2290, 'tela': 2291, 'linternita': 2292, 'azadón': 2293, 'sepulturero': 2294, '«jonás': 2295, 'desenterrador': 2296, 'cadáveres': 2297, 'cherstey': 2298, 'barn»': 2299, 'notables': 2300, 'guardaban': 2301, 'verdadera': 2302, 'riña': 2303, 'rufford': 2304, 'vecino': 2305, 'serían': 2306, 'próximamente': 2307, 'juicio': 2308, 'movía': 2309, 'dirigía': 2310, 'dirección': 2311, 'abalanzaron': 2312, 'sombrío': 2313, 'agitando': 2314, 'aquellas': 2315, 'armado': 2316, 'regadera': 2317, 'cercado': 2318, 'enemigos': 2319, 'acorralado': 2320, 'evaporarse': 2321, 'estufa': 2322, 'colado': 2323, 'afortunadamente': 2324, 'tubos': 2325, 'chimeneas': 2326, 'refugio': 2327, 'tremendo': 2328, 'hollín': 2329, 'vérsele': 2330, 'expedición': 2331, 'nocturna': 2332, 'acecho': 2333, 'sorprenderle': 2334, 'sembrando': 2335, 'cáscara': 2336, 'nuez': 2337, 'corredores': 2338, 'molestia': 2339, 'inútil': 2340, 'profundamente': 2341, 'herido': 2342, 'demócrata': 2343, 'empezado': 2344, 'organizó': 2345, 'clam': 2346, 'bake': 2347, 'extraordinario': 2348, 'dedicaron': 2349, 'barra': 2350, 'ecarté': 2351, 'poker': 2352, 'diversiones': 2353, 'nacionales': 2354, 'carreteras': 2355, 'escribió': 2356, 'comunicárselo': 2357, 'contestación': 2358, 'testimoniaba': 2359, 'producía': 2360, 'noticia': 2361, 'enviaba': 2362, 'sinceras': 2363, 'felicitaciones': 2364, 'digna': 2365, 'equivocaban': 2366, 'delicado': 2367, 'dispuesto': 2368, 'retirarse': 2369, 'saber': 2370, 'francis': 2371, 'apostó': 2372, 'coronel': 2373, 'carbury': 2374, 'jugaría': 2375, 'dados': 2376, 'tendido': 2377, 'alcanzó': 2378, 'pronunciar': 2379, 'éstas': 2380, '¡seis': 2381, 'conocida': 2382, 'sentimientos': 2383, 'familias': 2384, 'nobles': 2385, 'hiciera': 2386, 'ocultarla': 2387, 'relato': 2388, 'detallado': 2389, 'referente': 2390, 'tomo': 2391, 'tercero': 2392, 'memorias': 2393, 'tattle': 2394, 'príncipe': 2395, 'regente': 2396, 'amigos': 2397, 'deseaba': 2398, 'probar': 2399, 'perdido': 2400, 'influencia': 2401, 'emparentado': 2402, 'segundas': 2403, 'nupcias': 2404, 'bulkeley': 2405, 'descienden': 2406, 'línea': 2407, 'directa': 2408, 'duques': 2409, 'preparativo': 2410, 'enamorado': 2411, 'famoso': 2412, '«fraile': 2413, 'benedictino': 2414, 'desangrado»': 2415, 'starbury': 2416, 'representar': 2417, 'víspera': 2418, '1764': 2419, 'chillidos': 2420, 'agudos': 2421, 'resultado': 2422, 'apoplejía': 2423, 'fallecimiento': 2424, 'desheredara': 2425, 'legase': 2426, 'farmacéutico': 2427, 'inspiraban': 2428, 'retuvo': 2429, 'durmió': 2430, 'lecho': 2431, 'coronado': 2432, 'soñando': 2433, 'v': 2434, 'adorador': 2435, 'cabello': 2436, 'rizado': 2437, 'prados': 2438, 'desgarró': 2439, 'saltar': 2440, 'seto': 2441, 'entró': 2442, 'viesen': 2443, 'abierta': 2444, 'dentro': 2445, 'pensó': 2446, 'doncella': 2447, 'asomó': 2448, 'encargarle': 2449, 'cosiese': 2450, '¡pero': 2451, 'sorpresa': 2452, 'acomodado': 2453, 'llameante': 2454, 'árboles': 2455, 'amarillentos': 2456, 'revoloteaban': 2457, 'enrojecidas': 2458, 'bailaban': 2459, 'apoyada': 2460, 'revelaba': 2461, 'desaliento': 2462, 'presentaba': 2463, 'abrumado': 2464, 'abatido': 2465, 'ceder': 2466, 'impulso': 2467, 'echar': 2468, 'encerrarse': 2469, 'compasión': 2470, 'consolarle': 2471, 'melancolía': 2472, 'honda': 2473, 'sentido': 2474, 'regresan': 2475, 'porta': 2476, 'atormentará': 2477, 'pedirme': 2478, 'porte': 2479, 'estupefacto': 2480, 'jovencita': 2481, 'audacia': 2482, 'dirigirle': 2483, 'sacuda': 2484, 'gruña': 2485, 'agujeros': 2486, 'cerraduras': 2487, 'corretee': 2488, '¿eso': 2489, 'llama': 2490, 'portarse': 2491, '¿sabe': 2492, 'llegamos': 2493, 'mató': 2494, 'incautamente': 2495, 'adoptaba': 2496, 'gesto': 2497, 'gravedad': 2498, 'puritana': 2499, 'heredado': 2500, 'sufrir': 2501, 'severidad': 2502, 'barata': 2503, 'moral': 2504, 'abstracta': 2505, 'feísima': 2506, 'almidonaba': 2507, 'puños': 2508, 'mire': 2509, 'cazado': 2510, 'ciervo': 2511, 'bosques': 2512, 'hogsley': 2513, 'macho': 2514, '¡pues': 2515, 'figurarse': 2516, 'cómo': 2517, 'sirvió': 2518, 'dejemos': 2519, 'liquidado': 2520, 'dejasen': 2521, 'matase': 2522, 'dejaran': 2523, 'don': 2524, '¿es': 2525, 'sandwich': 2526, 'costurero': 2527, '¿le': 2528, 'gustaría': 2529, 'modos': 2530, 'amabilísimo': 2531, 'atenta': 2532, 'arisca': 2533, 'ordinaria': 2534, 'ladrona': 2535, '¡basta': 2536, 'arisco': 2537, 'robado': 2538, 'pinturas': 2539, 'restaurar': 2540, 'ridícula': 2541, 'coger': 2542, 'rojos': 2543, 'incluso': 2544, 'imposibilitándome': 2545, 'pintar': 2546, 'puestas': 2547, 'agarró': 2548, 'amarillo': 2549, 'cromo': 2550, 'finalmente': 2551, 'añil': 2552, 'claros': 2553, 'da': 2554, 'grima': 2555, 'incomodísimos': 2556, 'colorear': 2557, 'acusado': 2558, 'fastidiada': 2559, 'ridículas': 2560, '¿se': 2561, 'vamos': 2562, 'cierta': 2563, 'actuales': 2564, 'agenciarse': 2565, 'hermano': 2566, 'quitamanchas': 2567, 'resistir': 2568, 'formará': 2569, 'idea': 2570, 'padre': 2571, 'tendrá': 2572, 'pasaje': 2573, 'gratuito': 2574, 'haya': 2575, 'derechos': 2576, 'elevadísimos': 2577, 'pondrán': 2578, 'dificultades': 2579, 'aduana': 2580, 'contar': 2581, 'infinidad': 2582, 'darían': 2583, 'cien': 2584, 'dólares': 2585, 'antepasados': 2586, 'sacrificarían': 2587, '«familia»': 2588, 'divertiría': 2589, 'deba': 2590, 'burlonamente': 2591, 'marina': 2592, 'modales': 2593, 'pedir': 2594, 'conceda': 2595, 'vaya': 2596, 'suplico': 2597, 'solo': 2598, 'soy': 2599, 'acostarme': 2600, 'apagar': 2601, 'despierto': 2602, 'cambio': 2603, 'sencillo': 2604, 've': 2605, 'saben': 2606, 'listos': 2607, 'anciano': 2608, 'tristemente': 2609, 'abriese': 2610, 'cansadísimo': 2611, 'adoptó': 2612, 'grave': 2613, 'finos': 2614, 'movieron': 2615, 'pétalos': 2616, 'rosa': 2617, 'acercó': 2618, 'arrodillándose': 2619, 'envejecido': 2620, 'arrugado': 2621, 'pobrecito': 2622, 'profirió': 2623, 'pueda': 2624, 'lejos': 2625, 'soñadora': 2626, 'jardincito': 2627, 'crece': 2628, 'espesa': 2629, 'verse': 2630, 'cicuta': 2631, 'cristal': 2632, 'extiende': 2633, 'gigante': 2634, 'durmientes': 2635, 'empañaron': 2636, 'sepultó': 2637, 'refiere': 2638, '¡sí': 2639, 'hermosa': 2640, '¡descansar': 2641, 'blanda': 2642, 'hierbas': 2643, 'balancean': 2644, 'nuestra': 2645, 'escuchar': 2646, 'ayer': 2647, 'olvidarse': 2648, 'ayudarme': 2649, 'abrirme': 2650, 'acompaña': 2651, 'tembló': 2652, 'estremecimiento': 2653, 'recorrió': 2654, 'parecíale': 2655, 'resonaba': 2656, 'suspiros': 2657, '¿ha': 2658, 'leído': 2659, 'profecía': 2660, 'vidrieras': 2661, 'pintada': 2662, 'curiosas': 2663, 'letras': 2664, 'doradas': 2665, 'lee': 2666, 'logre': 2667, 'brotar': 2668, 'oración': 2669, 'pecador': 2670, 'estéril': 2671, 'dé': 2672, 'fruto': 2673, 'llanto': 2674, 'recobrará': 2675, 'pecados': 2676, 'apoderará': 2677, 'verá': 2678, 'seres': 2679, 'voces': 2680, 'funestas': 2681, 'murmurarán': 2682, 'oídos': 2683, 'podrán': 2684, 'hacerle': 2685, 'daño': 2686, 'pureza': 2687, 'potencias': 2688, 'infernales': 2689, 'retorcíase': 2690, 'inclinada': 2691, 'irguió': 2692, 'fulgor': 2693, 'rogaré': 2694, 'apiade': 2695, 'levantóse': 2696, 'asiento': 2697, 'blonda': 2698, 'gentileza': 2699, 'recordaba': 2700, 'pasados': 2701, 'besó': 2702, 'fríos': 2703, 'abrasaban': 2704, 'flaqueó': 2705, 'tapiz': 2706, 'apagado': 2707, 'bordados': 2708, 'pequeños': 2709, 'cazadores': 2710, 'soplaban': 2711, 'adornados': 2712, 'flecos': 2713, 'hacíanle': 2714, 'gestos': 2715, 'retrocediese': 2716, 'vuelve': 2717, 'tus': 2718, '¡vete': 2719, 'vete': 2720, 'apretaba': 2721, 'verlos': 2722, 'horribles': 2723, 'animales': 2724, 'colas': 2725, 'lagarto': 2726, 'ojazos': 2727, 'saltones': 2728, 'parpadearon': 2729, 'maliciosamente': 2730, 'esquinas': 2731, 'decían': 2732, 'podríamos': 2733, 'verte': 2734, 'murmurando': 2735, 'disiparse': 2736, 'lentamente': 2737, 'neblina': 2738, 'caverna': 2739, 'áspero': 2740, 'azotó': 2741, 'sintiendo': 2742, 'tiraban': 2743, 'gritó': 2744, 'será': 2745, 'desierto': 2746, 'vi': 2747, 'campana': 2748, 'buscarla': 2749, 'descubrir': 2750, 'tardes': 2751, 'recoger': 2752, 'inquietó': 2753, 'leve': 2754, 'aparecía': 2755, 'seriamente': 2756, 'intranquila': 2757, 'recorrían': 2758, 'volvieron': 2759, 'huellas': 2760, 'conmovieron': 2761, 'tribu': 2762, 'blackfell': 2763, 'hollow': 2764, 'insistencia': 2765, 'dejase': 2766, 'acompañarle': 2767, 'mas': 2768, 'negó': 2769, 'temiendo': 2770, 'jaleo': 2771, 'marchado': 2772, 'huir': 2773, 'ardía': 2774, 'quedaban': 2775, 'platos': 2776, 'mandar': 2777, 'hombres': 2778, 'registrasen': 2779, 'alrededores': 2780, 'inspectores': 2781, 'policía': 2782, 'condado': 2783, 'rogándoles': 2784, 'buscasen': 2785, 'raptada': 2786, 'vagabundos': 2787, 'trajeran': 2788, 'insistir': 2789, 'sentaran': 2790, 'partió': 2791, 'recorrido': 2792, 'galope': 2793, 'espalda': 2794, 'sofocada': 2795, 'descubierta': 2796, 'muchísimo': 2797, 'entrecortada': 2798, 'comer': 2799, 'aparezca': 2800, 'enfade': 2801, 'hubiera': 2802, 'casarnos': 2803, 'pasado': 2804, 'rechaza': 2805, 'irme': 2806, 'dirigir': 2807, 'mozo': 2808, 'guapo': 2809, 'atolondrado': 2810, 'conmovidísimo': 2811, 'abnegación': 2812, 'mostraba': 2813, 'inclinándose': 2814, 'acarició': 2815, 'bondadosamente': 2816, 'insiste': 2817, 'venir': 2818, 'remedio': 2819, 'admitirle': 2820, 'comprarle': 2821, '¡al': 2822, 'sombreros': 2823, '¡lo': 2824, 'riendo': 2825, 'seguido': 2826, 'galoparon': 2827, 'preguntó': 2828, 'andén': 2829, 'salida': 2830, 'señas': 2831, 'correspondiesen': 2832, 'averiguó': 2833, 'expidió': 2834, 'estaciones': 2835, 'trayecto': 2836, 'ascendentes': 2837, 'descendentes': 2838, 'prometió': 2839, 'ejercer': 2840, 'vigilancia': 2841, 'minuciosa': 2842, 'comprar': 2843, 'tienda': 2844, 'novedades': 2845, 'disponía': 2846, 'cabalgó': 2847, 'bexley': 2848, 'pueblo': 2849, 'situado': 2850, 'dijeron': 2851, 'frecuentado': 2852, 'hicieron': 2853, 'levantarse': 2854, 'guarda': 2855, 'rural': 2856, 'pudieron': 2857, 'conseguir': 2858, 'dato': 2859, 'plaza': 2860, 'jinetes': 2861, 'tomaron': 2862, 'rendidos': 2863, 'cansancio': 2864, 'desgarrado': 2865, 'esperándolos': 2866, 'linternas': 2867, 'alcanzados': 2868, 'prado': 2869, 'explicaron': 2870, 'equivocado': 2871, 'celebrarse': 2872, 'feria': 2873, 'chorton': 2874, 'parecieron': 2875, 'desconsolados': 2876, 'desaparición': 2877, 'agradecidísimos': 2878, 'haberles': 2879, 'pesquisas': 2880, 'vaciar': 2881, 'estanque': 2882, 'carpas': 2883, 'registraron': 2884, 'sentidos': 2885, 'consiguieron': 2886, 'perdida': 2887, 'abatimiento': 2888, 'bridas': 2889, 'encontráronse': 2890, 'tumbada': 2891, 'sofá': 2892, 'ansiedad': 2893, 'humedecía': 2894, 'colonia': 2895, 'comida': 2896, 'tristísima': 2897, 'hablaba': 2898, 'despavoridos': 2899, 'consternados': 2900, 'querían': 2901, 'terminaron': 2902, 'ruegos': 2903, 'mandó': 2904, 'acostase': 2905, 'telegrafiaría': 2906, 'scotland': 2907, 'yard': 2908, 'detectives': 2909, 'disposición': 2910, 'salían': 2911, 'comedor': 2912, 'torre': 2913, 'acababan': 2914, 'extinguirse': 2915, 'vibraciones': 2916, 'campanada': 2917, 'oyóse': 2918, 'crujido': 2919, 'penetrante': 2920, 'bamboleó': 2921, 'melodía': 2922, 'terrenal': 2923, 'flotó': 2924, 'despegó': 2925, 'rellano': 2926, 'precipitaron': 2927, 'apasionadamente': 2928, 'ahogó': 2929, 'besos': 2930, 'ejecutaron': 2931, 'danza': 2932, 'guerra': 2933, '¡ah': 2934, '¡hija': 2935, '¿dónde': 2936, 'habías': 2937, 'metido': 2938, 'enfadado': 2939, 'creyendo': 2940, 'registrado': 2941, 'tuya': 2942, 'morirse': 2943, 'vuelvas': 2944, 'bromitas': 2945, 'género': 2946, '¡menos': 2947, 'gritaron': 2948, 'continuando': 2949, 'cabriolas': 2950, 'querida': 2951, 'dios': 2952, 'volveremos': 2953, 'separar': 2954, 'murmuraba': 2955, 'besando': 2956, 'trémula': 2957, 'acariciando': 2958, 'cabellos': 2959, 'desparramaban': 2960, 'dulcemente': 2961, 'vayáis': 2962, 'arrepentido': 2963, 'sinceramente': 2964, 'hecho': 2965, 'hermosas': 2966, 'muda': 2967, 'serio': 2968, 'precedió': 2969, 'erizada': 2970, 'recios': 2971, 'clavos': 2972, 'tocó': 2973, 'giró': 2974, 'goznes': 2975, 'enormes': 2976, 'hallaron': 2977, 'estrecha': 2978, 'techo': 2979, 'abovedado': 2980, 'argolla': 2981, 'empotrada': 2982, 'encadenado': 2983, 'extendido': 2984, 'estirar': 2985, 'descarnados': 2986, 'intentando': 2987, 'colocados': 2988, 'pudiese': 2989, 'alcanzarlos': 2990, 'interior': 2991, 'tapizado': 2992, 'montón': 2993, 'polvo': 2994, 'arrodilló': 2995, 'uniendo': 2996, 'manitas': 2997, 'tragedia': 2998, 'revelado': 2999, 'ido': 3000, 'queriendo': 3001, 'adivinar': 3002, 'edificio': 3003, 'antiguo': 3004, 'seco': 3005, 'florecido': 3006, 'ven': 3007, '¡dios': 3008, 'perdonado': 3009, 'levantándose': 3010, 'magnífico': 3011, 'resplandor': 3012, 'iluminar': 3013, '¡eres': 3014, 'ciñéndole': 3015, 'besándola': 3016, 'vii': 3017, 'curiosos': 3018, 'sucesos': 3019, 'salía': 3020, 'cortejo': 3021, 'house': 3022, 'arrastrado': 3023, 'ocho': 3024, 'caballos': 3025, 'negros': 3026, 'cuales': 3027, 'adornada': 3028, 'penacho': 3029, 'avestruz': 3030, 'balanceaban': 3031, 'rico': 3032, 'paño': 3033, 'bordadas': 3034, 'coches': 3035, 'marchaban': 3036, 'antorchas': 3037, 'encendidas': 3038, 'comitiva': 3039, 'grandioso': 3040, 'impresionante': 3041, 'presidía': 3042, 'gales': 3043, 'expresamente': 3044, 'asistir': 3045, 'entierro': 3046, 'muchachos': 3047, 'convino': 3048, 'atemorizada': 3049, 'cincuenta': 3050, 'derecho': 3051, 'cavaron': 3052, 'oraciones': 3053, 'patético': 3054, 'bajar': 3055, 'adelantó': 3056, 'colocando': 3057, 'cruz': 3058, 'hecha': 3059, 'rojas': 3060, 'inundó': 3061, 'silenciosas': 3062, 'plata': 3063, 'bosquecillo': 3064, 'cercano': 3065, 'elevó': 3066, 'descripción': 3067, 'llenaron': 3068, 'pronunció': 3069, 'regreso': 3070, 'partiese': 3071, 'ciudad': 3072, 'conferenció': 3073, 'respecto': 3074, 'entregadas': 3075, 'soberbias': 3076, 'rubíes': 3077, 'montura': 3078, 'veneciana': 3079, 'trabajo': 3080, 'conjunto': 3081, 'representaba': 3082, 'escrúpulos': 3083, 'quedase': 3084, 'milord': 3085, 'aplica': 3086, 'objetos': 3087, 'menudos': 3088, 'tierras': 3089, 'evidentísimo': 3090, 'deben': 3091, 'quedar': 3092, 'legado': 3093, 'consienta': 3094, 'llevárselas': 3095, 'considerándolas': 3096, 'herencia': 3097, 'restituida': 3098, 'extraordinarias': 3099, 'chiquilla': 3100, 'complace': 3101, 'decirlo': 3102, 'siente': 3103, 'futilezas': 3104, 'lujo': 3105, 'superfluo': 3106, 'autoridad': 3107, 'despreciable': 3108, 'arte': 3109, 'tenido': 3110, 'inviernos': 3111, 'piedras': 3112, 'preciosas': 3113, 'monetario': 3114, 'venta': 3115, 'producirían': 3116, 'reconocerá': 3117, 'queden': 3118, 'miembro': 3119, 'bibelots': 3120, 'juguetes': 3121, 'apreciados': 3122, 'necesitados': 3123, 'británica': 3124, 'estarían': 3125, 'lugar': 3126, 'educadas': 3127, 'severos': 3128, 'decirse': 3129, 'republicana': 3130, 'atrevería': 3131, 'asegurar': 3132, 'encierra': 3133, 'locuras': 3134, 'infortunio': 3135, 'deterioradísima': 3136, 'encuentre': 3137, 'acoger': 3138, 'favorablemente': 3139, 'petición': 3140, 'confieso': 3141, 'sorprende': 3142, 'demostrar': 3143, 'explicación': 3144, 'nació': 3145, 'barrio': 3146, 'excursión': 3147, 'atenas': 3148, 'escuchó': 3149, 'imperturbable': 3150, 'discurso': 3151, 'atusándose': 3152, 'bigote': 3153, 'ocultar': 3154, 'involuntaria': 3155, 'cordialmente': 3156, 'hijita': 3157, 'prestado': 3158, 'servicio': 3159, 'importantísimo': 3160, 'antecesor': 3161, 'estamos': 3162, 'reconocidísimos': 3163, 'maravilloso': 3164, 'fría': 3165, 'demostrado': 3166, 'tuviese': 3167, 'suficiente': 3168, 'insensibilidad': 3169, 'quitárselas': 3170, 'tunante': 3171, 'infernarme': 3172, 'podrían': 3173, 'serlo': 3174, 'sino': 3175, 'especificadas': 3176, 'tales': 3177, 'testamento': 3178, 'ignorada': 3179, 'aseguro': 3180, 'mías': 3181, 'sospecho': 3182, 'encantará': 3183, 'olvida': 3184, 'adquirió': 3185, 'pruebas': 3186, 'actividad': 3187, 'compra': 3188, 'pertenecía': 3189, 'preocupado': 3190, 'negativa': 3191, 'reflexionara': 3192, 'decisión': 3193, 'excelente': 3194, 'mantuvo': 3195, 'convencer': 3196, 'aceptase': 3197, 'regalo': 3198, 'primavera': 3199, '1890': 3200, 'duquesita': 3201, 'presentada': 3202, 'recepción': 3203, 'casamiento': 3204, 'agraciada': 3205, 'tortil': 3206, 'lambrequín': 3207, 'baronía': 3208, 'otorga': 3209, 'recompensa': 3210, 'americanitas': 3211, 'juiciosas': 3212, 'novio': 3213, 'ambos': 3214, 'agradables': 3215, 'amaban': 3216, 'encantó': 3217, 'marquesa': 3218, 'dumbleton': 3219, 'venía': 3220, 'atrapar': 3221, 'casarle': 3222, 'hijas': 3223, 'conseguirlo': 3224, 'comidas': 3225, 'costosísimas': 3226, 'rara': 3227, 'simpatía': 3228, 'personal': 3229, 'teóricamente': 3230, 'enemigo': 3231, '«particularismo»': 3232, '«era': 3233, 'temer': 3234, 'influencias': 3235, 'debilitantes': 3236, 'ávida': 3237, 'olvidados': 3238, 'republicana»': 3239, 'avanzó': 3240, 'nave': 3241, 'lateral': 3242, 'san': 3243, 'jorge': 3244, 'hannover': 3245, 'square': 3246, 'brazo': 3247, 'orgulloso': 3248, 'miel': 3249, 'solitario': 3250, 'próximo': 3251, 'preocupó': 3252, 'grabarse': 3253, 'losa': 3254, 'concluyeron': 3255, 'decidir': 3256, 'iniciales': 3257, 'gentilhombre': 3258, 'rosas': 3259, 'desparramó': 3260, 'rato': 3261, 'pasaron': 3262, 'claustro': 3263, 'abadía': 3264, 'sentó': 3265, 'columna': 3266, 'fumando': 3267, 'lindos': 3268, 'tomándole': 3269, 'tienes': 3270, 'has': 3271, 'sucedió': 3272, 'estuviste': 3273, 'encerrada': 3274, 'podrías': 3275, 'preguntes': 3276, 'decírtelo': 3277, '¡pobre': 3278, 'rías': 3279, 'significa': 3280, 'besar': 3281, 'amorosamente': 3282, 'puedes': 3283, 'posea': 3284, 'tuyo': 3285, 'dirás': 3286, 'ruborizó': 3287}\n"
          ]
        }
      ],
      "source": [
        "# El índice para cada palabra\n",
        "# El sistema las ordena de las más populares a las menos populares\n",
        "print(tok.word_index)"
      ]
    },
    {
      "cell_type": "code",
      "execution_count": 307,
      "metadata": {
        "id": "eOEbEZAqUkBy",
        "colab": {
          "base_uri": "https://localhost:8080/"
        },
        "outputId": "0c9ea1a5-416d-4a83-d322-46f9a7d3c90c"
      },
      "outputs": [
        {
          "output_type": "stream",
          "name": "stdout",
          "text": [
            "defaultdict(<class 'int'>, {'el': 189, 'fantasma': 49, 'canterville': 41, 'de': 282, 'wilde': 1, 'oscar': 1, 'corta': 1, 'novela': 1, 'i': 1, 'la': 223, 'ministro': 20, 'chase': 5, 'que': 190, 'necedad': 1, 'embrujada': 1, 'míster': 28, 'gran': 25, 'américa': 6, 'mundo': 9, 'finca': 2, 'b': 1, 'cometía': 1, 'compró': 1, 'dijo': 27, 'le': 57, 'hiram': 2, 'estaba': 23, 'cuando': 37, 'todo': 28, 'otis': 60, 'una': 119, 'porque': 9, 'a': 180, 'hasta': 18, 'las': 81, 'se': 144, 'en': 176, 'llegaron': 3, 'mismo': 9, 'escrupulosa': 1, 'como': 33, 'lord': 22, 'participárselo': 1, 'deber': 4, 'hombre': 3, 'más': 44, 'honradez': 1, 'creyó': 2, 'discutir': 1, 'condiciones': 2, 'así': 12, 'esqueleto': 5, 'un': 113, 'abuela': 1, 'bolton': 1, 'varios': 6, 'miembros': 1, 'sitio': 8, 'ya': 18, 'lady': 7, 'nunca': 12, 'quedarse': 1, 'sido': 7, 'vistiéndose': 1, 'creo': 6, 'familia': 24, 'después': 29, 'desde': 11, 'sueño': 2, 'doncellas': 2, 'motivado': 1, 'augusto': 2, 'biblioteca': 11, 'cenar': 1, 'actualmente': 1, 'posaban': 1, 'corredor': 10, 'mismos': 2, 'nosotros': 1, \"king's\": 1, 'causa': 3, 'del': 70, 'sobre': 59, 'pudo': 6, 'misteriosos': 1, 'nos': 6, 'tuvo': 6, 'tía': 1, 'completo': 3, 'ha': 12, 'al': 66, 'y': 228, 'viven': 1, 'agregado': 1, 'mi': 11, 'resistido': 1, 'no': 109, 'ocurrido': 1, 'ninguna': 2, 'college': 1, 'hombros': 5, 'hemos': 3, 'conciliar': 1, 'llegaban': 1, 'vivir': 2, 'ruidos': 1, 'duquesa': 5, 'desmayo': 1, 'sentir': 1, 'sus': 64, 'experimentó': 1, 'ese': 8, 'quiso': 2, 'dampier': 2, 'repuso': 1, 'trágico': 1, 'reverendo': 2, 'decirle': 1, 'para': 57, 'rector': 2, 'absoluto': 1, 'parroquia': 2, 'época': 1, 'dos': 17, 'casa': 19, 'los': 111, 'estando': 3, 'manos': 8, 'espanto': 4, 'accidente': 1, 'por': 88, 'visto': 8, 'me': 17, 'oxford': 1, 'queda': 3, 'caminos': 1, 'o': 13, 'verdadero': 5, 'buscarlo': 1, 'inventario': 2, 'es': 29, 'tener': 8, 'recorren': 1, 'todavía': 3, 'pasearle': 1, 'parte': 9, 'prima': 2, 'si': 12, 'inmueble': 2, 'cuanto': 10, 'avispados': 1, 'seguro': 2, 'país': 5, 'donnas': 1, 'europa': 2, 'museos': 1, 'esos': 2, 'actores': 1, 'moderno': 1, 'uno': 8, 'dinero': 2, 'públicos': 1, 'adquiriré': 1, 'viejo': 6, 'mozos': 1, 'jóvenes': 2, 'respondió': 6, 'ustedes': 5, 'estoy': 2, 'proporcionar': 1, 'continente': 2, 'nuestros': 3, 'llevan': 1, 'fenómeno': 1, 'capaz': 1, 'colocarlo': 1, 'llego': 1, 'podemos': 2, 'mejores': 2, 'enseguida': 1, 'vendrán': 1, 'bajo': 5, 'mil': 4, 'resiste': 1, 'con': 99, 'precisión': 1, 'ocurrir': 1, 'setenta': 1, 'empresarios': 1, 'defunción': 1, 'hace': 3, 'punto': 7, 'deja': 3, 'cuatro': 7, 'está': 6, 'ofertas': 1, 'temo': 2, 'quinientos': 2, 'alguna': 8, 'quizá': 3, 'intrépidos': 1, 'tres': 10, 'lo': 61, 'conoce': 1, 'aunque': 7, 'siglos': 1, 'existe': 3, 'data': 1, 'sonriendo': 2, 'mostrarse': 4, 'aristocracia': 3, 'puede': 4, 'existir': 1, 'excepciones': 1, 'amigo': 3, 'hacen': 2, 'inglesa': 2, 'mío': 1, 'favor': 1, '¡bah': 1, 'leyes': 1, 'cabecera': 1, 'naturaleza': 2, 'médicos': 1, 'admitan': 1, 'ahora': 3, 'gusta': 1, 'realmente': 9, 'previne': 1, 'observación': 2, 'muy': 21, 'naturales': 1, 'mejor': 3, 'acababa': 2, 'acuérdese': 1, 'última': 6, 'únicamente': 1, 'usted': 23, 'son': 5, 'bien': 12, 'comprender': 3, 'yo': 9, 'estación': 4, 'semanas': 2, 'viaje': 2, 'trato': 1, 'algunas': 4, 'fines': 1, 'su': 120, 'emprendieron': 2, 'cerró': 4, 'r': 1, 'calle': 1, 'edad': 4, 'west': 1, 'hermosos': 2, 'mujer': 9, 'perfil': 1, 'tappan': 1, 'ojos': 18, 'miss': 6, '52': 1, 'mistres': 1, 'lucrecia': 1, 'regular': 1, 'guapísima': 1, 'ilustre': 1, 'era': 41, 'había': 41, 'york': 2, 'soberbio': 2, 'unos': 13, 'nombre': 3, '«beldad»': 1, 'nueva': 3, 'damas': 1, 'sellos': 1, 'error': 1, 'crónica': 1, 'natal': 1, 'enfermedad': 1, 'distinción': 1, 'figuran': 1, 'persona': 4, 'eso': 13, 'adoptan': 1, 'pero': 56, 'aires': 1, 'muchas': 4, 'americanas': 1, 'abandonan': 1, 'atacada': 1, 'cayó': 3, 'mistress': 25, 'extraordinaria': 1, 'abundancia': 1, 'magnífica': 1, 'vitalidad': 1, 'tenía': 17, 'día': 15, 'hubiese': 2, 'lid': 1, 'común': 1, 'suponer': 1, 'lengua': 1, 'tenemos': 2, 'decir': 6, 'tesis': 1, 'verdad': 4, 'buena': 5, 'podido': 4, 'muchos': 1, 'excepto': 1, 'hoy': 2, 'aspectos': 1, 'sostener': 1, 'citársela': 1, 'completamente': 4, 'lamentar': 1, 'londres': 5, 'aun': 3, 'excepcional': 1, 'mayor': 6, 'momento': 9, 'ser': 9, 'muchacho': 1, 'bautizado': 1, 'cotillón': 1, 'washington': 13, 'rubio': 1, 'cesaba': 1, 'pasaba': 1, 'bailarín': 1, 'padres': 2, 'newport': 1, 'él': 18, 'casino': 1, 'temporadas': 1, 'patriotismo': 1, 'diplomacia': 1, 'durante': 8, 'figura': 1, 'candidato': 1, 'dirigiendo': 1, 'hijo': 2, 'seguidas': 2, 'erigido': 1, 'bastante': 5, 'eran': 5, 'patria': 1, 'perfectamente': 4, 'aparte': 1, 'gardenias': 1, 'sensato': 1, 'únicas': 1, 'esto': 5, 'debilidades': 1, 'virginia': 49, 'cervatillo': 1, 'despreocupación': 1, 'aire': 8, 'graciosa': 1, 'muchachita': 1, 'azules': 2, 'bonito': 2, 'quince': 2, 'años': 8, 'esbelta': 1, 'e': 6, 'grandes': 7, 'propuso': 1, 'acto': 3, 'misma': 2, 'cual': 9, 'entusiasmo': 2, 'aquiles': 1, 'delirante': 1, 'dando': 3, 'bañado': 1, 'vez': 22, 'tan': 14, 'parque': 3, 'poney': 3, 'medio': 7, 'provocó': 3, 'aquella': 14, 'tutores': 1, 'elton': 1, 'duque': 3, 'vuelta': 6, 'derrotó': 1, 'carreras': 1, 'estatua': 2, 'lágrimas': 4, 'expedirle': 1, 'precisamente': 3, 'bilton': 1, 'frente': 6, 'amazona': 2, 'cheshire': 6, 'maravillosa': 1, 'caballo': 6, 'matrimonio': 3, 'joven': 9, 'veces': 9, 'tuvieron': 2, 'noche': 20, 'ganándole': 1, 'continuo': 1, 'gemelos': 21, 'siempre': 11, 'estrellas': 2, 'les': 8, 'conocidos': 1, 'encontraba': 1, 'ordinario': 2, 'ostentándolas': 1, 'bandas': 1, 'venían': 1, 'republicanos': 1, 'niños': 2, 'únicos': 1, 'encantadores': 1, 'verdaderos': 2, 'siete': 3, 'alegría': 3, 'encantadora': 3, 'telegrafió': 1, 'marcha': 3, 'aromado': 1, 'pinos': 1, 'descubierto': 2, 'millas': 3, 'buscarle': 1, 'julio': 1, 'próxima': 1, 'olor': 1, 'fueran': 2, 'coche': 4, 'ascot': 3, 'arrullándose': 1, 'oíase': 1, 'dulce': 2, 'helechos': 1, 'paloma': 1, 'maraña': 1, 'voz': 12, 'entreveíase': 1, 'algún': 5, 'pechuga': 1, 'bruñido': 1, 'fru': 1, 'oro': 5, 'entre': 12, 'faisán': 1, 'rabo': 1, 'hayas': 1, 'exhalaciones': 1, 'paso': 8, 'corrían': 1, 'blanco': 3, 'levantando': 3, 'través': 5, 'conejos': 1, 'ligeras': 1, 'herbosos': 1, 'espiaban': 1, 'ardillas': 1, 'alto': 4, 'matorrales': 1, 'collados': 1, 'toda': 17, 'caído': 3, 'bandada': 1, 'embargo': 6, 'nubes': 1, 'llegasen': 1, 'cornejas': 1, 'silencio': 5, 'cubrió': 1, 'gotas': 1, 'cielo': 1, 'encima': 5, 'avenida': 4, 'invadir': 1, 'cruzó': 2, 'cabezas': 2, 'pareció': 3, 'sin': 18, 'calladamente': 1, 'antes': 10, 'repentinamente': 1, 'atmósfera': 1, 'entraron': 2, 'habían': 8, 'extraño': 4, 'vestida': 2, 'pulcramente': 1, 'escalones': 1, 'negra': 2, 'vieja': 8, 'recibirles': 1, 'cofia': 1, 'delantal': 1, 'seda': 1, 'hallaba': 4, 'blancos': 1, 'umney': 8, 'gobierno': 4, 'vivos': 2, 'conservar': 1, 'puesto': 2, 'accedió': 1, 'ama': 4, 'requerimientos': 1, 'profunda': 3, 'echaron': 1, 'antiguos': 3, 'hizo': 16, 'buenos': 1, 'pie': 4, 'reverencia': 1, 'tiempos': 4, 'singular': 2, 'tierra': 2, 'acento': 2, 'doy': 1, 'bienvenida': 1, 'salón': 6, 'ventanal': 1, 'ancho': 2, 'hall': 4, 'túdor': 1, 'atravesando': 1, 'estilo': 1, 'largo': 6, 'hermoso': 3, 'terminaba': 1, 'siguieron': 1, 'espacioso': 2, 'acristalado': 1, 'té': 2, 'preparado': 1, 'torno': 2, 'pusieron': 2, 'suyo': 2, 'quitaron': 1, 'mientras': 14, 'iba': 8, 'trajes': 2, 'curiosear': 1, 'luego': 6, 'todos': 14, 'otro': 7, 'lado': 10, 'sentáronse': 1, 'rojo': 3, 'chimenea': 2, 'oscuro': 2, 'pronto': 4, 'palabras': 6, 'mancha': 13, 'pavimento': 1, 'cuenta': 3, 'darse': 3, 'mirada': 4, 'han': 1, 'veo': 3, 'algo': 3, 'vertido': 2, 'señora': 2, 'sí': 8, 'ahí': 1, 'sangre': 14, 'baja': 5, 'contestó': 4, '¡es': 2, 'preciso': 4, 'quitar': 2, 'inmediatamente': 5, 'espantoso': 2, 'manchas': 3, 'exclamó': 9, 'quiero': 4, 'sonrió': 1, 'misteriosa': 2, 'sir': 6, 'propio': 2, 'cinco': 3, 'muerta': 2, 'leonor': 1, 'fue': 20, 'marido': 4, 'sesenta': 2, 'simón': 9, 'circunstancias': 3, 'repente': 3, 'sigue': 1, 'turistas': 1, 'encontró': 5, 'nueve': 2, 'alma': 4, 'personas': 3, 'embrujando': 1, 'sobrevivió': 1, 'desapareciendo': 1, 'otras': 3, 'imposible': 2, 'culpable': 1, 'cuerpo': 2, 'misteriosísimas': 1, 'quitarla': 1, 'admirada': 1, 'tonterías': 1, 'producto': 1, 'abrir': 2, 'incomparable': 3, 'pinkerton»': 2, 'cerrar': 2, '«campeón': 1, 'limpiador': 1, 'desaparecer': 2, '«quitamanchas»': 1, 'hará': 1, 'sustancia': 1, 'frotaba': 1, 'negro': 5, 'intervenir': 1, 'barrita': 1, 'vivamente': 4, 'pudiera': 2, 'arrodillado': 1, 'entarimado': 2, 'parecida': 1, 'cosmético': 1, 'aterrada': 2, 'pocos': 2, 'dejar': 3, 'rastro': 1, 'instantes': 3, 'desaparecido': 3, 'paseando': 1, 'tono': 2, 'llena': 2, 'pinkerton': 1, 'circular': 1, 'sabía': 4, 'borraría': 1, 'admiración': 2, 'triunfal': 1, 'trueno': 2, 'iluminó': 1, 'pronunciado': 1, 'relámpago': 2, 'formidable': 2, 'desmayó': 1, 'sombría': 2, 'esas': 4, 'retumbar': 1, 'apenas': 6, 'estancia': 4, 'levantó': 4, 'menos': 10, '¡qué': 2, 'pueden': 3, 'gente': 3, 'tiempo': 14, 'buen': 3, 'tranquilamente': 2, 'ingleses': 1, 'opiné': 1, 'veguero': 1, 'clima': 1, 'abuelos': 1, 'lleno': 5, 'atroz': 2, 'hacer': 19, 'emigrar': 2, 'encendiendo': 1, 'hay': 6, 'desmaya': 1, 'replicó': 2, '¿qué': 1, 'querido': 4, 'caja': 7, 'volverá': 2, 'descontaremos': 1, 'desmayar': 1, 'salario': 2, 'esperarse': 1, 'hondamente': 1, 'tardó': 2, 'disgusto': 1, 'veíase': 2, 'conmovida': 1, 'debía': 3, 'volver': 3, 'advirtió': 1, 'efecto': 3, 'solemne': 2, 'cualquier': 1, 'pegar': 1, 'propios': 2, 'pondrían': 2, 'mis': 7, 'cosas': 6, 'noches': 3, 'terribles': 5, 'cristiano': 1, 'pelos': 1, 'señores': 1, 'pasaban': 1, 'punta': 1, 'he': 11, 'hechos': 1, 'ninguno': 1, 'esposa': 5, 'tenían': 1, 'fantasmas': 7, 'pesar': 6, 'aseguraron': 1, 'miedo': 2, 'providencia': 1, 'renqueando': 1, 'aumentasen': 1, 'habitación': 13, 'arreglárselas': 1, 'haber': 4, 'llaves': 1, 'amos': 1, 'retiró': 4, 'nuevos': 1, 'impetrado': 1, 'bendición': 1, 'ii': 1, 'nada': 14, 'desencadenó': 1, 'produjo': 1, 'tempestad': 1, 'bajaron': 4, 'encontraron': 5, 'mañana': 10, 'almorzar': 1, 'nuevo': 5, 'siguiente': 10, 'terrible': 9, 'manchas»': 1, 'clase': 3, 'tenga': 1, 'ensayado': 1, '«quita': 1, 'pues': 11, 'debe': 3, 'culpa': 1, 'cosa': 6, 'poco': 9, 'consecuencia': 1, 'borró': 1, 'frotar': 1, 'reaparecido': 1, 'anterior': 1, 'llevándose': 1, 'cerrada': 1, 'llave': 2, 'permanecía': 1, 'mister': 2, 'empezó': 4, 'aquello': 3, 'entonces': 13, 'interesarse': 1, 'estado': 6, 'negando': 1, 'creer': 1, 'dogmático': 1, 'demasiado': 3, 'existencia': 3, 'podmone': 1, 'larga': 4, 'crimen': 2, 'persistencia': 1, 'expresó': 1, 'intención': 1, 'myers': 1, 'basada': 1, 'carta': 3, 'preparó': 1, 'sociedad': 1, 'provienen': 1, 'psíquica': 1, 'afiliarse': 1, 'todas': 10, 'disipó': 2, 'objetiva': 1, 'dudas': 1, 'frescura': 1, 'tarde': 5, 'dar': 3, 'aprovechado': 1, 'paseo': 2, 'regresaron': 2, 'cena': 2, 'tomando': 2, 'ligera': 1, 'faltaban': 1, 'manera': 4, '«espera»': 1, '«receptibilidad»': 1, 'recayó': 2, 'ni': 9, 'elementales': 1, 'conversación': 2, 'fenómenos': 2, 'menudo': 1, 'preceden': 1, 'psíquicos': 1, 'clases': 1, 'inmensa': 1, 'fueron': 5, 'encontrar': 2, 'boston': 2, 'maíz': 1, 'galletas': 1, 'equipajes': 1, 'viajeros': 1, 'universal': 1, 'dejo': 1, 'cultos': 1, 'elevadas': 1, 'habituales': 1, 'verde': 9, 'ventajas': 1, 'discutieron': 1, 'sabido': 2, 'bernhardt': 1, 'consiste': 1, 'simplemente': 3, 'anotar': 1, 'asuntos': 1, 'pertenecen': 2, 'sarraceno': 1, 'americanos': 5, 'casas': 1, 'ejemplo': 2, 'sarah': 1, 'neoyorquino': 1, 'inglesas': 1, 'janny': 1, 'actriz': 1, 'dificultad': 2, 'comparado': 1, 'desenvolvimiento': 2, 'sistema': 3, 'trigo': 1, 'importancia': 1, 'davenport': 1, 'superioridad': 1, 'dulzura': 2, 'indirecta': 1, 'alusión': 1, 'menor': 3, 'trató': 1, 'sobrenatural': 3, 'apagadas': 1, 'doce': 4, 'estaban': 9, 'once': 4, 'luces': 1, 'media': 8, 'ruido': 6, 'fuera': 3, 'despertó': 2, 'hierros': 1, 'cada': 4, 'acercaba': 1, 'viejos': 1, 'parecía': 5, 'luz': 6, 'hora': 4, 'encendió': 1, 'miró': 2, 'pulso': 1, 'tomó': 5, 'alterado': 2, 'tranquilo': 2, 'continuaba': 1, 'pasos': 3, 'oía': 2, 'claramente': 1, 'sonar': 1, 'zapatillas': 2, 'frasquito': 4, 'puso': 5, 'tocador': 2, 'abrió': 3, 'puerta': 11, 'alargado': 1, 'claro': 2, 'aspecto': 5, 'vio': 6, 'pálido': 1, 'luna': 8, 'jirones': 1, 'cabellera': 1, 'unas': 6, 'parecían': 3, 'anticuado': 1, 'gris': 2, 'cadenas': 5, 'colgaban': 1, 'manchadas': 1, 'grilletes': 1, 'ropas': 1, 'herrumbrosos': 1, 'caía': 2, 'mechones': 2, 'carbones': 1, 'corte': 1, 'encendidos': 1, 'tobillos': 1, 'muñecas': 1, 'pesadas': 1, 'revueltos': 1, 'distinguido': 1, 'botella': 1, 'engrase': 1, 'señor': 4, 'traído': 1, 'permítame': 1, 'ello': 4, 'ruegue': 1, 'engrasador': 4, 'teólogos': 1, 'fe': 3, 'aquí': 5, 'mecedoras': 1, 'sola': 2, 'proporcionarle': 2, 'dan': 1, 'levante': 4, 'untura': 1, 'dicen': 1, 'tammany': 1, 'sol': 5, 'voy': 3, 'placer': 3, 'tendré': 1, 'eficacísima': 1, 'dejársela': 1, 'desea': 1, 'certificados': 1, 'etiqueta': 2, 'ilustres': 1, 'dicho': 5, 'mesa': 3, 'estados': 8, 'dejó': 1, 'mármol': 1, 'unidos': 8, 'meter': 1, 'cama': 7, 'volvió': 6, 'algunos': 2, 'minutos': 2, 'indignación': 1, 'inmóvil': 2, 'permaneció': 4, 'extraña': 1, 'encerado': 1, 'gruñidos': 2, 'rabia': 2, 'despidiendo': 1, 'cavernosos': 1, 'huyó': 1, 'tiró': 2, 'lanzando': 4, 'contra': 4, 'suelo': 4, 'llegaba': 2, 'siluetas': 2, 'almohada': 2, 'voluminosa': 1, 'vestidas': 1, 'escalera': 7, 'infantiles': 1, 'roble': 3, 'cabeza': 16, 'rozó': 1, 'aparecieron': 1, 'evidentemente': 2, 'tranquilidad': 3, 'dimensión': 1, 'estuco': 3, 'fuga': 1, 'recobró': 1, 'cuarta': 1, 'perder': 1, 'utilizando': 1, 'desvaneció': 2, 'espacio': 3, 'cuartito': 1, 'ala': 2, 'rayo': 1, 'adosó': 1, 'situación': 1, 'izquierda': 1, 'llegado': 2, 'tomar': 2, 'aliento': 1, 'reflexionar': 1, 'secreto': 4, 'brillante': 1, 'jamás': 2, 'duraba': 1, 'groseramente': 1, 'trescientos': 2, 'injuriado': 1, 'seguidos': 2, 'carrera': 1, 'forma': 4, 'mártir': 1, 'cortinas': 1, 'tremouillac': 1, 'histéricas': 1, 'ataque': 2, 'guardar': 2, 'voltaire': 1, 'despertarse': 1, 'lumbre': 1, 'habitaciones': 4, 'sillón': 2, 'brillantes': 1, 'relaciones': 1, 'avanzada': 2, 'convirtió': 1, 'espejo': 1, 'visajes': 1, 'rompió': 1, 'sentado': 2, 'señalado': 1, 'escéptico': 1, 'redactaba': 1, 'volvía': 1, 'quienes': 1, 'cubierta': 2, 'crisis': 1, 'seis': 4, 'terror': 6, 'mirándose': 1, 'produciéndoles': 1, 'curada': 1, 'víctima': 1, 'destinadas': 1, 'acordó': 1, 'apagó': 1, 'hacerlas': 1, 'impresión': 2, 'cuya': 3, 'sólo': 7, 'soplo': 1, 'nerviosas': 1, 'alteraciones': 1, 'quien': 3, 'monsieur': 1, 'leer': 1, 'encajes': 1, 'diario': 1, 'meses': 1, 'vela': 3, 'medianoche': 2, 'entretenido': 1, 'ella': 10, 'iglesia': 4, 'invitados': 2, 'enloquecido': 1, 'reconcilió': 1, 'viuda': 1, 'cerebral': 1, 'resultas': 1, 'convulsiones': 1, 'vida': 6, 'juraba': 1, 'garganta': 2, 'hundida': 1, 'confesar': 1, 'hallado': 1, 'viéndose': 1, 'sota': 1, 'agonizante': 1, 'libras': 1, 'recordó': 3, 'suma': 2, 'igualmente': 2, 'obligado': 1, 'tragar': 1, 'espadas': 1, 'diez': 3, 'carlos': 1, 'fos': 1, 'timado': 1, 'bribón': 1, 'grookford': 1, 'hazañas': 2, 'mente': 1, 'volvían': 1, 'mayordomo': 3, 'desfilar': 1, 'sesos': 1, 'tapa': 1, 'tapar': 1, 'tamborilear': 1, 'alrededor': 3, 'collar': 2, 'ahogarse': 1, 'bella': 2, 'cuello': 5, 'terciopelo': 2, 'candente': 1, 'señal': 2, 'piel': 1, 'impresos': 1, 'llevar': 3, 'cristales': 2, 'extremo': 2, 'mano': 11, 'condenada': 1, 'real': 2, 'blanca': 4, 'vivero': 1, 'terminó': 2, 'dedos': 4, 'hierro': 3, 'steefield': 1, 'célebres': 1, 'pasó': 3, 'revista': 2, 'artista': 1, 'ególatra': 1, 'creaciones': 2, 'rorro': 1, '«gibeén': 1, 'jugar': 2, 'páramo': 1, 'tennis': 1, 'papel': 5, 'huesos': 3, 'causó': 2, 'furor': 3, '«rubén': 1, 'lawn': 1, 'debut': 1, 'campo': 1, 'flaco': 1, 'junio': 1, 'sonrisa': 4, '«el': 1, 'bevley»': 1, 'rojo»': 1, 'bolos': 1, 'dedicó': 2, 'hierba': 3, 'evocar': 1, 'aparición': 2, 'estrangulado»': 1, 'amarga': 2, 'vampiro': 2, '¡para': 1, 'intolerable': 1, 'almohadas': 1, 'qué': 6, '¿y': 3, 'marca': 2, 'ofreciesen': 1, 'tirasen': 1, 'miserables': 1, 'historia': 3, 'tratado': 1, 'además': 7, 'enseña': 1, 'ningún': 6, 'tomarse': 1, 'conclusión': 1, 'amanecer': 1, 'meditación': 1, 'llegó': 5, 'actitud': 3, 'revancha': 1, 'iii': 1, 'extensamente': 1, 'reunió': 1, 'almuerzo': 1, 'acerca': 1, 'discutió': 1, 'ofrecimiento': 1, 'aceptado': 1, 'viendo': 3, 'natural': 3, 'ofendido': 1, '': 8, 'duración': 1, 'alguno': 1, 'cortés': 1, 'tirarle': 1, 'quisiera': 2, 'personalmente': 1, 'reconozco': 2, 'dada': 1, 'modo': 6, 'injuriar': 1, 'explosión': 1, 'risa': 2, 'siento': 3, 'justa': 1, 'esta': 4, 'habría': 2, 'uso': 1, 'alcobas': 1, 'prosiguió': 2, 'quitarle': 1, 'precisados': 1, 'veremos': 1, 'dormir': 3, 'empeña': 1, 'molestados': 1, 'semana': 4, 'resto': 2, 'atención': 2, 'reaparición': 2, 'parquet': 2, 'llamó': 1, 'único': 3, 'continua': 1, 'ventanas': 2, 'tanto': 3, 'igual': 1, 'cerraba': 2, 'color': 3, 'frecuentes': 1, 'asimismo': 1, 'produjeron': 1, 'comparables': 1, 'cambios': 2, 'comentarios': 1, 'sufría': 1, 'camaleón': 1, 'ritos': 1, 'bermellón': 2, 'episcopal': 1, 'violáceo': 1, 'libre': 2, 'sencillos': 1, 'esmeralda': 3, 'según': 5, 'rezar': 3, 'espléndido': 2, 'púrpura': 2, 'reformada': 1, 'casi': 5, 'estos': 2, 'entera': 2, 'divirtieron': 1, 'hacíanse': 1, 'apuestas': 1, 'grandemente': 2, 'reunión': 1, 'kaleidoscópicos': 1, 'única': 2, 'broma': 2, 'sentíase': 1, 'impresionada': 1, 'ignoradas': 1, 'razones': 1, 'ante': 5, 'llorar': 2, 'apareció': 4, 'estuvo': 4, 'acostados': 1, 'domingo': 1, 'oyó': 5, 'ellos': 7, 'alarmó': 1, 'estrépito': 1, 'enorme': 2, 'estar': 4, 'completa': 1, 'apresuradamente': 1, 'desprendido': 1, 'soporte': 1, 'cayendo': 1, 'losas': 3, 'armadura': 3, 'restregaba': 1, 'allí': 11, 'rostro': 4, 'expresión': 2, 'dolor': 1, 'respaldo': 1, 'cerca': 2, 'agudo': 1, 'rodillas': 2, 'seguridad': 1, 'cañas': 1, 'majuelos': 1, 'pacientes': 1, 'caligrafía': 1, 'largos': 2, 'adquiere': 1, 'esa': 4, 'fuerza': 3, 'provisto': 2, 'profesor': 1, 'ejercicios': 1, 'puntería': 1, 'lanzaron': 1, 'instaba': 1, 'revólver': 1, 'amenaza': 1, 'conforme': 1, 'mantenía': 1, 'californiana': 1, 'brazos': 5, 'levantar': 1, 'salvaje': 2, 'niebla': 1, 'apagando': 1, 'dejándolos': 1, 'alzó': 1, 'grito': 3, 'oscuridad': 2, 'bruscamente': 3, 'célebre': 2, 'repique': 1, 'satánicas': 1, 'carcajadas': 2, 'decidió': 4, 'lanzar': 4, 'dueño': 2, 'necesitaron': 1, 'cargo': 1, 'primer': 3, 'terminar': 3, 'contaba': 2, 'amas': 1, 'mes': 2, 'decidirse': 1, 'raker': 1, 'sucesivas': 1, 'encanecer': 1, '«dimitir»': 1, 'peluquín': 1, 'antiguas': 1, 'ecos': 1, 'carcajada': 1, 'azul': 4, 'bóvedas': 1, 'paulatinamente': 1, 'consiguiente': 4, 'despertando': 1, 'lanzó': 2, 'apagados': 1, 'horrible': 7, 'éstos': 2, 'trata': 1, 'dama': 1, 'frasco': 1, 'traigo': 1, 'indispuesto': 1, 'indigestión': 1, 'tintura': 1, 'sentará': 1, 'dobell': 1, 'esté': 1, 'doctor': 1, 'perro': 2, 'llameantes': 1, 'metamorfosearse': 1, 'tomás': 1, 'reputación': 1, 'atribuía': 1, 'dado': 4, 'honorable': 1, 'merecidísima': 1, 'idiotez': 1, 'truco': 1, 'horton': 1, 'tío': 2, 'incurable': 1, 'determinación': 1, 'acercaban': 1, 'fosforescente': 1, 'vacilar': 1, 'cruel': 2, 'volverse': 1, 'contentó': 1, 'iban': 2, 'alcance': 2, 'gemido': 2, 'sepulcral': 1, 'seguida': 4, 'darle': 1, 'destrozado': 1, 'presa': 1, 'violenta': 1, 'sintióse': 1, 'agitación': 2, 'resultaba': 1, 'ordinariez': 1, 'fuerzas': 1, 'materialismo': 1, 'vejatorio': 1, 'humillaba': 1, 'grosero': 1, 'hacerles': 1, 'acorazado': 1, 'ayudado': 1, 'delicadas': 1, 'nacional': 1, 'deferencia': 1, 'razonables': 1, 'cuyas': 2, 'estremecer': 1, 'habíanle': 1, 'modernos': 1, 'atrayentes': 1, 'matar': 2, 'hacia': 6, 'poeta': 1, 'vista': 3, 'motivos': 1, 'frecuencia': 2, 'espectro': 4, 'longfellow': 1, 'poesías': 1, 'torneo': 1, 'éxito': 3, 'siendo': 2, 'virgen': 1, 'felicitado': 1, 'llevó': 2, 'propia': 1, 'kenilworth': 1, 'reina': 2, 'calurosamente': 1, 'ponérsela': 1, 'derecha': 2, 'pesadamente': 1, 'yelmo': 1, 'peso': 1, 'coraza': 1, 'acero': 2, 'despellejándose': 1, 'aplastado': 1, 'contusionándose': 1, 'muñeca': 1, 'quedó': 5, 'piedra': 1, 'desplomó': 2, 'salir': 1, 'necesario': 2, 'días': 7, 'morada': 2, 'malísimo': 1, 'mantener': 1, 'aterrorizar': 1, 'acabó': 2, 'tentativa': 1, 'cuidados': 1, 'tercera': 1, 'restablecerse': 1, 'obstante': 2, '17': 1, 'escena': 1, 'eligió': 1, 'viernes': 1, 'agosto': 1, 'consagrando': 1, 'pasar': 3, 'último': 5, 'levantada': 1, 'mangas': 1, 'caída': 2, 'roja': 2, 'fin': 8, 'pluma': 1, 'puñal': 4, 'elección': 1, 'sudario': 5, 'deshilachado': 1, 'sombrero': 3, 'mohoso': 1, 'violentamente': 1, 'estalló': 1, 'vetusta': 1, 'aquél': 2, 'atardecer': 2, 'tormenta': 2, 'fuerte': 5, 'viento': 5, 'puertas': 3, 'sacudía': 1, 'convenía': 1, 'pensaba': 2, 'quedándose': 1, 'apagada': 1, 'música': 1, 'musitaría': 1, 'frases': 1, 'sones': 1, 'iría': 1, 'sigilosamente': 1, 'ininteligibles': 1, 'hundiría': 1, '«limpiador': 1, 'odiaba': 1, 'empleando': 1, 'acostumbraba': 1, 'famosa': 1, 'temerario': 2, 'ocupaba': 2, 'despreocupado': 1, 'reducir': 1, 'entraría': 1, 'osario': 1, 'oído': 3, 'colocara': 1, 'murmuraría': 1, 'sorda': 1, 'tembloroso': 1, 'viscosa': 1, 'secretos': 2, 'aún': 3, 'suficientes': 1, 'cuantos': 1, 'pequeña': 3, 'insultado': 1, 'rígidos': 1, 'tirarla': 1, 'nariz': 1, 'saliesen': 1, 'decidido': 1, 'bonita': 2, 'armario': 1, 'parálisis': 2, 'despertarla': 1, 'cariñosa': 2, 'bastaban': 1, 'llegaría': 1, 'puntita': 1, 'sordos': 1, 'lección': 1, 'juntas': 1, 'aprovechando': 1, 'haría': 1, 'sensación': 1, 'ocasiones': 2, 'creación': 2, 'sería': 3, 'pesadilla': 2, 'tirando': 1, 'misterio': 1, '«martín': 1, 'hielo': 2, 'darles': 1, 'suicida»': 1, 'quedaran': 1, 'frío': 1, 'ellas': 2, 'camas': 1, 'patas': 1, 'mudo': 1, 'órbitas': 2, '«daniel': 1, 'creía': 1, 'moviendo': 1, 'sentarse': 1, 'demente': 1, 'dormitorio': 4, 'éste': 5, 'cadáver': 1, 'alzaría': 1, 'paralizados': 1, 'producirles': 1, 'blanqueado': 1, 'resuelto': 1, 'daría': 1, 'objeto': 1, 'enmascarado»': 1, 'varias': 1, 'primero': 2, 'pechos': 1, 'acostarse': 1, 'subir': 1, 'meterse': 3, 'loca': 2, 'inquietaron': 1, 'divertían': 1, 'colegiales': 1, 'tumultuosas': 1, 'nuevamente': 2, 'cuarto': 5, 'camino': 4, 'sonaron': 3, 'crascitaba': 1, 'chocaba': 1, 'gemía': 1, 'tejo': 3, 'ventana': 5, 'cuervo': 1, 'hueco': 2, 'esperaba': 2, 'centenario': 2, 'lechuza': 1, 'dormía': 1, 'suerte': 2, 'pena': 2, 'vagando': 1, 'sospechar': 1, 'ronquidos': 1, 'dominaban': 1, 'claridad': 2, 'regulares': 1, 'lluvia': 1, 'boca': 2, 'asesinada': 1, 'tras': 1, 'nube': 2, 'perversa': 1, 'furtivamente': 1, 'propias': 2, 'delante': 3, 'arrugada': 1, 'ojival': 2, 'armas': 2, 'representadas': 1, 'deslizó': 2, 'escondió': 1, 'dibujaba': 1, 'seguía': 3, 'deslizándose': 1, 'tinieblas': 2, 'sombra': 1, 'andando': 1, 'retroceder': 1, 'funesta': 1, 'mismas': 1, 'granja': 2, 'alguien': 2, 'detuvo': 2, 'oír': 1, 'llamaba': 1, 'ladraba': 1, 'siglo': 2, 'blandiendo': 1, 'extraños': 2, 'enmohecido': 2, 'xvi': 2, 'juramentos': 1, 'refunfuñando': 1, 'esquina': 2, 'pasillo': 1, 'conducía': 1, 'breve': 1, 'parada': 1, 'indecible': 1, 'grotescos': 1, 'agitaba': 1, 'ceñía': 1, 'horror': 1, 'fúnebre': 3, 'fantásticos': 1, 'pliegues': 1, 'grises': 1, 'sonó': 2, 'reloj': 2, 'comprendió': 2, 'cara': 3, 'lívida': 1, 'risotada': 2, 'lastimero': 1, 'dio': 5, 'retrocedió': 1, 'escondiendo': 1, 'largas': 1, 'huesosas': 1, 'monstruoso': 1, 'loco': 2, 'retorcer': 1, 'mueca': 1, 'envolvía': 2, 'silenciosa': 1, 'eterna': 1, 'reluciente': 1, 'pozo': 1, 'vestidura': 1, 'redonda': 1, 'nieve': 1, 'gigantesca': 1, 'faz': 1, 'pelada': 1, 'escarlata': 1, 'brotaba': 1, 'fuego': 3, 'horrorosa': 1, 'rasgos': 1, 'carnosa': 1, 'oleadas': 2, 'cartel': 2, 'pecho': 1, 'inscripción': 2, 'caracteres': 1, 'colgado': 1, 'rótulo': 1, 'espantosos': 1, 'infamante': 1, 'donde': 3, 'crímenes': 1, 'delitos': 1, 'lista': 1, 'escritos': 2, 'cimitarra': 2, 'resplandeciente': 1, 'prisa': 4, 'sintió': 5, 'trompicando': 1, 'regresó': 3, 'pánico': 2, 'segunda': 1, 'monstruo': 1, 'montar': 2, 'caer': 2, 'corriendo': 2, 'botas': 3, 'galería': 1, 'tijera': 1, 'cabo': 3, 'resolución': 1, 'reducido': 1, 'amaneciese': 1, 'refugiado': 1, 'valor': 4, 'indomable': 1, 'tapándose': 1, 'sábanas': 1, 'retiro': 1, 'hablar': 1, 'catre': 1, 'colinas': 1, 'horroroso': 1, 'primera': 2, 'alba': 1, 'contacto': 1, 'plateó': 1, 'contender': 1, 'ayuda': 1, 'valían': 1, 'espectáculo': 2, 'podría': 1, 'hallóse': 1, 'victoriosamente': 1, 'presencia': 2, 'sucedíale': 1, 'indudablemente': 4, 'forzada': 1, 'pared': 3, 'recostado': 2, 'incómoda': 1, 'centelleante': 1, 'supina': 1, 'cogió': 4, 'rodar': 1, 'grueso': 1, 'tomaba': 1, 'notó': 1, 'cortina': 1, 'yacían': 1, 'cocina': 2, 'precipitó': 2, 'despegarse': 1, 'cuál': 1, 'abrazaba': 1, 'pies': 2, 'calabaza': 1, 'posición': 2, 'escoba': 1, 'lienzo': 2, 'vacía': 1, 'machete': 1, 'grisácea': 1, 'leyendo': 1, 'febril': 1, 'estas': 3, 'poder': 2, 'transformación': 1, 'curiosa': 1, 'demás': 1, 'espíritu': 1, 'auténtico': 1, '¡desconfiad': 1, 'están': 1, 'falsificados': 1, 'imitaciones': 1, 'chasqueado': 1, 'engañado': 1, '¡había': 1, 'burlado': 1, 'característica': 1, 'escuela': 1, 'amarillas': 1, 'mandíbulas': 1, 'retiro»': 1, 'antigua': 5, '«que': 1, 'tocara': 1, 'llamada': 1, 'ritual': 1, 'desdentadas': 1, 'juró': 1, 'saldría': 2, 'sangrientas': 1, 'pintoresco': 1, 'consumarían': 1, 'apretó': 1, 'alegre': 1, 'gallo': 4, 'reapareció': 1, 'cuerno': 1, 'callado': 1, 'salió': 4, 'ladrillo': 1, 'formular': 1, 'tejado': 1, 'canto': 2, 'juramento': 3, 'alquería': 1, 'este': 2, 'lejana': 1, 'terminado': 2, 'cantar': 2, 'otra': 5, 'esperó': 1, 'lenta': 1, 'razón': 3, 'llegada': 2, 'obligó': 2, 'vano': 1, 'criadas': 1, 'abandonar': 1, 'altivo': 1, 'proyecto': 2, 'pensando': 1, 'guardia': 1, 'fracasado': 1, 'cantó': 1, 'extraordinariamente': 2, 'comprobar': 1, 'caballería': 1, 'libros': 1, 'lectura': 1, 'cuantas': 1, 'consultó': 1, 'aquel': 7, 'interesaba': 1, 'recurrió': 1, '¡que': 3, 'murmuró': 2, 'reventara': 1, 'diablo': 2, 'lanza': 1, 'lleve': 1, '¡en': 1, 'volátil': 1, 'obligándole': 1, 'animal': 1, 'atravesándole': 1, 'mí': 4, 'confortable': 1, 'plomo': 2, 'iv': 1, 'débil': 2, 'cansado': 1, 'últimas': 2, 'producir': 1, 'empezaban': 1, 'emociones': 1, 'temblaba': 1, 'ligero': 2, 'nervioso': 2, 'sensibles': 1, 'verla': 1, 'merecía': 2, 'apreciar': 1, 'material': 1, 'concesión': 1, 'relativo': 2, 'concluyó': 1, 'plano': 1, 'colocada': 1, 'incapaz': 1, 'vistas': 1, 'inferior': 1, 'simbólico': 1, 'quería': 2, 'apariciones': 1, 'indiscutiblemente': 1, 'cuestión': 3, 'cuerpos': 2, 'astrales': 1, 'desconocida': 1, 'farfullar': 1, 'constituía': 1, 'obligación': 1, 'ineludible': 1, 'sustraerse': 1, 'veía': 1, 'tercer': 1, 'digno': 2, 'miércoles': 1, 'relacionaba': 1, 'criminal': 1, 'quitado': 1, 'concienzudo': 1, 'siguientes': 1, 'atravesó': 1, 'sábados': 1, 'madrugada': 2, 'posibles': 1, 'precauciones': 1, 'costumbre': 2, 'usar': 1, 'envolvíase': 1, 'dejaba': 1, 'carcomidas': 1, 'viejas': 1, 'reconocer': 1, 'pisaba': 1, 'adoptar': 1, 'quitaba': 1, 'maderas': 2, 'ligeramente': 1, 'podía': 2, 'precisado': 1, 'vacilaciones': 1, 'cenaba': 1, 'protección': 1, 'engrasar': 1, 'capa': 1, 'suficientemente': 1, 'invento': 1, 'principio': 2, 'elogios': 1, 'cooperaba': 1, 'cierto': 1, 'proyectos': 1, 'razonable': 2, 'humillado': 1, 'realización': 1, 'cubierto': 2, 'matracas': 1, 'enjabonadas': 1, 'umbral': 1, 'cazador': 1, 'tropezar': 1, 'hogsley»': 1, 'disfrazado': 2, 'cuan': 2, 'alta': 2, 'tapices': 3, 'tenderle': 1, 'pista': 1, 'cuerdas': 1, 'colocado': 1, '«isaac': 1, 'dejaban': 1, 'bosque': 1, 'poner': 1, 'consolidar': 1, 'afrenta': 1, 'tal': 9, 'esfuerzo': 1, 'social': 1, 'dignidad': 2, '«ruperto': 1, 'conde': 1, 'visitar': 1, 'formó': 1, 'imponer': 1, 'cabeza»': 1, 'chicos': 1, 'insolentes': 1, 'eton': 2, 'bárbara': 2, 'castletown': 1, 'toleraba': 1, 'disfraz': 2, 'actual': 1, 'modish': 1, 'green': 1, 'arrogante': 1, 'ésta': 1, 'jach': 1, 'gretna': 1, 'jurando': 1, 'paseos': 2, 'mostrado': 1, 'consentiría': 1, 'abuelo': 1, 'pavor': 1, 'hacía': 1, 'terraza': 1, 'consentimiento': 1, 'fugó': 1, 'emparentar': 1, 'wandsworth': 1, 'wells': 1, 'murió': 1, 'pobre': 2, 'conceptos': 1, 'duelo': 2, 'muerto': 3, 'año': 3, 'tumbridge': 1, 'pradera': 1, 'jack': 1, '«del': 1, 'emplear': 2, 'difíciles': 1, 'lenguaje': 1, 'necesitó': 1, 'buenas': 2, 'mayores': 1, 'científico': 1, 'argot': 1, 'teatral': 1, 'repito': 1, 'preparativos': 1, 'aplicarlo': 1, 'naturaleza»': 1, 'horas': 1, 'permitiéndome': 1, 'misterios': 1, 'término': 1, 'superior': 1, 'contentísimo': 1, 'listo': 1, 'arzón': 1, 'hacían': 1, 'traje': 1, 'satisfechísimo': 1, 'holgadas': 1, 'juego': 2, 'pistolas': 1, 'bajó': 2, 'general': 2, 'cortinajes': 1, 'ocupada': 1, 'llamaré': 1, 'entreabierta': 1, 'jarra': 1, 'milímetros': 1, 'violencia': 3, 'agua': 3, 'empapó': 1, 'dándole': 1, 'empujó': 1, 'hombro': 1, 'entrada': 1, 'sensacional': 1, 'vino': 1, 'partían': 1, 'dosel': 2, 'sofocadas': 1, 'doble': 2, 'risas': 1, 'permanecer': 3, 'reúma': 1, 'escape': 1, 'sufrió': 1, 'conmoción': 1, 'graves': 1, 'consecuencias': 1, 'llevado': 1, 'consuelo': 1, 'hubieran': 1, 'corrientes': 1, 'envuelto': 1, 'espantar': 1, 'recia': 1, 'arcabuz': 1, 'gruesa': 1, 'pequeño': 2, 'vagar': 1, 'renunció': 1, 'caso': 3, 'atacado': 1, 'fuese': 1, 'orillo': 1, 'bufanda': 1, 'limitó': 1, 'temor': 2, 'recibió': 2, 'gracia': 1, '19': 1, 'septiembre': 1, 'golpe': 1, 'fotografías': 1, 'satíricas': 1, 'sarow': 1, 'entretenía': 1, 'bajado': 1, 'observaciones': 2, 'jugarretas': 1, 'hechas': 1, 'llevaba': 4, 'salpicado': 1, 'atado': 1, 'sencilla': 1, 'quijada': 1, 'decentemente': 1, 'moho': 2, 'tela': 1, 'vestido': 4, 'habíase': 2, 'tira': 1, 'linternita': 1, 'sepulturero': 1, 'cementerio': 4, 'azadón': 1, 'cherstey': 1, 'palabra': 3, 'barn»': 1, '«jonás': 1, 'desenterrador': 1, 'cadáveres': 1, 'ladrón': 2, 'verdadera': 1, 'riña': 1, 'notables': 1, 'recuerdo': 2, 'rufford': 1, 'vecino': 1, 'motivo': 2, 'guardaban': 1, 'nadie': 8, 'quedaba': 2, 'dirección': 1, 'dirigía': 1, 'ver': 6, 'abalanzaron': 1, 'serían': 1, 'gritaban': 2, 'agitando': 1, 'juicio': 1, 'rincón': 2, 'sombrío': 1, 'movía': 1, 'locamente': 2, 'próximamente': 1, '¡uú': 1, 'hollín': 1, 'cercado': 1, 'encendida': 2, 'jardín': 4, 'evaporarse': 1, 'llegando': 2, 'acorralado': 1, 'chimeneas': 1, 'estufa': 1, 'afortunadamente': 1, 'armado': 1, 'tubos': 1, 'refugio': 1, 'desesperación': 2, 'colado': 1, 'tremendo': 1, 'aquellas': 1, 'regadera': 1, 'enemigos': 1, 'abrirse': 2, 'nocturna': 1, 'vérsele': 1, 'expedición': 1, 'nuez': 1, 'corredores': 1, 'sorprenderle': 1, 'molestia': 1, 'cáscara': 1, 'criados': 5, 'quedaron': 2, 'inútil': 1, 'acecho': 1, 'sembrando': 1, 'herido': 1, 'duda': 3, 'amor': 3, 'profundamente': 1, 'partido': 2, 'obra': 1, 'trabajar': 2, 'demócrata': 1, 'empezado': 1, 'extraordinario': 1, 'clam': 1, 'bake': 1, 'organizó': 1, 'habló': 3, 'comarca': 2, 'nacionales': 1, 'dedicaron': 1, 'ecarté': 1, 'barra': 1, 'diversiones': 1, 'poker': 1, 'carreteras': 1, 'vacaciones': 2, 'compañía': 2, 'pasando': 2, 'duquesito': 12, 'comunicárselo': 1, 'felicitaciones': 1, 'noticia': 1, 'enviaba': 1, 'figuraba': 2, 'contestación': 1, 'producía': 1, 'testimoniaba': 1, 'digna': 1, 'escribió': 1, 'sinceras': 1, 'equivocaban': 1, 'dispuesto': 1, 'apostó': 1, 'stilton': 3, 'jugaría': 1, 'saber': 1, 'dados': 1, 'delicado': 1, 'francis': 1, 'cuyo': 2, 'coronel': 1, 'retirarse': 1, 'carbury': 1, 'alcanzó': 1, 'pronunciar': 1, 'éstas': 1, 'tendido': 1, '¡seis': 1, 'detallado': 1, 'tercero': 1, 'familias': 1, 'memorias': 1, 'amigos': 1, 'referente': 1, 'príncipe': 1, 'tattle': 1, 'regente': 1, 'hiciera': 1, 'relato': 1, 'tomo': 1, 'sentimientos': 1, 'conocida': 1, 'nobles': 1, 'ocultarla': 1, 'posible': 2, 'probar': 1, 'suya': 2, 'influencia': 1, 'casó': 2, 'bulkeley': 1, 'línea': 1, 'duques': 1, 'segundas': 1, 'sabe': 3, 'perdido': 1, 'directa': 1, 'emparentado': 1, 'nupcias': 1, 'deseaba': 1, 'descienden': 1, '«fraile': 1, 'famoso': 1, 'desangrado»': 1, 'enamorado': 1, 'preparativo': 1, 'benedictino': 1, 'starbury': 1, 'víspera': 1, 'legase': 1, 'fallecimiento': 1, 'farmacéutico': 1, 'representar': 1, 'resultado': 1, 'agudos': 1, 'desheredara': 1, 'apoplejía': 1, '1764': 1, 'chillidos': 1, 'soñando': 1, 'inspiraban': 1, 'retuvo': 1, 'coronado': 1, 'durmió': 1, 'plumas': 2, 'lecho': 1, 'v': 1, 'dieron': 2, 'cabello': 1, 'prados': 1, 'brockley': 2, 'saltar': 1, 'adorador': 1, 'viesen': 1, 'desgarró': 1, 'entró': 1, 'rizado': 1, 'seto': 1, 'detrás': 5, 'abierta': 1, 'dentro': 1, 'par': 3, 'madre': 3, 'doncella': 1, 'pensó': 1, 'encargarle': 1, 'asomó': 1, 'cosiese': 1, 'sorpresa': 1, '¡pero': 1, 'árboles': 1, 'enrojecidas': 1, 'amarillentos': 1, 'bailaban': 1, 'acomodado': 1, 'contemplando': 2, 'revoloteaban': 1, 'hojas': 2, 'llameante': 1, 'desaliento': 1, 'apoyada': 1, 'profundo': 2, 'revelaba': 1, 'compasión': 1, 'ir': 3, 'abatido': 1, 'echar': 1, 'encerrarse': 1, 'abrumado': 1, 'correr': 2, 'consolarle': 1, 'ceder': 1, 'presentaba': 1, 'impulso': 1, 'muchacha': 6, 'melancolía': 1, 'honda': 1, 'sentido': 1, 'regresan': 1, 'hermanos': 2, 'mucho': 6, 'atormentará': 1, 'porta': 1, 'jovencita': 1, 'dirigirle': 1, 'pedirme': 1, 'inconcebible': 3, 'estupefacto': 1, 'audacia': 1, 'porte': 1, 'tengo': 5, 'agujeros': 1, 'llama': 1, 'cerraduras': 1, '¿eso': 1, 'mal': 2, 'corretee': 1, 'gruña': 1, 'sacuda': 1, 'portarse': 1, 'mató': 1, 'llegamos': 1, 'malo': 2, '¿sabe': 1, 'asunto': 2, 'incautamente': 1, 'antepasado': 2, 'gesto': 1, 'gravedad': 1, 'adoptaba': 1, 'venido': 2, 'heredado': 1, 'puritana': 1, 'quizás': 2, 'inglaterra': 3, 'severidad': 1, 'almidonaba': 1, 'sufrir': 1, 'abstracta': 1, 'moral': 1, 'puedo': 6, 'barata': 1, 'feísima': 1, 'puños': 1, '¡oh': 3, 'hogsley': 1, 'macho': 1, 'bosques': 1, 'figurarse': 1, 'mire': 1, 'cómo': 1, 'sirvió': 1, 'ciervo': 1, '¡pues': 1, 'cazado': 1, 'matase': 1, 'hambre': 2, 'liquidado': 1, 'dejemos': 1, 'dejasen': 1, 'morir': 4, 'encuentro': 3, 'dejaran': 1, 'costurero': 1, 'gustaría': 1, 'tiene': 5, 'don': 1, '¿es': 1, '¿le': 1, 'sandwich': 1, 'arisca': 1, 'gracias': 2, 'modos': 1, 'amabilísimo': 1, 'ordinaria': 1, 'atenta': 1, 'ladrona': 1, 'incluso': 1, 'fastidiada': 1, 'finalmente': 1, '¡basta': 1, 'cromo': 1, 'grima': 1, 'ridículas': 1, 'pintar': 1, 'ridícula': 1, 'pinturas': 1, 'da': 1, 'incomodísimos': 1, 'acusado': 1, 'coger': 1, 'robado': 1, 'rojos': 1, 'añil': 1, 'colores': 2, 'puestas': 1, 'arisco': 1, 'imposibilitándome': 1, 'agarró': 1, 'claros': 1, 'colorear': 1, 'restaurar': 1, '¿se': 1, 'amarillo': 1, 'quitamanchas': 1, 'dificilísimo': 2, 'hermano': 1, 'resistir': 1, 'gusto': 2, 'sé': 5, 'agenciarse': 1, 'tienen': 3, 'actuales': 1, 'cierta': 1, 'vamos': 1, 'conozco': 2, 'gratuito': 1, 'darían': 1, 'haya': 1, 'dólares': 1, 'aduana': 1, 'contar': 1, 'padre': 1, 'formará': 1, 'antepasados': 1, 'dificultades': 1, 'idea': 1, 'pondrán': 1, 'cantidad': 2, 'derechos': 1, 'infinidad': 1, 'sacrificarían': 1, 'pasaje': 1, 'tendrá': 1, 'cien': 1, '«familia»': 1, 'elevadísimos': 1, 'divertiría': 1, 'deba': 1, 'ruinas': 3, 'burlonamente': 1, 'curiosidades': 2, 'modales': 1, 'marina': 1, 'papá': 2, 'pedir': 1, 'conceda': 1, 'vaya': 1, 'suplico': 1, '¡no': 2, 'soy': 1, 'desgraciado': 2, 'solo': 1, 'acostarme': 1, 'apagar': 1, 'cambio': 1, 'admirablemente': 2, 'listos': 1, 've': 1, 'sencillo': 1, 'saben': 1, 'despierto': 1, 'cansadísimo': 1, 'asombro': 2, 'abriese': 1, 'duermo': 1, 'anciano': 1, 'llenos': 2, 'tristemente': 1, 'haciendo': 2, 'adoptó': 1, 'rosa': 1, 'grave': 1, 'movieron': 1, 'labios': 3, 'finos': 1, 'pétalos': 1, 'acercó': 1, 'contempló': 2, 'arrugado': 1, 'arrodillándose': 1, 'envejecido': 1, 'profirió': 1, 'pobrecito': 1, 'pueda': 1, 'ruiseñor': 2, 'helado': 3, 'canta': 1, 'jardincito': 1, 'durmientes': 1, 'pinar': 2, 'verse': 1, 'blancas': 2, 'crece': 1, 'soñadora': 1, 'cristal': 1, 'espesa': 1, 'extiende': 1, 'gigante': 1, 'cicuta': 1, 'lejos': 1, 'allá': 2, 'empañaron': 1, 'sepultó': 1, 'refiere': 1, 'muerte': 5, 'ayudarme': 1, 'hermosa': 1, '¡descansar': 1, 'nuestra': 1, 'escuchar': 1, 'ayer': 1, 'oscura': 2, 'hierbas': 1, 'abrirme': 1, 'olvidarse': 1, 'paz': 2, 'blanda': 1, 'acompaña': 1, 'balancean': 1, '¡sí': 1, 'hubo': 2, 'estremecimiento': 1, 'tembló': 1, 'recorrió': 1, 'parecíale': 1, 'suspiros': 1, 'resonaba': 1, '¿ha': 1, 'leído': 1, 'profecía': 1, 'vidrieras': 1, 'versos': 2, 'lee': 1, 'doradas': 1, 'pintada': 1, 'curiosas': 1, 'letras': 1, 'logre': 1, 'brotar': 1, 'rubia': 2, 'pecador': 1, 'oración': 1, 'dé': 1, 'fruto': 1, 'estéril': 1, 'almendro': 3, 'deje': 2, 'llanto': 1, 'niña': 2, 'recobrará': 1, 'significan': 2, 'conmigo': 2, 'funestas': 1, 'seres': 1, 'voces': 1, 'pecados': 1, 'podrán': 1, 'pureza': 1, 'ángel': 3, 'daño': 1, 'murmurarán': 1, 'oídos': 1, 'potencias': 1, 'verá': 1, 'infernales': 1, 'apoderará': 1, 'hacerle': 1, 'mirar': 2, 'inclinada': 1, 'retorcíase': 1, 'pálida': 2, 'fulgor': 1, 'irguió': 1, 'firme': 2, 'apiade': 1, 'rogaré': 1, 'levantóse': 1, 'pasados': 1, 'blonda': 1, 'gentileza': 1, 'besó': 1, 'recordaba': 1, 'asiento': 1, 'cazadores': 1, 'pequeños': 1, 'bordados': 1, 'tapiz': 1, 'atravesar': 2, 'fríos': 1, 'abrasaban': 1, 'flaqueó': 1, 'apagado': 1, 'retrocediese': 1, 'soplaban': 1, 'lindas': 2, 'hacíanle': 1, 'gestos': 1, 'flecos': 1, 'adornados': 1, 'vete': 1, 'tus': 1, 'vuelve': 1, '¡vete': 1, 'verlos': 1, 'apretaba': 1, 'decían': 1, 'esquinas': 1, 'ojazos': 1, 'colas': 1, 'parpadearon': 1, 'lagarto': 1, 'animales': 1, 'horribles': 1, 'maliciosamente': 1, 'saltones': 1, 'cuidado': 1, 'podríamos': 1, 'ten': 1, 'verte': 1, 'apresuró': 2, 'disiparse': 1, 'murmurando': 1, 'muro': 3, 'neblina': 1, 'lentamente': 1, 'caverna': 1, 'sintiendo': 1, 'tiraban': 1, 'azotó': 1, 'áspero': 1, 'será': 1, 'gritó': 1, 'desierto': 1, 'vi': 1, 'campana': 1, 'buscarla': 1, 'envió': 3, 'descubrir': 1, 'diciendo': 3, 'leve': 1, 'aparecía': 1, 'recoger': 1, 'tardes': 1, 'inquietó': 1, 'flores': 2, 'recorrían': 1, 'busca': 2, 'seriamente': 1, 'hijos': 4, 'intranquila': 1, 'huellas': 1, 'hermana': 2, 'volvieron': 1, 'encontrado': 2, 'acampar': 2, 'gitanos': 5, 'tribu': 1, 'conmovieron': 1, 'permitido': 3, 'hollow': 1, 'blackfell': 1, 'acompañado': 2, 'mas': 1, 'temiendo': 1, 'acompañarle': 1, 'inquietud': 2, 'jaleo': 1, 'negó': 1, 'insistencia': 1, 'dejase': 1, 'rogó': 2, 'marchado': 1, 'huir': 1, 'platos': 1, 'ardía': 1, 'quedaban': 1, 'registrasen': 1, 'hombres': 1, 'mandar': 1, 'alrededores': 1, 'telegramas': 2, 'rogándoles': 1, 'regresar': 2, 'condado': 1, 'buscasen': 1, 'raptada': 1, 'vagabundos': 1, 'inspectores': 1, 'policía': 1, 'sentaran': 1, 'groom': 2, 'trajeran': 1, 'partió': 1, 'insistir': 1, 'recorrido': 1, 'galope': 1, 'espalda': 1, 'descubierta': 1, 'sofocada': 1, 'pasado': 1, 'comer': 1, 'hubiera': 1, 'ruego': 3, 'casarnos': 1, 'muchísimo': 1, 'aparezca': 1, 'enfade': 1, 'rechaza': 1, '¿verdad': 2, 'entrecortada': 1, 'irme': 1, 'abnegación': 1, 'conmovidísimo': 1, 'mostraba': 1, 'dirigir': 1, 'mozo': 1, 'guapo': 1, 'atolondrado': 1, 'acarició': 1, 'inclinándose': 1, 'bondadosamente': 1, 'insiste': 1, 'venir': 1, 'remedio': 1, 'comprarle': 1, 'cecil': 4, 'admitirle': 1, '¡al': 1, 'riendo': 1, '¡lo': 1, 'sombreros': 1, 'seguido': 1, 'galoparon': 1, 'salida': 1, 'señas': 1, 'preguntó': 1, 'correspondiesen': 1, 'andén': 1, 'jefe': 2, 'averiguó': 1, 'trayecto': 1, 'prometió': 1, 'vigilancia': 1, 'ascendentes': 1, 'ejercer': 1, 'expidió': 1, 'minuciosa': 1, 'estaciones': 1, 'descendentes': 1, 'frecuentado': 1, 'situado': 1, 'bexley': 1, 'pueblo': 1, 'cabalgó': 1, 'dijeron': 1, 'disponía': 1, 'comprar': 1, 'tienda': 1, 'novedades': 1, 'rural': 1, 'levantarse': 1, 'guarda': 1, 'hicieron': 1, 'dato': 1, 'pudieron': 1, 'conseguir': 1, 'jinetes': 1, 'corazón': 3, 'cansancio': 1, 'plaza': 1, 'rendidos': 1, 'tomaron': 1, 'desgarrado': 1, 'linternas': 1, 'esperándolos': 1, 'alcanzados': 1, 'prado': 1, 'equivocado': 1, 'feria': 1, 'explicaron': 1, 'llegar': 2, 'chorton': 1, 'celebrarse': 1, 'parecieron': 1, 'agradecidísimos': 1, 'desconsolados': 1, 'haberles': 1, 'desaparición': 1, 'pesquisas': 1, 'consiguieron': 1, 'sentidos': 1, 'carpas': 1, 'registraron': 1, 'vaciar': 1, 'estanque': 1, 'evidente': 2, 'perdida': 1, 'bridas': 1, 'abatimiento': 1, 'encontráronse': 1, 'grupo': 2, 'sofá': 1, 'colonia': 1, 'ansiedad': 1, 'humedecía': 1, 'tumbada': 1, 'tristísima': 1, 'comida': 1, 'hablaba': 1, 'consternados': 1, 'querían': 1, 'despavoridos': 1, 'disposición': 1, 'detectives': 1, 'telegrafiaría': 1, 'terminaron': 1, 'scotland': 1, 'yard': 1, 'pusieran': 2, 'acostase': 1, 'ruegos': 1, 'mandó': 1, 'comedor': 1, 'salían': 1, 'torre': 1, 'penetrante': 1, 'campanada': 1, 'extinguirse': 1, 'vibraciones': 1, 'oyóse': 1, 'crujido': 1, 'acababan': 1, 'despegó': 1, 'llevando': 4, 'terrenal': 1, 'melodía': 1, 'flotó': 1, 'bamboleó': 1, 'cajita': 2, 'rellano': 1, 'precipitaron': 1, 'apasionadamente': 1, 'estrechó': 2, 'ahogó': 1, 'besos': 1, 'ejecutaron': 1, 'danza': 1, 'guerra': 1, '¡ah': 1, 'tu': 2, '¡hija': 1, 'te': 3, 'mía': 3, 'enfadado': 1, '¿dónde': 1, 'creyendo': 1, 'registrado': 1, 'metido': 1, 'habías': 1, 'tuya': 1, 'bromitas': 1, 'morirse': 1, 'género': 1, 'vuelvas': 1, '¡menos': 1, 'continuando': 1, 'cabriolas': 1, 'gritaron': 1, 'querida': 1, 'volveremos': 1, 'cabellos': 1, 'besando': 1, 'hija': 4, 'trémula': 1, 'murmuraba': 1, 'dios': 1, 'separar': 1, 'desparramaban': 1, 'acariciando': 1, 'joyas': 5, 'sinceramente': 1, 'hermosas': 1, 'vayáis': 1, 'dulcemente': 1, 'verle': 2, 'hecho': 1, 'arrepentido': 1, 'muda': 1, 'serio': 1, 'precedió': 1, 'clavos': 1, 'erizada': 1, 'recios': 1, 'tocó': 1, 'giró': 1, 'techo': 1, 'estrecha': 1, 'hallaron': 1, 'enormes': 1, 'abovedado': 1, 'goznes': 1, 'ventanita': 2, 'extendido': 1, 'junto': 2, 'empotrada': 1, 'encadenado': 1, 'argolla': 1, 'plato': 2, 'descarnados': 1, 'colocados': 1, 'pudiese': 1, 'intentando': 1, 'cántaro': 2, 'alcanzarlos': 1, 'estirar': 1, 'interior': 1, 'tapizado': 1, 'polvo': 1, 'montón': 1, 'arrodilló': 1, 'manitas': 1, 'revelado': 1, 'tragedia': 1, 'contemplaba': 2, 'uniendo': 1, '¡atiza': 2, 'ido': 1, 'queriendo': 1, 'edificio': 1, 'adivinar': 1, 'seco': 1, 'antiguo': 1, 'florecido': 1, 'ven': 1, 'levantándose': 1, '¡dios': 1, 'iluminar': 1, 'perdonado': 1, 'magnífico': 1, 'resplandor': 1, 'gravemente': 2, 'ciñéndole': 1, 'besándola': 1, '¡eres': 1, 'vii': 1, 'curiosos': 1, 'house': 1, 'cortejo': 1, 'sucesos': 1, 'salía': 1, 'ocho': 1, 'cuales': 1, 'caballos': 1, 'carro': 2, 'adornada': 1, 'penacho': 1, 'arrastrado': 1, 'balanceaban': 1, 'avestruz': 1, 'negros': 1, 'rico': 1, 'paño': 1, 'bordadas': 1, 'coches': 1, 'encendidas': 1, 'marchaban': 1, 'antorchas': 1, 'grandioso': 1, 'impresionante': 1, 'comitiva': 1, 'expresamente': 1, 'asistir': 1, 'presidía': 1, 'gales': 1, 'entierro': 1, 'muchachos': 1, 'atemorizada': 1, 'derecho': 1, 'convino': 1, 'cincuenta': 1, 'patético': 1, 'fosa': 2, 'oraciones': 1, 'cavaron': 1, 'rojas': 1, 'colocando': 1, 'bajar': 1, 'hecha': 1, 'cruz': 1, 'adelantó': 1, 'inundó': 1, 'silenciosas': 1, 'cercano': 1, 'elevó': 1, 'bosquecillo': 1, 'plata': 1, 'descripción': 1, 'llenaron': 1, 'pronunció': 1, 'regreso': 1, 'partiese': 1, 'entregadas': 1, 'ciudad': 1, 'conferenció': 1, 'respecto': 1, 'soberbias': 1, 'magníficas': 2, 'veneciana': 1, 'quedase': 1, 'conjunto': 1, 'montura': 1, 'representaba': 1, 'permitir': 2, 'rubíes': 1, 'sentía': 2, 'trabajo': 1, 'escrúpulos': 1, 'producirían': 1, 'juguetes': 1, 'barrio': 1, 'superfluo': 1, 'deterioradísima': 1, 'siente': 1, 'queden': 1, 'estarían': 1, 'nació': 1, 'milord': 1, 'miembro': 1, 'objetos': 1, 'petición': 1, 'preciosas': 1, 'explicación': 1, 'restituida': 1, 'bibelots': 1, 'acoger': 1, 'educadas': 1, 'herencia': 1, 'quedar': 1, 'complace': 1, 'deben': 1, 'infortunio': 1, 'despreciable': 1, 'atenas': 1, 'llevárselas': 1, 'atrevería': 1, 'británica': 1, 'evidentísimo': 1, 'necesitados': 1, 'futilezas': 1, 'sorprende': 1, 'lugar': 1, 'lujo': 1, 'asegurar': 1, 'apreciados': 1, 'sencillez': 2, 'extraordinarias': 1, 'considerándolas': 1, 'arte': 1, 'excursión': 1, 'principios': 2, 'piedras': 1, 'menudos': 1, 'demostrar': 1, 'chiquilla': 1, 'interés': 1, 'legado': 1, 'autoridad': 1, 'inviernos': 1, 'encuentre': 1, 'encierra': 1, 'sea': 2, 'tierras': 1, 'tenido': 1, 'venta': 1, 'sean': 2, 'severos': 1, 'decirse': 1, 'locuras': 1, 'confieso': 1, 'monetario': 1, 'aplica': 1, 'decirlo': 1, 'consienta': 1, 'favorablemente': 1, 'republicana': 1, 'reconocerá': 1, 'imperturbable': 1, 'bigote': 1, 'escuchó': 1, 'atusándose': 1, 'involuntaria': 1, 'discurso': 1, 'ocultar': 1, 'cordialmente': 1, 'servicio': 1, 'importantísimo': 1, 'ignorada': 1, 'tumba': 2, 'mías': 1, 'especificadas': 1, 'quitárselas': 1, 'infernarme': 1, 'sino': 1, 'suficiente': 1, 'tuviese': 1, 'fría': 1, 'legal': 2, 'demostrado': 1, 'aseguro': 1, 'maravilloso': 1, 'testamento': 1, 'tales': 1, 'estamos': 1, 'reconocidísimos': 1, 'hijita': 1, 'sospecho': 1, 'serlo': 1, 'olvida': 1, 'podrían': 1, 'encantará': 1, 'antecesor': 1, 'prestado': 1, 'adquirió': 1, 'tunante': 1, 'insensibilidad': 1, 'pertenece': 1, 'compra': 1, 'actividad': 1, 'pruebas': 1, 'pertenecía': 1, 'aceptase': 1, 'preocupado': 1, 'convencer': 1, 'excelente': 1, 'decisión': 1, 'mantuvo': 1, 'regalo': 1, 'negativa': 1, 'reflexionara': 1, 'duquesita': 1, 'casamiento': 1, 'primavera': 1, 'recepción': 1, '1890': 1, 'tortil': 1, 'agraciada': 1, 'otorga': 1, 'americanitas': 1, 'novio': 1, 'lambrequín': 1, 'baronía': 1, 'presentada': 1, 'recompensa': 1, 'juiciosas': 1, 'hijas': 1, 'encantó': 1, 'ambos': 1, 'atrapar': 1, 'agradables': 1, 'casarle': 1, 'amaban': 1, 'dumbleton': 1, 'marquesa': 1, 'venía': 1, 'comidas': 1, 'conseguirlo': 1, 'costosísimas': 1, 'simpatía': 1, 'republicana»': 1, '«particularismo»': 1, 'temer': 1, 'enemigo': 1, 'influencias': 1, 'olvidados': 1, 'ávida': 1, 'debilitantes': 1, 'teóricamente': 1, 'rara': 1, '«era': 1, 'personal': 1, 'lateral': 1, 'square': 1, 'orgulloso': 1, 'nave': 1, 'avanzó': 1, 'jorge': 1, 'san': 1, 'brazo': 1, 'hannover': 1, 'próximo': 1, 'miel': 1, 'solitario': 1, 'concluyeron': 1, 'grabarse': 1, 'losa': 1, 'preocupó': 1, 'decidir': 1, 'gentilhombre': 1, 'iniciales': 1, 'abadía': 1, 'rosas': 1, 'pasaron': 1, 'desparramó': 1, 'claustro': 1, 'rato': 1, 'sentó': 1, 'cigarrillo': 2, 'columna': 1, 'fumando': 1, 'lindos': 1, 'tomándole': 1, 'estuviste': 1, 'sucedió': 1, 'tienes': 1, 'has': 1, 'encerrada': 1, 'podrías': 1, 'decírtelo': 1, 'debo': 1, '¡pobre': 1, 'significa': 1, 'rías': 1, 'preguntes': 1, 'besar': 1, 'amorosamente': 1, 'posea': 1, 'puedes': 1, 'tuyo': 1, 'dirás': 1, 'ruborizó': 1})\n"
          ]
        }
      ],
      "source": [
        "# Cantidad de veces quea aparece cada palabra en cada \"documento\"\n",
        "# (1 documento = 1 caso de entrada)\n",
        "print(tok.word_docs)"
      ]
    },
    {
      "cell_type": "markdown",
      "metadata": {
        "id": "nuLzE-GeU71B"
      },
      "source": [
        "### Paso 4: Definición del modelo"
      ]
    },
    {
      "cell_type": "code",
      "execution_count": 308,
      "metadata": {
        "id": "nsC6-Mu2VASQ",
        "colab": {
          "base_uri": "https://localhost:8080/",
          "height": 312
        },
        "outputId": "40ad121c-63f5-4f59-83f8-c6538cc01646"
      },
      "outputs": [
        {
          "output_type": "stream",
          "name": "stderr",
          "text": [
            "/usr/local/lib/python3.10/dist-packages/keras/src/layers/core/embedding.py:93: UserWarning: Do not pass an `input_shape`/`input_dim` argument to a layer. When using Sequential models, prefer using an `Input(shape)` object as the first layer in the model instead.\n",
            "  super().__init__(**kwargs)\n"
          ]
        },
        {
          "output_type": "display_data",
          "data": {
            "text/plain": [
              "\u001b[1mModel: \"sequential_14\"\u001b[0m\n"
            ],
            "text/html": [
              "<pre style=\"white-space:pre;overflow-x:auto;line-height:normal;font-family:Menlo,'DejaVu Sans Mono',consolas,'Courier New',monospace\"><span style=\"font-weight: bold\">Model: \"sequential_14\"</span>\n",
              "</pre>\n"
            ]
          },
          "metadata": {}
        },
        {
          "output_type": "display_data",
          "data": {
            "text/plain": [
              "┏━━━━━━━━━━━━━━━━━━━━━━━━━━━━━━━━━━━━━━┳━━━━━━━━━━━━━━━━━━━━━━━━━━━━━┳━━━━━━━━━━━━━━━━━┓\n",
              "┃\u001b[1m \u001b[0m\u001b[1mLayer (type)                        \u001b[0m\u001b[1m \u001b[0m┃\u001b[1m \u001b[0m\u001b[1mOutput Shape               \u001b[0m\u001b[1m \u001b[0m┃\u001b[1m \u001b[0m\u001b[1m        Param #\u001b[0m\u001b[1m \u001b[0m┃\n",
              "┡━━━━━━━━━━━━━━━━━━━━━━━━━━━━━━━━━━━━━━╇━━━━━━━━━━━━━━━━━━━━━━━━━━━━━╇━━━━━━━━━━━━━━━━━┩\n",
              "│ embedding_14 (\u001b[38;5;33mEmbedding\u001b[0m)             │ (\u001b[38;5;45mNone\u001b[0m, \u001b[38;5;45mNone\u001b[0m, \u001b[38;5;34m50\u001b[0m)            │         \u001b[38;5;34m164,400\u001b[0m │\n",
              "├──────────────────────────────────────┼─────────────────────────────┼─────────────────┤\n",
              "│ lstm_27 (\u001b[38;5;33mLSTM\u001b[0m)                       │ (\u001b[38;5;45mNone\u001b[0m, \u001b[38;5;45mNone\u001b[0m, \u001b[38;5;34m100\u001b[0m)           │          \u001b[38;5;34m60,400\u001b[0m │\n",
              "├──────────────────────────────────────┼─────────────────────────────┼─────────────────┤\n",
              "│ lstm_28 (\u001b[38;5;33mLSTM\u001b[0m)                       │ (\u001b[38;5;45mNone\u001b[0m, \u001b[38;5;45mNone\u001b[0m, \u001b[38;5;34m100\u001b[0m)           │          \u001b[38;5;34m80,400\u001b[0m │\n",
              "├──────────────────────────────────────┼─────────────────────────────┼─────────────────┤\n",
              "│ dense_18 (\u001b[38;5;33mDense\u001b[0m)                     │ (\u001b[38;5;45mNone\u001b[0m, \u001b[38;5;45mNone\u001b[0m, \u001b[38;5;34m3288\u001b[0m)          │         \u001b[38;5;34m332,088\u001b[0m │\n",
              "└──────────────────────────────────────┴─────────────────────────────┴─────────────────┘\n"
            ],
            "text/html": [
              "<pre style=\"white-space:pre;overflow-x:auto;line-height:normal;font-family:Menlo,'DejaVu Sans Mono',consolas,'Courier New',monospace\">┏━━━━━━━━━━━━━━━━━━━━━━━━━━━━━━━━━━━━━━┳━━━━━━━━━━━━━━━━━━━━━━━━━━━━━┳━━━━━━━━━━━━━━━━━┓\n",
              "┃<span style=\"font-weight: bold\"> Layer (type)                         </span>┃<span style=\"font-weight: bold\"> Output Shape                </span>┃<span style=\"font-weight: bold\">         Param # </span>┃\n",
              "┡━━━━━━━━━━━━━━━━━━━━━━━━━━━━━━━━━━━━━━╇━━━━━━━━━━━━━━━━━━━━━━━━━━━━━╇━━━━━━━━━━━━━━━━━┩\n",
              "│ embedding_14 (<span style=\"color: #0087ff; text-decoration-color: #0087ff\">Embedding</span>)             │ (<span style=\"color: #00d7ff; text-decoration-color: #00d7ff\">None</span>, <span style=\"color: #00d7ff; text-decoration-color: #00d7ff\">None</span>, <span style=\"color: #00af00; text-decoration-color: #00af00\">50</span>)            │         <span style=\"color: #00af00; text-decoration-color: #00af00\">164,400</span> │\n",
              "├──────────────────────────────────────┼─────────────────────────────┼─────────────────┤\n",
              "│ lstm_27 (<span style=\"color: #0087ff; text-decoration-color: #0087ff\">LSTM</span>)                       │ (<span style=\"color: #00d7ff; text-decoration-color: #00d7ff\">None</span>, <span style=\"color: #00d7ff; text-decoration-color: #00d7ff\">None</span>, <span style=\"color: #00af00; text-decoration-color: #00af00\">100</span>)           │          <span style=\"color: #00af00; text-decoration-color: #00af00\">60,400</span> │\n",
              "├──────────────────────────────────────┼─────────────────────────────┼─────────────────┤\n",
              "│ lstm_28 (<span style=\"color: #0087ff; text-decoration-color: #0087ff\">LSTM</span>)                       │ (<span style=\"color: #00d7ff; text-decoration-color: #00d7ff\">None</span>, <span style=\"color: #00d7ff; text-decoration-color: #00d7ff\">None</span>, <span style=\"color: #00af00; text-decoration-color: #00af00\">100</span>)           │          <span style=\"color: #00af00; text-decoration-color: #00af00\">80,400</span> │\n",
              "├──────────────────────────────────────┼─────────────────────────────┼─────────────────┤\n",
              "│ dense_18 (<span style=\"color: #0087ff; text-decoration-color: #0087ff\">Dense</span>)                     │ (<span style=\"color: #00d7ff; text-decoration-color: #00d7ff\">None</span>, <span style=\"color: #00d7ff; text-decoration-color: #00d7ff\">None</span>, <span style=\"color: #00af00; text-decoration-color: #00af00\">3288</span>)          │         <span style=\"color: #00af00; text-decoration-color: #00af00\">332,088</span> │\n",
              "└──────────────────────────────────────┴─────────────────────────────┴─────────────────┘\n",
              "</pre>\n"
            ]
          },
          "metadata": {}
        },
        {
          "output_type": "display_data",
          "data": {
            "text/plain": [
              "\u001b[1m Total params: \u001b[0m\u001b[38;5;34m637,288\u001b[0m (2.43 MB)\n"
            ],
            "text/html": [
              "<pre style=\"white-space:pre;overflow-x:auto;line-height:normal;font-family:Menlo,'DejaVu Sans Mono',consolas,'Courier New',monospace\"><span style=\"font-weight: bold\"> Total params: </span><span style=\"color: #00af00; text-decoration-color: #00af00\">637,288</span> (2.43 MB)\n",
              "</pre>\n"
            ]
          },
          "metadata": {}
        },
        {
          "output_type": "display_data",
          "data": {
            "text/plain": [
              "\u001b[1m Trainable params: \u001b[0m\u001b[38;5;34m637,288\u001b[0m (2.43 MB)\n"
            ],
            "text/html": [
              "<pre style=\"white-space:pre;overflow-x:auto;line-height:normal;font-family:Menlo,'DejaVu Sans Mono',consolas,'Courier New',monospace\"><span style=\"font-weight: bold\"> Trainable params: </span><span style=\"color: #00af00; text-decoration-color: #00af00\">637,288</span> (2.43 MB)\n",
              "</pre>\n"
            ]
          },
          "metadata": {}
        },
        {
          "output_type": "display_data",
          "data": {
            "text/plain": [
              "\u001b[1m Non-trainable params: \u001b[0m\u001b[38;5;34m0\u001b[0m (0.00 B)\n"
            ],
            "text/html": [
              "<pre style=\"white-space:pre;overflow-x:auto;line-height:normal;font-family:Menlo,'DejaVu Sans Mono',consolas,'Courier New',monospace\"><span style=\"font-weight: bold\"> Non-trainable params: </span><span style=\"color: #00af00; text-decoration-color: #00af00\">0</span> (0.00 B)\n",
              "</pre>\n"
            ]
          },
          "metadata": {}
        }
      ],
      "source": [
        "model = Sequential()\n",
        "\n",
        "# la primera capa es de embedding entrenable. Recordar que se puede variar el tamaño\n",
        "# del embedding a entrenar\n",
        "model.add(Embedding(input_dim=vocab_size+1, output_dim=50, input_shape=(None,)))\n",
        "\n",
        "model.add(LSTM(100, return_sequences=True, dropout=0.3))\n",
        "\n",
        "model.add(LSTM(100, return_sequences=True, dropout=0.2))\n",
        "#model.add(Dropout(0.2))\n",
        "#model.add(Dense(32, activation='relu'))\n",
        "\n",
        "# Predicción de clasificación con softmax\n",
        "# La salida es del tamaño del vocabulario\n",
        "model.add(Dense(vocab_size+1, activation='softmax'))\n",
        "\n",
        "\n",
        "# Clasificación multiple categórica --> loss = categorical_crossentropy\n",
        "# notar que usamos la versión Sparse para utilizar sólo índices en lugar de OHE\n",
        "model.compile(loss=SparseCategoricalCrossentropy(), optimizer='rmsprop')\n",
        "\n",
        "model.summary()"
      ]
    },
    {
      "cell_type": "code",
      "execution_count": 309,
      "metadata": {
        "id": "tBiTSAUXVJ60"
      },
      "outputs": [],
      "source": [
        "class PplCallback(keras.callbacks.Callback):\n",
        "\n",
        "    '''\n",
        "    Este callback es una solución ad-hoc para calcular al final de cada epoch de\n",
        "    entrenamiento la métrica de Perplejidad sobre un conjunto de datos de validación.\n",
        "    La perplejidad es una métrica cuantitativa para evaluar la calidad de la generación de secuencias.\n",
        "    Además implementa la finalización del entrenamiento (Early Stopping)\n",
        "    si la perplejidad no mejora después de `patience` epochs.\n",
        "    '''\n",
        "\n",
        "    def __init__(self, val_data, history_ppl, patience=5):\n",
        "      # El callback lo inicializamos con secuencias de validación sobre las cuales\n",
        "      # mediremos la perplejidad y la paciencia para detener el entrenamiento.\n",
        "      self.val_data = val_data\n",
        "\n",
        "      self.target = []\n",
        "      self.padded = []\n",
        "\n",
        "      count = 0\n",
        "      self.info = []\n",
        "      self.history_ppl = []\n",
        "      self.min_score = np.inf\n",
        "      self.patience_counter = 0\n",
        "      self.patience = patience\n",
        "\n",
        "      # nos movemos en todas las secuencias de los datos de validación\n",
        "      for seq in self.val_data:\n",
        "\n",
        "        len_seq = len(seq)\n",
        "        # armamos todas las subsecuencias\n",
        "        subseq = [seq[:i] for i in range(len_seq)]\n",
        "        self.target.extend([seq[i] for i in range(len_seq)])\n",
        "\n",
        "        if len(subseq)!=0:\n",
        "\n",
        "          self.padded.append(pad_sequences(subseq, maxlen=max_context_size, padding='pre'))\n",
        "\n",
        "          self.info.append((count,count+len_seq))\n",
        "          count += len_seq\n",
        "\n",
        "      self.padded = np.vstack(self.padded)\n",
        "\n",
        "\n",
        "    def on_epoch_end(self, epoch, logs=None):\n",
        "\n",
        "        # en `scores` iremos guardando la perplejidad de cada secuencia\n",
        "        scores = []\n",
        "\n",
        "        predictions = self.model.predict(self.padded,verbose=0)\n",
        "\n",
        "        # para cada secuencia de validación\n",
        "        for start,end in self.info:\n",
        "\n",
        "          # en `probs` iremos guardando las probabilidades de los términos target\n",
        "          probs = [predictions[idx_seq,-1,idx_vocab] for idx_seq, idx_vocab in zip(range(start,end),self.target[start:end])]\n",
        "\n",
        "          # calculamos la perplejidad por medio de logaritmos\n",
        "          scores.append(np.exp(-np.sum(np.log(probs))/(end-start)))\n",
        "\n",
        "        # promediamos todos los scores e imprimimos el valor promedio\n",
        "        current_score = np.mean(scores)\n",
        "        history_ppl.append(current_score)\n",
        "        print(f'\\n mean perplexity: {current_score} \\n')\n",
        "\n",
        "        # chequeamos si tenemos que detener el entrenamiento\n",
        "        if current_score < self.min_score:\n",
        "          self.min_score = current_score\n",
        "          self.model.save(\"my_model.keras\")\n",
        "          print(\"Saved new model!\")\n",
        "          self.patience_counter = 0\n",
        "        else:\n",
        "          self.patience_counter += 1\n",
        "          if self.patience_counter == self.patience:\n",
        "            print(\"Stopping training...\")\n",
        "            self.model.stop_training = True\n",
        "\n"
      ]
    },
    {
      "cell_type": "markdown",
      "metadata": {
        "id": "eB_4R13uVkHi"
      },
      "source": [
        "### Paso 5: Entrenamiento"
      ]
    },
    {
      "cell_type": "code",
      "execution_count": 310,
      "metadata": {
        "id": "t1LYwke-VjNI",
        "colab": {
          "base_uri": "https://localhost:8080/"
        },
        "outputId": "76224793-d022-48b2-ab4b-2887b9179efe"
      },
      "outputs": [
        {
          "output_type": "stream",
          "name": "stdout",
          "text": [
            "Epoch 1/20\n",
            "\u001b[1m461/463\u001b[0m \u001b[32m━━━━━━━━━━━━━━━━━━━\u001b[0m\u001b[37m━\u001b[0m \u001b[1m0s\u001b[0m 23ms/step - loss: 4.1909\n",
            " mean perplexity: 241067.83734004383 \n",
            "\n",
            "Saved new model!\n",
            "\u001b[1m463/463\u001b[0m \u001b[32m━━━━━━━━━━━━━━━━━━━━\u001b[0m\u001b[37m\u001b[0m \u001b[1m17s\u001b[0m 31ms/step - loss: 4.1860\n",
            "Epoch 2/20\n",
            "\u001b[1m463/463\u001b[0m \u001b[32m━━━━━━━━━━━━━━━━━━━━\u001b[0m\u001b[37m\u001b[0m \u001b[1m0s\u001b[0m 24ms/step - loss: 3.0193\n",
            " mean perplexity: 167453.29138341564 \n",
            "\n",
            "Saved new model!\n",
            "\u001b[1m463/463\u001b[0m \u001b[32m━━━━━━━━━━━━━━━━━━━━\u001b[0m\u001b[37m\u001b[0m \u001b[1m19s\u001b[0m 29ms/step - loss: 3.0193\n",
            "Epoch 3/20\n",
            "\u001b[1m463/463\u001b[0m \u001b[32m━━━━━━━━━━━━━━━━━━━━\u001b[0m\u001b[37m\u001b[0m \u001b[1m0s\u001b[0m 24ms/step - loss: 2.8915\n",
            " mean perplexity: 170980.4695975374 \n",
            "\n",
            "\u001b[1m463/463\u001b[0m \u001b[32m━━━━━━━━━━━━━━━━━━━━\u001b[0m\u001b[37m\u001b[0m \u001b[1m13s\u001b[0m 29ms/step - loss: 2.8913\n",
            "Epoch 4/20\n",
            "\u001b[1m463/463\u001b[0m \u001b[32m━━━━━━━━━━━━━━━━━━━━\u001b[0m\u001b[37m\u001b[0m \u001b[1m0s\u001b[0m 26ms/step - loss: 2.6303\n",
            " mean perplexity: 153562.09639552774 \n",
            "\n",
            "Saved new model!\n",
            "\u001b[1m463/463\u001b[0m \u001b[32m━━━━━━━━━━━━━━━━━━━━\u001b[0m\u001b[37m\u001b[0m \u001b[1m21s\u001b[0m 31ms/step - loss: 2.6302\n",
            "Epoch 5/20\n",
            "\u001b[1m461/463\u001b[0m \u001b[32m━━━━━━━━━━━━━━━━━━━\u001b[0m\u001b[37m━\u001b[0m \u001b[1m0s\u001b[0m 24ms/step - loss: 2.3826\n",
            " mean perplexity: 122726.8806575989 \n",
            "\n",
            "Saved new model!\n",
            "\u001b[1m463/463\u001b[0m \u001b[32m━━━━━━━━━━━━━━━━━━━━\u001b[0m\u001b[37m\u001b[0m \u001b[1m14s\u001b[0m 30ms/step - loss: 2.3823\n",
            "Epoch 6/20\n",
            "\u001b[1m463/463\u001b[0m \u001b[32m━━━━━━━━━━━━━━━━━━━━\u001b[0m\u001b[37m\u001b[0m \u001b[1m0s\u001b[0m 24ms/step - loss: 2.1930\n",
            " mean perplexity: 135034.50802295093 \n",
            "\n",
            "\u001b[1m463/463\u001b[0m \u001b[32m━━━━━━━━━━━━━━━━━━━━\u001b[0m\u001b[37m\u001b[0m \u001b[1m21s\u001b[0m 30ms/step - loss: 2.1929\n",
            "Epoch 7/20\n",
            "\u001b[1m463/463\u001b[0m \u001b[32m━━━━━━━━━━━━━━━━━━━━\u001b[0m\u001b[37m\u001b[0m \u001b[1m0s\u001b[0m 24ms/step - loss: 2.0121\n",
            " mean perplexity: 133952.3477038616 \n",
            "\n",
            "\u001b[1m463/463\u001b[0m \u001b[32m━━━━━━━━━━━━━━━━━━━━\u001b[0m\u001b[37m\u001b[0m \u001b[1m20s\u001b[0m 30ms/step - loss: 2.0120\n",
            "Epoch 8/20\n",
            "\u001b[1m461/463\u001b[0m \u001b[32m━━━━━━━━━━━━━━━━━━━\u001b[0m\u001b[37m━\u001b[0m \u001b[1m0s\u001b[0m 24ms/step - loss: 1.8241\n",
            " mean perplexity: 141460.79299721977 \n",
            "\n",
            "\u001b[1m463/463\u001b[0m \u001b[32m━━━━━━━━━━━━━━━━━━━━\u001b[0m\u001b[37m\u001b[0m \u001b[1m13s\u001b[0m 29ms/step - loss: 1.8238\n",
            "Epoch 9/20\n",
            "\u001b[1m461/463\u001b[0m \u001b[32m━━━━━━━━━━━━━━━━━━━\u001b[0m\u001b[37m━\u001b[0m \u001b[1m0s\u001b[0m 24ms/step - loss: 1.6537\n",
            " mean perplexity: 146228.4153255529 \n",
            "\n",
            "\u001b[1m463/463\u001b[0m \u001b[32m━━━━━━━━━━━━━━━━━━━━\u001b[0m\u001b[37m\u001b[0m \u001b[1m14s\u001b[0m 29ms/step - loss: 1.6535\n",
            "Epoch 10/20\n",
            "\u001b[1m461/463\u001b[0m \u001b[32m━━━━━━━━━━━━━━━━━━━\u001b[0m\u001b[37m━\u001b[0m \u001b[1m0s\u001b[0m 25ms/step - loss: 1.5030\n",
            " mean perplexity: 108063.10673631339 \n",
            "\n",
            "Saved new model!\n",
            "\u001b[1m463/463\u001b[0m \u001b[32m━━━━━━━━━━━━━━━━━━━━\u001b[0m\u001b[37m\u001b[0m \u001b[1m21s\u001b[0m 31ms/step - loss: 1.5028\n",
            "Epoch 11/20\n",
            "\u001b[1m462/463\u001b[0m \u001b[32m━━━━━━━━━━━━━━━━━━━\u001b[0m\u001b[37m━\u001b[0m \u001b[1m0s\u001b[0m 24ms/step - loss: 1.3684\n",
            " mean perplexity: 178491.157920932 \n",
            "\n",
            "\u001b[1m463/463\u001b[0m \u001b[32m━━━━━━━━━━━━━━━━━━━━\u001b[0m\u001b[37m\u001b[0m \u001b[1m20s\u001b[0m 30ms/step - loss: 1.3683\n",
            "Epoch 12/20\n",
            "\u001b[1m461/463\u001b[0m \u001b[32m━━━━━━━━━━━━━━━━━━━\u001b[0m\u001b[37m━\u001b[0m \u001b[1m0s\u001b[0m 24ms/step - loss: 1.2536\n",
            " mean perplexity: 104757.23764327267 \n",
            "\n",
            "Saved new model!\n",
            "\u001b[1m463/463\u001b[0m \u001b[32m━━━━━━━━━━━━━━━━━━━━\u001b[0m\u001b[37m\u001b[0m \u001b[1m21s\u001b[0m 30ms/step - loss: 1.2534\n",
            "Epoch 13/20\n",
            "\u001b[1m462/463\u001b[0m \u001b[32m━━━━━━━━━━━━━━━━━━━\u001b[0m\u001b[37m━\u001b[0m \u001b[1m0s\u001b[0m 24ms/step - loss: 1.1458\n",
            " mean perplexity: 94108.63272347314 \n",
            "\n",
            "Saved new model!\n",
            "\u001b[1m463/463\u001b[0m \u001b[32m━━━━━━━━━━━━━━━━━━━━\u001b[0m\u001b[37m\u001b[0m \u001b[1m20s\u001b[0m 29ms/step - loss: 1.1456\n",
            "Epoch 14/20\n",
            "\u001b[1m463/463\u001b[0m \u001b[32m━━━━━━━━━━━━━━━━━━━━\u001b[0m\u001b[37m\u001b[0m \u001b[1m0s\u001b[0m 24ms/step - loss: 1.0476\n",
            " mean perplexity: 111656.84486216409 \n",
            "\n",
            "\u001b[1m463/463\u001b[0m \u001b[32m━━━━━━━━━━━━━━━━━━━━\u001b[0m\u001b[37m\u001b[0m \u001b[1m21s\u001b[0m 29ms/step - loss: 1.0476\n",
            "Epoch 15/20\n",
            "\u001b[1m461/463\u001b[0m \u001b[32m━━━━━━━━━━━━━━━━━━━\u001b[0m\u001b[37m━\u001b[0m \u001b[1m0s\u001b[0m 23ms/step - loss: 0.9733\n",
            " mean perplexity: 127948.35110104656 \n",
            "\n",
            "\u001b[1m463/463\u001b[0m \u001b[32m━━━━━━━━━━━━━━━━━━━━\u001b[0m\u001b[37m\u001b[0m \u001b[1m20s\u001b[0m 29ms/step - loss: 0.9731\n",
            "Epoch 16/20\n",
            "\u001b[1m461/463\u001b[0m \u001b[32m━━━━━━━━━━━━━━━━━━━\u001b[0m\u001b[37m━\u001b[0m \u001b[1m0s\u001b[0m 23ms/step - loss: 0.8905\n",
            " mean perplexity: 89726.0895907349 \n",
            "\n",
            "Saved new model!\n",
            "\u001b[1m463/463\u001b[0m \u001b[32m━━━━━━━━━━━━━━━━━━━━\u001b[0m\u001b[37m\u001b[0m \u001b[1m16s\u001b[0m 35ms/step - loss: 0.8904\n",
            "Epoch 17/20\n",
            "\u001b[1m462/463\u001b[0m \u001b[32m━━━━━━━━━━━━━━━━━━━\u001b[0m\u001b[37m━\u001b[0m \u001b[1m0s\u001b[0m 24ms/step - loss: 0.8314\n",
            " mean perplexity: 96069.13205763946 \n",
            "\n",
            "\u001b[1m463/463\u001b[0m \u001b[32m━━━━━━━━━━━━━━━━━━━━\u001b[0m\u001b[37m\u001b[0m \u001b[1m13s\u001b[0m 29ms/step - loss: 0.8314\n",
            "Epoch 18/20\n",
            "\u001b[1m462/463\u001b[0m \u001b[32m━━━━━━━━━━━━━━━━━━━\u001b[0m\u001b[37m━\u001b[0m \u001b[1m0s\u001b[0m 24ms/step - loss: 0.7814\n",
            " mean perplexity: 64372.72602187241 \n",
            "\n",
            "Saved new model!\n",
            "\u001b[1m463/463\u001b[0m \u001b[32m━━━━━━━━━━━━━━━━━━━━\u001b[0m\u001b[37m\u001b[0m \u001b[1m20s\u001b[0m 29ms/step - loss: 0.7814\n",
            "Epoch 19/20\n",
            "\u001b[1m462/463\u001b[0m \u001b[32m━━━━━━━━━━━━━━━━━━━\u001b[0m\u001b[37m━\u001b[0m \u001b[1m0s\u001b[0m 24ms/step - loss: 0.7337\n",
            " mean perplexity: 65808.58970983149 \n",
            "\n",
            "\u001b[1m463/463\u001b[0m \u001b[32m━━━━━━━━━━━━━━━━━━━━\u001b[0m\u001b[37m\u001b[0m \u001b[1m20s\u001b[0m 29ms/step - loss: 0.7337\n",
            "Epoch 20/20\n",
            "\u001b[1m462/463\u001b[0m \u001b[32m━━━━━━━━━━━━━━━━━━━\u001b[0m\u001b[37m━\u001b[0m \u001b[1m0s\u001b[0m 24ms/step - loss: 0.7017\n",
            " mean perplexity: 55288.358291725504 \n",
            "\n",
            "Saved new model!\n",
            "\u001b[1m463/463\u001b[0m \u001b[32m━━━━━━━━━━━━━━━━━━━━\u001b[0m\u001b[37m\u001b[0m \u001b[1m13s\u001b[0m 29ms/step - loss: 0.7016\n"
          ]
        }
      ],
      "source": [
        "# fiteamos, nótese el agregado del callback con su inicialización. El batch_size lo podemos seleccionar a mano\n",
        "# en general, lo mejor es escoger el batch más grande posible que minimice el tiempo de cada época.\n",
        "# En la variable `history_ppl` se guardarán los valores de perplejidad para cada época.\n",
        "history_ppl = []\n",
        "hist = model.fit(X, y, epochs=20, callbacks=[PplCallback(tokenized_sentences_val,history_ppl)], batch_size=128)\n"
      ]
    },
    {
      "cell_type": "code",
      "source": [
        "import matplotlib.pyplot as plt\n",
        "import seaborn as sns\n",
        "\n",
        "# Podemos graficar la evolución de la perplejidad con las épocas.\n",
        "# Recordar que el valor de perplejidad del modelo trivial es el tamaño del vocabulario.\n",
        "epoch_count = range(1, len(history_ppl) + 1)\n",
        "sns.lineplot(x=epoch_count,  y=history_ppl)\n",
        "plt.show()"
      ],
      "metadata": {
        "colab": {
          "base_uri": "https://localhost:8080/",
          "height": 435
        },
        "id": "1SwIiBp2ZuzI",
        "outputId": "ab4b483a-12d9-42a5-e435-935bf5365a90"
      },
      "execution_count": 311,
      "outputs": [
        {
          "output_type": "display_data",
          "data": {
            "text/plain": [
              "<Figure size 640x480 with 1 Axes>"
            ],
            "image/png": "[encoded data removed]"
          },
          "metadata": {}
        }
      ]
    },
    {
      "cell_type": "code",
      "source": [
        "# Cargamos el mejor modelo guardado del entrenamiento para hacer inferencia\n",
        "model = keras.models.load_model('my_model.keras')"
      ],
      "metadata": {
        "id": "jCdCE_E-Z1eb"
      },
      "execution_count": 312,
      "outputs": []
    },
    {
      "cell_type": "markdown",
      "source": [
        "Del entrenamiento del modelo, podemos ver que:\n",
        "\n",
        "* **Loss decreciente:** El valor de loss disminuye a lo largo de las épocas, lo que indica que el modelo está aprendiendo a predecir la siguiente palabra en la secuencia con mayor precisión.\n",
        "* **Perplejidad decreciente:** La perplejidad también disminuye en general.\n",
        "\n",
        "**Guardado del modelo:**\n",
        "\n",
        "El callback PplCallback guardó el modelo en las épocas 12, 13, 16, 18, y 20. Esto se debe a que la perplejidad seguía mejorando en esos puntos."
      ],
      "metadata": {
        "id": "D1cfhtQMcHOp"
      }
    },
    {
      "cell_type": "markdown",
      "source": [
        "### Paso 6: Predicción de la próxima palabra"
      ],
      "metadata": {
        "id": "LLvaqP35Z5Kq"
      }
    },
    {
      "cell_type": "markdown",
      "source": [
        "#### Paso 6.1: Generación de secuencias"
      ],
      "metadata": {
        "id": "AaoLUOGJaegs"
      }
    },
    {
      "cell_type": "code",
      "source": [
        "def generate_seq(model, tokenizer, seed_text, max_length, n_words):\n",
        "    \"\"\"\n",
        "        Exec model sequence prediction\n",
        "\n",
        "        Args:\n",
        "            model (keras): modelo entrenado\n",
        "            tokenizer (keras tokenizer): tonenizer utilizado en el preprocesamiento\n",
        "            seed_text (string): texto de entrada (input_seq)\n",
        "            max_length (int): máxima longitud de la sequencia de entrada\n",
        "            n_words (int): números de palabras a agregar a la sequencia de entrada\n",
        "        returns:\n",
        "            output_text (string): sentencia con las \"n_words\" agregadas\n",
        "    \"\"\"\n",
        "    output_text = seed_text\n",
        "\t  # generate a fixed number of words\n",
        "    for _ in range(n_words):\n",
        "\t\t  # Tokenizamos\n",
        "      encoded = tokenizer.texts_to_sequences([output_text])[0]\n",
        "\n",
        "\t\t  # Si tienen distinto largo\n",
        "      encoded = pad_sequences([encoded], maxlen=max_length, padding='pre')\n",
        "\n",
        "\t\t  # Predicción softmax\n",
        "      y_hat = np.argmax(model.predict(encoded)[0,-1,:])\n",
        "\n",
        "      # Vamos concatenando las predicciones\n",
        "      out_word = ''\n",
        "\n",
        "      # Debemos buscar en el vocabulario la palabra\n",
        "      # que corresopnde al indice (y_hat) predicho por le modelo\n",
        "      for word, index in tokenizer.word_index.items():\n",
        "        if index == y_hat:\n",
        "          out_word = word\n",
        "          break\n",
        "\n",
        "\t\t  # Agrego las palabras a la frase predicha\n",
        "      output_text += ' ' + out_word\n",
        "\n",
        "    return output_text"
      ],
      "metadata": {
        "id": "YnFxguBfabrv"
      },
      "execution_count": 313,
      "outputs": []
    },
    {
      "cell_type": "code",
      "source": [
        "input_text='el fantasma'\n",
        "\n",
        "generate_seq(model, tok, input_text, max_length=max_context_size, n_words=10)"
      ],
      "metadata": {
        "colab": {
          "base_uri": "https://localhost:8080/",
          "height": 209
        },
        "id": "ZGfnQxccaoPo",
        "outputId": "79796986-1104-41b5-e01d-0e6b0a29cf51"
      },
      "execution_count": 320,
      "outputs": [
        {
          "output_type": "stream",
          "name": "stdout",
          "text": [
            "\u001b[1m1/1\u001b[0m \u001b[32m━━━━━━━━━━━━━━━━━━━━\u001b[0m\u001b[37m\u001b[0m \u001b[1m0s\u001b[0m 22ms/step\n",
            "\u001b[1m1/1\u001b[0m \u001b[32m━━━━━━━━━━━━━━━━━━━━\u001b[0m\u001b[37m\u001b[0m \u001b[1m0s\u001b[0m 22ms/step\n",
            "\u001b[1m1/1\u001b[0m \u001b[32m━━━━━━━━━━━━━━━━━━━━\u001b[0m\u001b[37m\u001b[0m \u001b[1m0s\u001b[0m 25ms/step\n",
            "\u001b[1m1/1\u001b[0m \u001b[32m━━━━━━━━━━━━━━━━━━━━\u001b[0m\u001b[37m\u001b[0m \u001b[1m0s\u001b[0m 24ms/step\n",
            "\u001b[1m1/1\u001b[0m \u001b[32m━━━━━━━━━━━━━━━━━━━━\u001b[0m\u001b[37m\u001b[0m \u001b[1m0s\u001b[0m 22ms/step\n",
            "\u001b[1m1/1\u001b[0m \u001b[32m━━━━━━━━━━━━━━━━━━━━\u001b[0m\u001b[37m\u001b[0m \u001b[1m0s\u001b[0m 24ms/step\n",
            "\u001b[1m1/1\u001b[0m \u001b[32m━━━━━━━━━━━━━━━━━━━━\u001b[0m\u001b[37m\u001b[0m \u001b[1m0s\u001b[0m 25ms/step\n",
            "\u001b[1m1/1\u001b[0m \u001b[32m━━━━━━━━━━━━━━━━━━━━\u001b[0m\u001b[37m\u001b[0m \u001b[1m0s\u001b[0m 26ms/step\n",
            "\u001b[1m1/1\u001b[0m \u001b[32m━━━━━━━━━━━━━━━━━━━━\u001b[0m\u001b[37m\u001b[0m \u001b[1m0s\u001b[0m 22ms/step\n",
            "\u001b[1m1/1\u001b[0m \u001b[32m━━━━━━━━━━━━━━━━━━━━\u001b[0m\u001b[37m\u001b[0m \u001b[1m0s\u001b[0m 22ms/step\n"
          ]
        },
        {
          "output_type": "execute_result",
          "data": {
            "text/plain": [
              "'el fantasma ha sido visto por varios miembros de mi familia que'"
            ],
            "application/vnd.google.colaboratory.intrinsic+json": {
              "type": "string"
            }
          },
          "metadata": {},
          "execution_count": 320
        }
      ]
    },
    {
      "cell_type": "markdown",
      "source": [
        "El modelo de predicción de secuencias basado en LSTM muestra un desempeño prometedor al generar texto coherente y relevante dentro del contexto del corpus El fantasma de Canterville. En este caso, a partir de la frase inicial **\"el fantasma\"**, el modelo produce una continuación razonable: **\"ha sido visto por varios miembros de mi familia que\"**. Esto indica que el modelo ha aprendido relaciones semánticas y patrones sintácticos del texto de entrenamiento."
      ],
      "metadata": {
        "id": "4JxTDCTIdmD_"
      }
    },
    {
      "cell_type": "markdown",
      "source": [
        "#### Paso 6.2: Beam search y muestreo aleatorio"
      ],
      "metadata": {
        "id": "-XcHPmoMbKSo"
      }
    },
    {
      "cell_type": "code",
      "source": [
        "# funcionalidades para hacer encoding y decoding\n",
        "\n",
        "def encode(text,max_length=max_context_size):\n",
        "\n",
        "    encoded = tok.texts_to_sequences([text])[0]\n",
        "    encoded = pad_sequences([encoded], maxlen=max_length, padding='pre')\n",
        "\n",
        "    return encoded\n",
        "\n",
        "def decode(seq):\n",
        "    return tok.sequences_to_texts([seq])"
      ],
      "metadata": {
        "id": "S0LQsXmjbQo1"
      },
      "execution_count": 321,
      "outputs": []
    },
    {
      "cell_type": "code",
      "source": [
        "from scipy.special import softmax\n",
        "\n",
        "# función que selecciona candidatos para el beam search\n",
        "def select_candidates(pred,num_beams,vocab_size,history_probs,history_tokens,temp,mode):\n",
        "\n",
        "  # colectar todas las probabilidades para la siguiente búsqueda\n",
        "  pred_large = []\n",
        "\n",
        "  for idx,pp in enumerate(pred):\n",
        "    pred_large.extend(np.log(pp+1E-10)+history_probs[idx])\n",
        "\n",
        "  pred_large = np.array(pred_large)\n",
        "\n",
        "  # criterio de selección\n",
        "  if mode == 'det':\n",
        "    idx_select = np.argsort(pred_large)[::-1][:num_beams] # beam search determinista\n",
        "  elif mode == 'sto':\n",
        "    idx_select = np.random.choice(np.arange(pred_large.shape[0]), num_beams, p=softmax(pred_large/temp)) # beam search con muestreo aleatorio\n",
        "  else:\n",
        "    raise ValueError(f'Wrong selection mode. {mode} was given. det and sto are supported.')\n",
        "\n",
        "  # traducir a índices de token en el vocabulario\n",
        "  new_history_tokens = np.concatenate((np.array(history_tokens)[idx_select//vocab_size],\n",
        "                        np.array([idx_select%vocab_size]).T),\n",
        "                      axis=1)\n",
        "\n",
        "  # devolver el producto de las probabilidades (log) y la secuencia de tokens seleccionados\n",
        "  return pred_large[idx_select.astype(int)], new_history_tokens.astype(int)\n",
        "\n",
        "\n",
        "def beam_search(model,num_beams,num_words,input,temp=1,mode='det'):\n",
        "\n",
        "    # first iteration\n",
        "\n",
        "    # encode\n",
        "    encoded = encode(input)\n",
        "\n",
        "    # first prediction\n",
        "    y_hat = model.predict(encoded,verbose=0)[0,-1,:]\n",
        "\n",
        "    # get vocabulary size\n",
        "    vocab_size = y_hat.shape[0]\n",
        "\n",
        "    # initialize history\n",
        "    history_probs = [0]*num_beams\n",
        "    history_tokens = [encoded[0]]*num_beams\n",
        "\n",
        "    # select num_beams candidates\n",
        "    history_probs, history_tokens = select_candidates([y_hat],\n",
        "                                        num_beams,\n",
        "                                        vocab_size,\n",
        "                                        history_probs,\n",
        "                                        history_tokens,\n",
        "                                        temp,\n",
        "                                        mode)\n",
        "\n",
        "    # beam search loop\n",
        "    for i in range(num_words-1):\n",
        "\n",
        "      preds = []\n",
        "\n",
        "      for hist in history_tokens:\n",
        "\n",
        "        # actualizar secuencia de tokens\n",
        "        input_update = np.array([hist[i+1:]]).copy()\n",
        "\n",
        "        # predicción\n",
        "        y_hat = model.predict(input_update,verbose=0)[0,-1,:]\n",
        "\n",
        "        preds.append(y_hat)\n",
        "\n",
        "      history_probs, history_tokens = select_candidates(preds,\n",
        "                                                        num_beams,\n",
        "                                                        vocab_size,\n",
        "                                                        history_probs,\n",
        "                                                        history_tokens,\n",
        "                                                        temp,\n",
        "                                                        mode)\n",
        "\n",
        "    return history_tokens"
      ],
      "metadata": {
        "id": "T8oqs7czbTbG"
      },
      "execution_count": 322,
      "outputs": []
    },
    {
      "cell_type": "code",
      "source": [
        "# predicción con beam search.\n",
        "# Se pueden cambiar los modos entre 'det' (determinista) y\n",
        "# 'sto' (estocástico)\n",
        "# para el caso estocástico también se puede variar la temperatura\n",
        "salidas = beam_search(model,num_beams=10,num_words=6,input=\"el fantasma\",temp=1,mode='sto')"
      ],
      "metadata": {
        "id": "H-KiUIMYbYCL"
      },
      "execution_count": 326,
      "outputs": []
    },
    {
      "cell_type": "code",
      "source": [
        "# tenemos `num_beams` salidas ordenadas de mayor a menor likelihood\n",
        "salidas.shape"
      ],
      "metadata": {
        "colab": {
          "base_uri": "https://localhost:8080/"
        },
        "id": "gqvgJu5DbkNw",
        "outputId": "f0a30177-5f46-4aad-f970-0ecc9e732b51"
      },
      "execution_count": 327,
      "outputs": [
        {
          "output_type": "execute_result",
          "data": {
            "text/plain": [
              "(10, 57)"
            ]
          },
          "metadata": {},
          "execution_count": 327
        }
      ]
    },
    {
      "cell_type": "code",
      "source": [
        "# veamos las salidas\n",
        "decode(salidas[0])"
      ],
      "metadata": {
        "colab": {
          "base_uri": "https://localhost:8080/"
        },
        "id": "BODsKQiObmXT",
        "outputId": "e342da06-351b-41da-e39d-589c759ef165"
      },
      "execution_count": 328,
      "outputs": [
        {
          "output_type": "execute_result",
          "data": {
            "text/plain": [
              "['el fantasma ha sido visto por varios miembros']"
            ]
          },
          "metadata": {},
          "execution_count": 328
        }
      ]
    },
    {
      "cell_type": "markdown",
      "source": [
        "El uso de Beam Search con muestreo aleatorio permitió generar texto coherente y diverso, manteniendo relevancia contextual. La frase generada, \"el fantasma ha sido visto por varios miembros\", demuestra que el modelo puede explorar alternativas probabilísticas sin perder fluidez."
      ],
      "metadata": {
        "id": "vCfDAw9GfzGW"
      }
    },
    {
      "cell_type": "markdown",
      "source": [
        "### Conclusión"
      ],
      "metadata": {
        "id": "pYcgS5qsg0ES"
      }
    },
    {
      "cell_type": "markdown",
      "source": [
        "El entrenamiento fue exitoso, demostrando que el modelo basado en LSTM logró aprender patrones semánticos y sintácticos del corpus, generando texto coherente y contextual. Las estrategias de predicción directa y Beam Search mostraron ser efectivas para complementar la capacidad del modelo, permitiendo tanto continuidad lógica como diversidad en las secuencias generadas. Esto evidencia el potencial de las LSTM combinadas con técnicas avanzadas de generación para resolver tareas de predicción de texto de manera eficiente."
      ],
      "metadata": {
        "id": "8VG4z7Ang2vw"
      }
    }
  ],
  "metadata": {
    "accelerator": "GPU",
    "colab": {
      "gpuType": "T4",
      "provenance": [],
      "authorship_tag": "ABX9TyNH6YXofpoiJsjkS9TcM7Pu",
      "include_colab_link": true
    },
    "kernelspec": {
      "display_name": "Python 3",
      "name": "python3"
    },
    "language_info": {
      "name": "python"
    }
  },
  "nbformat": 4,
  "nbformat_minor": 0
}